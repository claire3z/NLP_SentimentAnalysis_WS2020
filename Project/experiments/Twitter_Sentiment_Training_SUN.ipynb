{
 "cells": [
  {
   "cell_type": "markdown",
   "metadata": {},
   "source": [
    "# Twitter Sentiment Analysis for Stock Investment\n",
    "\n",
    "\n",
    "**Claire Zhao Sun**\n",
    "- Matrikelnummer: 3630998\n",
    "- Msc. Scientific Computing, Heidelberg University\n",
    "- pz237@stud.uni-heidelberg.de\n",
    "\n",
    "**Last Modified: 2021.02.01**\n"
   ]
  },
  {
   "cell_type": "code",
   "execution_count": 1,
   "metadata": {},
   "outputs": [],
   "source": [
    "import numpy as np\n",
    "import pandas as pd\n",
    "import matplotlib.pyplot as plt\n",
    "import seaborn as sns\n",
    "\n",
    "import pickle\n",
    "import time\n",
    "from sklearn.metrics import confusion_matrix, classification_report, f1_score\n",
    "\n",
    "# Set dataframe display options - displaying all contents in all columns\n",
    "pd.set_option('display.max_columns', None)\n",
    "pd.set_option('display.expand_frame_repr', False)\n",
    "pd.set_option('display.max_colwidth', None)\n",
    "\n",
    "from IPython.display import Markdown"
   ]
  },
  {
   "cell_type": "markdown",
   "metadata": {},
   "source": [
    "## 1. Load and Preprocess Training Data"
   ]
  },
  {
   "cell_type": "code",
   "execution_count": 2,
   "metadata": {},
   "outputs": [
    {
     "name": "stderr",
     "output_type": "stream",
     "text": [
      "C:\\Users\\clair\\Desktop\\WS2020\\NLP\\Project\\modules\\preprocessing_SUN.py:36: UserWarning: DataFrame columns are not unique, some columns will be omitted.\n",
      "  dict_emoticon = pd.read_csv('./modules/emoticons.csv', header='infer', delimiter='\\t', index_col=0).T.to_dict()\n",
      "C:\\ProgramData\\Anaconda3\\lib\\site-packages\\spacy\\util.py:271: UserWarning: [W031] Model 'en_core_web_sm' (2.2.0) requires spaCy v2.2 and is incompatible with the current spaCy version (2.3.0). This may lead to unexpected results or runtime errors. To resolve this, download a newer compatible model or retrain your custom model with the current spaCy version. For more details and available updates, run: python -m spacy validate\n",
      "  warnings.warn(warn_msg)\n"
     ]
    }
   ],
   "source": [
    "from modules.preprocessing_SUN import tweet_preprocessing, tweet_tokenizing, display_stats\n",
    "import ast # bytes to string\n",
    "from sklearn.model_selection import train_test_split"
   ]
  },
  {
   "cell_type": "code",
   "execution_count": 3,
   "metadata": {},
   "outputs": [
    {
     "data": {
      "text/html": [
       "<div>\n",
       "<style scoped>\n",
       "    .dataframe tbody tr th:only-of-type {\n",
       "        vertical-align: middle;\n",
       "    }\n",
       "\n",
       "    .dataframe tbody tr th {\n",
       "        vertical-align: top;\n",
       "    }\n",
       "\n",
       "    .dataframe thead th {\n",
       "        text-align: right;\n",
       "    }\n",
       "</style>\n",
       "<table border=\"1\" class=\"dataframe\">\n",
       "  <thead>\n",
       "    <tr style=\"text-align: right;\">\n",
       "      <th></th>\n",
       "      <th>id</th>\n",
       "      <th>text</th>\n",
       "      <th>sentiment</th>\n",
       "      <th>text_unicode</th>\n",
       "      <th>text_clean</th>\n",
       "      <th>token_counts</th>\n",
       "      <th>label</th>\n",
       "    </tr>\n",
       "  </thead>\n",
       "  <tbody>\n",
       "    <tr>\n",
       "      <th>21763</th>\n",
       "      <td>264180884566069248</td>\n",
       "      <td>b\"I'm getting off work tomorrow. Then coming home to watch the Heat win and talk shit.\"</td>\n",
       "      <td>positive</td>\n",
       "      <td>I'm getting off work tomorrow. Then coming home to watch the Heat win and talk shit.</td>\n",
       "      <td>Im getting off work tomorrow Then coming home to watch the Heat win and talk shit</td>\n",
       "      <td>16</td>\n",
       "      <td>2</td>\n",
       "    </tr>\n",
       "    <tr>\n",
       "      <th>18572</th>\n",
       "      <td>96619333626769408</td>\n",
       "      <td>b'RT @StevenTDennis: Today *very* rare day when Democrats will get healthier on their Club for Growth scorecards than most Republicans.'</td>\n",
       "      <td>positive</td>\n",
       "      <td>RT @StevenTDennis: Today *very* rare day when Democrats will get healthier on their Club for Growth scorecards than most Republicans.</td>\n",
       "      <td>RT USERNAME Today very rare day when Democrats will get healthier on their Club for Growth scorecards than most Republicans</td>\n",
       "      <td>20</td>\n",
       "      <td>2</td>\n",
       "    </tr>\n",
       "    <tr>\n",
       "      <th>21389</th>\n",
       "      <td>264130222163640320</td>\n",
       "      <td>b'#SEC on @SDS - Is the SEC behind Alabama this Saturday night? http://t.co/QPN7LKEe'</td>\n",
       "      <td>neutral</td>\n",
       "      <td>#SEC on @SDS - Is the SEC behind Alabama this Saturday night? http://t.co/QPN7LKEe</td>\n",
       "      <td>second on USERNAME Is the second behind Alabama this Saturday night</td>\n",
       "      <td>11</td>\n",
       "      <td>1</td>\n",
       "    </tr>\n",
       "    <tr>\n",
       "      <th>17808</th>\n",
       "      <td>258221308767256577</td>\n",
       "      <td>b'The Clown has broken the record and become the 1st film to win 12 Brazilian Academy Awards yesterday. http://t.co/mbSGY3kt'</td>\n",
       "      <td>neutral</td>\n",
       "      <td>The Clown has broken the record and become the 1st film to win 12 Brazilian Academy Awards yesterday. http://t.co/mbSGY3kt</td>\n",
       "      <td>The Clown has broken the record and become the first film to win 12 Brazilian Academy Awards yesterday</td>\n",
       "      <td>18</td>\n",
       "      <td>1</td>\n",
       "    </tr>\n",
       "    <tr>\n",
       "      <th>14744</th>\n",
       "      <td>263718726627627009</td>\n",
       "      <td>b\"@heeydems Do you know ?they may not but we're so fond of all the countries . Uh,happy Republic Day .\"</td>\n",
       "      <td>positive</td>\n",
       "      <td>@heeydems Do you know ?they may not but we're so fond of all the countries . Uh,happy Republic Day .</td>\n",
       "      <td>USERNAME Do you know they may not but were so fond of all the countries Uhhappy Republic Day</td>\n",
       "      <td>18</td>\n",
       "      <td>2</td>\n",
       "    </tr>\n",
       "  </tbody>\n",
       "</table>\n",
       "</div>"
      ],
      "text/plain": [
       "                       id                                                                                                                                      text sentiment                                                                                                                           text_unicode                                                                                                                   text_clean  token_counts  label\n",
       "21763  264180884566069248                                                   b\"I'm getting off work tomorrow. Then coming home to watch the Heat win and talk shit.\"  positive                                                   I'm getting off work tomorrow. Then coming home to watch the Heat win and talk shit.                                            Im getting off work tomorrow Then coming home to watch the Heat win and talk shit            16      2\n",
       "18572   96619333626769408  b'RT @StevenTDennis: Today *very* rare day when Democrats will get healthier on their Club for Growth scorecards than most Republicans.'  positive  RT @StevenTDennis: Today *very* rare day when Democrats will get healthier on their Club for Growth scorecards than most Republicans.  RT USERNAME Today very rare day when Democrats will get healthier on their Club for Growth scorecards than most Republicans            20      2\n",
       "21389  264130222163640320                                                     b'#SEC on @SDS - Is the SEC behind Alabama this Saturday night? http://t.co/QPN7LKEe'   neutral                                                     #SEC on @SDS - Is the SEC behind Alabama this Saturday night? http://t.co/QPN7LKEe                                                          second on USERNAME Is the second behind Alabama this Saturday night            11      1\n",
       "17808  258221308767256577             b'The Clown has broken the record and become the 1st film to win 12 Brazilian Academy Awards yesterday. http://t.co/mbSGY3kt'   neutral             The Clown has broken the record and become the 1st film to win 12 Brazilian Academy Awards yesterday. http://t.co/mbSGY3kt                       The Clown has broken the record and become the first film to win 12 Brazilian Academy Awards yesterday            18      1\n",
       "14744  263718726627627009                                   b\"@heeydems Do you know ?they may not but we're so fond of all the countries . Uh,happy Republic Day .\"  positive                                   @heeydems Do you know ?they may not but we're so fond of all the countries . Uh,happy Republic Day .                                 USERNAME Do you know they may not but were so fond of all the countries Uhhappy Republic Day            18      2"
      ]
     },
     "execution_count": 3,
     "metadata": {},
     "output_type": "execute_result"
    }
   ],
   "source": [
    "# Load training data with raw tweets \n",
    "df = pd.read_csv('data/Twitter_Training_all.csv',na_filter=False)\n",
    "df.drop_duplicates(inplace=True)\n",
    "df['text_unicode'] = df['text'].apply(lambda x:ast.literal_eval(x).decode('utf-8'))\n",
    "\n",
    "# Apply preprocessing (default: no stop words removal, no spelling correction)\n",
    "df['text_clean'] = df['text_unicode'].apply(tweet_preprocessing)\n",
    "df['token_counts'] = df['text_clean'].apply(tweet_tokenizing).apply(len)\n",
    "\n",
    "# Convert sentiment label to int\n",
    "sentiment_to_label = {'negative':0, 'neutral': 1, 'positive':2}\n",
    "sentiments = ['negative', 'neutral', 'positive']\n",
    "df['label'] = df['sentiment'].apply(lambda x: sentiment_to_label[x]).astype(int)\n",
    "\n",
    "# Split dataset into training (80%), validation (10%) and test set(10%) by stratification to deal with class imbalance\n",
    "df_train, df_ = train_test_split(df,test_size = 0.2, stratify=df['sentiment'], shuffle = True, random_state=100) \n",
    "df_test, df_valid = train_test_split(df_,test_size = 0.5, stratify=df_['sentiment'], shuffle = True, random_state=100) \n",
    "\n",
    "# Save training data for future reproducible use\n",
    "df_train.to_csv('data/Twitter_train.csv',index=False)\n",
    "df_valid.to_csv('data/Twitter_valid.csv',index=False)\n",
    "df_test.to_csv('data/Twitter_test.csv',index=False)\n",
    "\n",
    "# Display samples\n",
    "df_train.head(5)"
   ]
  },
  {
   "cell_type": "code",
   "execution_count": null,
   "metadata": {},
   "outputs": [],
   "source": []
  },
  {
   "cell_type": "markdown",
   "metadata": {},
   "source": [
    "#### Exploratory Data Analysis on Training Dataset"
   ]
  },
  {
   "cell_type": "code",
   "execution_count": 6,
   "metadata": {},
   "outputs": [
    {
     "name": "stderr",
     "output_type": "stream",
     "text": [
      "C:\\ProgramData\\Anaconda3\\lib\\site-packages\\seaborn\\distributions.py:2557: FutureWarning: `distplot` is a deprecated function and will be removed in a future version. Please adapt your code to use either `displot` (a figure-level function with similar flexibility) or `histplot` (an axes-level function for histograms).\n",
      "  warnings.warn(msg, FutureWarning)\n"
     ]
    },
    {
     "data": {
      "image/png": "[encoded data removed]",
      "text/plain": [
       "<Figure size 1080x360 with 3 Axes>"
      ]
     },
     "metadata": {
      "needs_background": "light"
     },
     "output_type": "display_data"
    }
   ],
   "source": [
    "fig, ax = plt.subplots(1,3,figsize=(15,5),tight_layout=True)\n",
    "fig.suptitle('Overview of Training Dataset')\n",
    "\n",
    "data = np.unique(df.sentiment, return_counts=True)[1]\n",
    "class_names = np.unique(df.sentiment, return_counts=True)[0]\n",
    "\n",
    "ax[0].set_title(\"Num of Tweets by Sentiment\")\n",
    "ax[0].bar([0,1,2], data, tick_label=sentiments, color=['C0','C1','C2']);\n",
    "\n",
    "ax[1].set_title(\"Sentiment Class Distribution\")\n",
    "ax[1].pie(data, labels= sentiments, autopct='%1.1f%%',shadow=True, startangle=90,explode=(0.1,0.1, 0.1))\n",
    "\n",
    "ax[2].set_xlabel('Token count')\n",
    "ax[2] = sns.distplot(df['token_counts'])\n",
    "ax[2].set_title(f\"Max. length of tokens:{df['token_counts'].max()}\");\n",
    "\n"
   ]
  },
  {
   "cell_type": "markdown",
   "metadata": {},
   "source": [
    "***Oberservations:***\n",
    "- *The training dataset is imbalanced in its class distribution - need to perform SMOTE (Synthetic Minority Oversampling Technique)*\n"
   ]
  },
  {
   "cell_type": "markdown",
   "metadata": {},
   "source": [
    "# "
   ]
  },
  {
   "cell_type": "markdown",
   "metadata": {},
   "source": [
    "## 2. Lexicon and Rule-based Methods"
   ]
  },
  {
   "cell_type": "code",
   "execution_count": 8,
   "metadata": {},
   "outputs": [
    {
     "name": "stdout",
     "output_type": "stream",
     "text": [
      "Sentiment Classification by Vader:\n",
      "               precision    recall  f1-score   support\n",
      "\n",
      "    negative       0.48      0.49      0.49      4033\n",
      "     neutral       0.50      0.39      0.44      6232\n",
      "    positive       0.64      0.73      0.68      9388\n",
      "\n",
      "    accuracy                           0.57     19653\n",
      "   macro avg       0.54      0.54      0.53     19653\n",
      "weighted avg       0.56      0.57      0.56     19653\n",
      "\n",
      "Sentiment Classification by TextBlob:\n",
      "               precision    recall  f1-score   support\n",
      "\n",
      "    negative       0.40      0.33      0.36      4033\n",
      "     neutral       0.42      0.45      0.43      6232\n",
      "    positive       0.63      0.64      0.64      9388\n",
      "\n",
      "    accuracy                           0.52     19653\n",
      "   macro avg       0.48      0.48      0.48     19653\n",
      "weighted avg       0.52      0.52      0.52     19653\n",
      "\n"
     ]
    }
   ],
   "source": [
    "from textblob import TextBlob\n",
    "from vaderSentiment.vaderSentiment import SentimentIntensityAnalyzer\n",
    "VaderAnalyzer = SentimentIntensityAnalyzer()\n",
    "\n",
    "df['score_Vader'] = df['text_clean'].apply(lambda x: VaderAnalyzer.polarity_scores(x)['compound'])\n",
    "# Compound score value range to corresponding sentiments https://github.com/cjhutto/vaderSentiment\n",
    "df['Vader']=df['score_Vader'].apply(lambda x : 'negative' if x < -0.05 else ('positive' if x > 0.05 else 'neutral'))\n",
    "\n",
    "df['score_TextBlob'] = df['text_clean'].apply(lambda x: TextBlob(x).sentiment.polarity)\n",
    "df['TextBlob']=df['score_TextBlob'].apply(lambda x : 'negative' if x < -0.05 else ('positive' if x > 0.05 else 'neutral'))\n",
    "\n",
    "print('Sentiment Classification by Vader:\\n', classification_report(df.sentiment,df.Vader))\n",
    "print('Sentiment Classification by TextBlob:\\n', classification_report(df.sentiment,df.TextBlob))"
   ]
  },
  {
   "cell_type": "code",
   "execution_count": 9,
   "metadata": {},
   "outputs": [
    {
     "data": {
      "image/png": "[encoded data removed]",
      "text/plain": [
       "<Figure size 1152x360 with 3 Axes>"
      ]
     },
     "metadata": {
      "needs_background": "light"
     },
     "output_type": "display_data"
    }
   ],
   "source": [
    "fig, ax = plt.subplots(1,3,figsize=(16,5),tight_layout=True)\n",
    "fig.suptitle('Comparison of Vader vs TextBlob')\n",
    "\n",
    "ax[0].set_title('Vader Kernel Density Estimates')\n",
    "ax[1].set_title('TextBlob Kernel Density Estimates')\n",
    "\n",
    "for i in range(3):\n",
    "    sns.kdeplot(x=df[df.sentiment==sentiments[i]]['score_Vader'],ax=ax[0], label=sentiments[i],legend=True)\n",
    "    sns.kdeplot(x=df[df.sentiment==sentiments[i]]['score_TextBlob'],ax=ax[1])\n",
    "fig.legend(bbox_to_anchor=(0, 0.7))\n",
    "ax[0].set_xlabel('Sentiment Scores')\n",
    "ax[1].set_xlabel('Sentiment Scores')\n",
    "\n",
    "\n",
    "ax[2].set_title('Confusion Matrix')\n",
    "cm = confusion_matrix(df['Vader'],df['TextBlob'])\n",
    "hmap = sns.heatmap(cm, annot=True, fmt='d',ax=ax[2], cmap=\"Blues\",cbar=False)\n",
    "hmap.yaxis.set_ticklabels(sentiments, rotation=0, ha='right')\n",
    "hmap.xaxis.set_ticklabels(sentiments, rotation=0, ha='right')\n",
    "hmap.set_ylabel('Vader')\n",
    "hmap.set_xlabel('TextBlob');\n"
   ]
  },
  {
   "cell_type": "markdown",
   "metadata": {},
   "source": [
    "***Oberservations:***\n",
    "- *Sentiment classification by Lexicon-based TextBlob performed poorly with only macro F1 score at only 46%, whereas rule-based Vader performed slightly better at 52%.*  \n",
    "- *From the Kernel Density Estimates, we can see that sentiment scores obtained from both methods are not immediately separable according to sentiment class labels, i.e. peaks around 0 for all three classes*\n",
    "- *We will include Vader in our ensemble model while rejecting TextBlob due to inadequate performance*\n"
   ]
  },
  {
   "cell_type": "code",
   "execution_count": 10,
   "metadata": {},
   "outputs": [
    {
     "name": "stderr",
     "output_type": "stream",
     "text": [
      "C:\\ProgramData\\Anaconda3\\lib\\site-packages\\ipykernel_launcher.py:2: SettingWithCopyWarning: \n",
      "A value is trying to be set on a copy of a slice from a DataFrame.\n",
      "Try using .loc[row_indexer,col_indexer] = value instead\n",
      "\n",
      "See the caveats in the documentation: https://pandas.pydata.org/pandas-docs/stable/user_guide/indexing.html#returning-a-view-versus-a-copy\n",
      "  \n",
      "C:\\ProgramData\\Anaconda3\\lib\\site-packages\\ipykernel_launcher.py:3: SettingWithCopyWarning: \n",
      "A value is trying to be set on a copy of a slice from a DataFrame.\n",
      "Try using .loc[row_indexer,col_indexer] = value instead\n",
      "\n",
      "See the caveats in the documentation: https://pandas.pydata.org/pandas-docs/stable/user_guide/indexing.html#returning-a-view-versus-a-copy\n",
      "  This is separate from the ipykernel package so we can avoid doing imports until\n",
      "C:\\ProgramData\\Anaconda3\\lib\\site-packages\\ipykernel_launcher.py:4: SettingWithCopyWarning: \n",
      "A value is trying to be set on a copy of a slice from a DataFrame.\n",
      "Try using .loc[row_indexer,col_indexer] = value instead\n",
      "\n",
      "See the caveats in the documentation: https://pandas.pydata.org/pandas-docs/stable/user_guide/indexing.html#returning-a-view-versus-a-copy\n",
      "  after removing the cwd from sys.path.\n"
     ]
    },
    {
     "data": {
      "text/plain": [
       "(Index(['id', 'text', 'sentiment', 'text_unicode', 'text_clean', 'token_counts',\n",
       "        'label', 'Vader_score', 'Vader_sentiment', 'Vader_label'],\n",
       "       dtype='object'),\n",
       " Index(['id', 'text', 'sentiment', 'text_unicode', 'text_clean', 'token_counts',\n",
       "        'label', 'Vader_score', 'Vader_sentiment', 'Vader_label'],\n",
       "       dtype='object'),\n",
       " Index(['id', 'text', 'sentiment', 'text_unicode', 'text_clean', 'token_counts',\n",
       "        'label', 'Vader_score', 'Vader_sentiment', 'Vader_label'],\n",
       "       dtype='object'))"
      ]
     },
     "execution_count": 10,
     "metadata": {},
     "output_type": "execute_result"
    }
   ],
   "source": [
    "def apply_Vader(df):\n",
    "    df['Vader_score'] = df['text_clean'].apply(lambda x: VaderAnalyzer.polarity_scores(x)['compound'])\n",
    "    df['Vader_sentiment'] = df['Vader_score'].apply(lambda x : 'negative' if x < -0.05 else ('positive' if x > 0.05 else 'neutral'))\n",
    "    df['Vader_label'] = df['Vader_sentiment'].apply(lambda x: sentiment_to_label[x]).astype(int)\n",
    "    return df\n",
    "\n",
    "apply_Vader(df_train).to_csv('data/Twitter_train.csv',index=False)\n",
    "apply_Vader(df_valid).to_csv('data/Twitter_valid.csv',index=False)\n",
    "apply_Vader(df_test).to_csv('data/Twitter_test.csv',index=False)\n",
    "\n",
    "df_train.columns,df_valid.columns,df_test.columns"
   ]
  },
  {
   "cell_type": "markdown",
   "metadata": {},
   "source": [
    "# \n",
    "## 3. ML-based Methods: NB, Logistic Regression and SVM"
   ]
  },
  {
   "cell_type": "code",
   "execution_count": 11,
   "metadata": {},
   "outputs": [
    {
     "data": {
      "text/plain": [
       "<module 'modules.ML_classifiers_SUN' from 'C:\\\\Users\\\\clair\\\\Desktop\\\\WS2020\\\\NLP\\\\Project\\\\modules\\\\ML_classifiers_SUN.py'>"
      ]
     },
     "execution_count": 11,
     "metadata": {},
     "output_type": "execute_result"
    }
   ],
   "source": [
    "from modules.ML_classifiers_SUN import WordEmbeddingVectorizer,vectorize,train_classifier\n",
    "\n",
    "from sklearn.feature_extraction.text import CountVectorizer\n",
    "from sklearn.feature_extraction.text import TfidfVectorizer\n",
    "\n",
    "from sklearn.naive_bayes import MultinomialNB\n",
    "from sklearn.linear_model import LogisticRegression, SGDClassifier\n",
    "from sklearn.svm import LinearSVC\n",
    "\n",
    "from sklearn.preprocessing import MinMaxScaler, StandardScaler, Normalizer\n",
    "from sklearn.pipeline import make_pipeline\n",
    "\n",
    "from imblearn.over_sampling import SMOTE\n",
    "\n",
    "import importlib\n",
    "import sys\n",
    "importlib.reload(sys.modules['modules.ML_classifiers_SUN'])\n"
   ]
  },
  {
   "cell_type": "code",
   "execution_count": 12,
   "metadata": {},
   "outputs": [],
   "source": [
    "# Set up training data \n",
    "corpus = df_train['text_clean'].to_list()\n",
    "\n",
    "x_train = df_train['text_clean']\n",
    "y_train = df_train['sentiment']\n",
    "\n",
    "x_valid = df_valid['text_clean']\n",
    "y_valid = df_valid['sentiment']\n"
   ]
  },
  {
   "cell_type": "code",
   "execution_count": 20,
   "metadata": {},
   "outputs": [],
   "source": [
    "def plot_f1(vectorizer,classifiers,mode): \n",
    "    \n",
    "    cols = len(classifiers)        \n",
    "    fig,ax = plt.subplots(1,cols, tight_layout=True,sharex=True,sharey=True,figsize=(15,5))\n",
    "    fig.suptitle(vectorizer+'_'+mode)\n",
    "    \n",
    "    for j in range(cols):\n",
    "        report_name = 'models/'+vectorizer+'_'+classifiers[j]+'_'+mode+'_report.csv'\n",
    "        df_report = pd.read_csv(report_name)\n",
    "        data_bar = df_report[df_report['report']=='valid'].iloc[[0,1,2],[0,3]]\n",
    "        data_line = df_report[df_report['report']=='valid'].iloc[[4]]['f1-score'].values.item()\n",
    "        ax[j].set_title(classifiers[j])\n",
    "        ax[j].set_ylabel('f1-score')\n",
    "        x = ax[j].bar(['negative','neutral','positive'],data_bar['f1-score'])\n",
    "        x[0].set_color('C0')\n",
    "        x[1].set_color('C1')\n",
    "        x[2].set_color('C2')\n",
    "        ax[j].axhline(data_line,color='C3', linestyle='dashed')\n",
    "        ax[j].annotate(f\"Macro Avg: {data_line:.3}\",(-0.3,data_line+.05))\n",
    "        ax[j].set_ylim(0,1)\n",
    "        "
   ]
  },
  {
   "cell_type": "markdown",
   "metadata": {},
   "source": [
    "### CountVectorizer"
   ]
  },
  {
   "cell_type": "code",
   "execution_count": 13,
   "metadata": {
    "scrolled": false
   },
   "outputs": [
    {
     "name": "stdout",
     "output_type": "stream",
     "text": [
      "vectorizer_fitting:  0.24s\n",
      "data_vectorization:  0.44s\n",
      "data_resampling:  418.63s\n"
     ]
    }
   ],
   "source": [
    "# Initialize vectorizers\n",
    "vectorizer = CountVectorizer(analyzer='word', min_df = 3, ngram_range = (1,1)) \n",
    "start_time = time.time()\n",
    "\n",
    "# Fit vectorizer on corpus\n",
    "vectorizer.fit(corpus)\n",
    "train_time = time.time()\n",
    "\n",
    "# Data vectorization\n",
    "x_train_vect = vectorizer.transform(x_train).toarray()\n",
    "x_valid_vect = vectorizer.transform(x_valid).toarray()\n",
    "transform_time = time.time()\n",
    "\n",
    "# Data resampling to adjust for class imbalance\n",
    "smote = SMOTE()\n",
    "x_train_res, y_train_res = smote.fit_sample(x_train_vect, y_train)\n",
    "resample_time = time.time()\n",
    "\n",
    "print(f\"vectorizer_fitting: {train_time - start_time: .2f}s\")\n",
    "print(f\"data_vectorization: {transform_time - train_time: .2f}s\")\n",
    "print(f\"data_resampling: {resample_time - transform_time: .2f}s\")\n",
    "\n",
    "# Save vectorizer\n",
    "with open('models/CountVectorizer_unigram.pickle','wb') as f:\n",
    "    pickle.dump(vectorizer, f)\n"
   ]
  },
  {
   "cell_type": "markdown",
   "metadata": {},
   "source": [
    "***Oberservations:***\n",
    "- *SMOTE resampling takes a long time.*"
   ]
  },
  {
   "cell_type": "code",
   "execution_count": 14,
   "metadata": {},
   "outputs": [
    {
     "data": {
      "text/markdown": [
       "**CountVectorizer_Unigram with Balanced Class Weight (No Resampling) **"
      ],
      "text/plain": [
       "<IPython.core.display.Markdown object>"
      ]
     },
     "metadata": {},
     "output_type": "display_data"
    },
    {
     "data": {
      "text/markdown": [
       "*Naive Bayes*"
      ],
      "text/plain": [
       "<IPython.core.display.Markdown object>"
      ]
     },
     "metadata": {},
     "output_type": "display_data"
    },
    {
     "name": "stdout",
     "output_type": "stream",
     "text": [
      "\n",
      "Training Set Performance:\n",
      "               precision    recall  f1-score   support\n",
      "\n",
      "    negative       0.61      0.78      0.69      3226\n",
      "     neutral       0.73      0.70      0.72      4986\n",
      "    positive       0.83      0.75      0.79      7510\n",
      "\n",
      "    accuracy                           0.74     15722\n",
      "   macro avg       0.72      0.74      0.73     15722\n",
      "weighted avg       0.75      0.74      0.74     15722\n",
      "\n",
      "\n",
      "Validation Set Performance:\n",
      "               precision    recall  f1-score   support\n",
      "\n",
      "    negative       0.46      0.58      0.52       404\n",
      "     neutral       0.57      0.57      0.57       623\n",
      "    positive       0.74      0.65      0.69       939\n",
      "\n",
      "    accuracy                           0.61      1966\n",
      "   macro avg       0.59      0.60      0.59      1966\n",
      "weighted avg       0.63      0.61      0.62      1966\n",
      "\n",
      "Time to train:  3.65s\n",
      "Time to predict:  0.64s\n"
     ]
    },
    {
     "data": {
      "text/markdown": [
       "*Logistic Regression*"
      ],
      "text/plain": [
       "<IPython.core.display.Markdown object>"
      ]
     },
     "metadata": {},
     "output_type": "display_data"
    },
    {
     "name": "stderr",
     "output_type": "stream",
     "text": [
      "C:\\ProgramData\\Anaconda3\\lib\\site-packages\\sklearn\\linear_model\\_logistic.py:764: ConvergenceWarning: lbfgs failed to converge (status=1):\n",
      "STOP: TOTAL NO. of ITERATIONS REACHED LIMIT.\n",
      "\n",
      "Increase the number of iterations (max_iter) or scale the data as shown in:\n",
      "    https://scikit-learn.org/stable/modules/preprocessing.html\n",
      "Please also refer to the documentation for alternative solver options:\n",
      "    https://scikit-learn.org/stable/modules/linear_model.html#logistic-regression\n",
      "  extra_warning_msg=_LOGISTIC_SOLVER_CONVERGENCE_MSG)\n"
     ]
    },
    {
     "name": "stdout",
     "output_type": "stream",
     "text": [
      "\n",
      "Training Set Performance:\n",
      "               precision    recall  f1-score   support\n",
      "\n",
      "    negative       0.80      0.95      0.87      3226\n",
      "     neutral       0.85      0.88      0.87      4986\n",
      "    positive       0.93      0.84      0.89      7510\n",
      "\n",
      "    accuracy                           0.88     15722\n",
      "   macro avg       0.86      0.89      0.87     15722\n",
      "weighted avg       0.88      0.88      0.88     15722\n",
      "\n",
      "\n",
      "Validation Set Performance:\n",
      "               precision    recall  f1-score   support\n",
      "\n",
      "    negative       0.46      0.53      0.49       404\n",
      "     neutral       0.52      0.58      0.55       623\n",
      "    positive       0.73      0.62      0.67       939\n",
      "\n",
      "    accuracy                           0.59      1966\n",
      "   macro avg       0.57      0.58      0.57      1966\n",
      "weighted avg       0.60      0.59      0.59      1966\n",
      "\n",
      "Time to train:  22.48s\n",
      "Time to predict:  0.65s\n"
     ]
    },
    {
     "data": {
      "text/markdown": [
       "*Support Vector Machine*"
      ],
      "text/plain": [
       "<IPython.core.display.Markdown object>"
      ]
     },
     "metadata": {},
     "output_type": "display_data"
    },
    {
     "name": "stderr",
     "output_type": "stream",
     "text": [
      "C:\\ProgramData\\Anaconda3\\lib\\site-packages\\sklearn\\svm\\_base.py:977: ConvergenceWarning: Liblinear failed to converge, increase the number of iterations.\n",
      "  \"the number of iterations.\", ConvergenceWarning)\n"
     ]
    },
    {
     "name": "stdout",
     "output_type": "stream",
     "text": [
      "\n",
      "Training Set Performance:\n",
      "               precision    recall  f1-score   support\n",
      "\n",
      "    negative       0.89      0.96      0.92      3226\n",
      "     neutral       0.93      0.92      0.92      4986\n",
      "    positive       0.95      0.92      0.94      7510\n",
      "\n",
      "    accuracy                           0.93     15722\n",
      "   macro avg       0.92      0.93      0.93     15722\n",
      "weighted avg       0.93      0.93      0.93     15722\n",
      "\n",
      "\n",
      "Validation Set Performance:\n",
      "               precision    recall  f1-score   support\n",
      "\n",
      "    negative       0.41      0.42      0.42       404\n",
      "     neutral       0.49      0.52      0.51       623\n",
      "    positive       0.67      0.64      0.65       939\n",
      "\n",
      "    accuracy                           0.56      1966\n",
      "   macro avg       0.52      0.53      0.53      1966\n",
      "weighted avg       0.56      0.56      0.56      1966\n",
      "\n",
      "Time to train:  1.55s\n",
      "Time to predict:  0.61s\n"
     ]
    }
   ],
   "source": [
    "display(Markdown(\"**CountVectorizer_Unigram with Balanced Class Weight (No Resampling)**\"))\n",
    "\n",
    "display(Markdown(\"*Naive Bayes*\"))\n",
    "model_save = 'models/Count_word_NB_balancedWeight.pickle'\n",
    "report_save ='models/Count_word_NB_balancedWeight_report.csv' \n",
    "classifier = MultinomialNB(fit_prior=False)\n",
    "train_classifier(classifier, x_train_vect, y_train, x_valid_vect, y_valid, model_save, report_save)\n",
    "\n",
    "\n",
    "display(Markdown(\"*Logistic Regression*\"))\n",
    "model_save = 'models/Count_word_LR_balancedWeight.pickle'\n",
    "report_save ='models/Count_word_LR_balancedWeight_report.csv' \n",
    "classifier = LogisticRegression(class_weight='balanced',max_iter=200)\n",
    "train_classifier(classifier, x_train_vect, y_train, x_valid_vect, y_valid, model_save, report_save)\n",
    "\n",
    "\n",
    "display(Markdown(\"*Support Vector Machine*\"))\n",
    "model_save = 'models/Count_word_SVM_balancedWeight.pickle'\n",
    "report_save ='models/Count_word_SVM_balancedWeight_report.csv' \n",
    "classifier = LinearSVC(class_weight='balanced',max_iter=200)\n",
    "train_classifier(classifier, x_train_vect, y_train, x_valid_vect, y_valid, model_save, report_save)\n",
    "\n"
   ]
  },
  {
   "cell_type": "code",
   "execution_count": 21,
   "metadata": {},
   "outputs": [
    {
     "data": {
      "image/png": "[encoded data removed]",
      "text/plain": [
       "<Figure size 1080x360 with 3 Axes>"
      ]
     },
     "metadata": {
      "needs_background": "light"
     },
     "output_type": "display_data"
    }
   ],
   "source": [
    "plot_f1(vectorizer='Count_word',classifiers=['NB','LR','SVM'],mode='balancedWeight')"
   ]
  },
  {
   "cell_type": "code",
   "execution_count": 23,
   "metadata": {
    "scrolled": false
   },
   "outputs": [
    {
     "data": {
      "text/markdown": [
       "**CountVectorizer_Unigram with SMOTE Resampling**"
      ],
      "text/plain": [
       "<IPython.core.display.Markdown object>"
      ]
     },
     "metadata": {},
     "output_type": "display_data"
    },
    {
     "data": {
      "text/markdown": [
       "*Naive Bayes*"
      ],
      "text/plain": [
       "<IPython.core.display.Markdown object>"
      ]
     },
     "metadata": {},
     "output_type": "display_data"
    },
    {
     "name": "stdout",
     "output_type": "stream",
     "text": [
      "\n",
      "Training Set Performance:\n",
      "               precision    recall  f1-score   support\n",
      "\n",
      "    negative       0.72      0.76      0.74      7510\n",
      "     neutral       0.71      0.69      0.70      7510\n",
      "    positive       0.77      0.74      0.75      7510\n",
      "\n",
      "    accuracy                           0.73     22530\n",
      "   macro avg       0.73      0.73      0.73     22530\n",
      "weighted avg       0.73      0.73      0.73     22530\n",
      "\n",
      "\n",
      "Validation Set Performance:\n",
      "               precision    recall  f1-score   support\n",
      "\n",
      "    negative       0.46      0.60      0.52       404\n",
      "     neutral       0.55      0.56      0.56       623\n",
      "    positive       0.74      0.64      0.68       939\n",
      "\n",
      "    accuracy                           0.61      1966\n",
      "   macro avg       0.58      0.60      0.59      1966\n",
      "weighted avg       0.62      0.61      0.61      1966\n",
      "\n",
      "Time to train:  5.03s\n",
      "Time to predict:  0.83s\n"
     ]
    },
    {
     "data": {
      "text/markdown": [
       "*Logistic Regression*"
      ],
      "text/plain": [
       "<IPython.core.display.Markdown object>"
      ]
     },
     "metadata": {},
     "output_type": "display_data"
    },
    {
     "name": "stdout",
     "output_type": "stream",
     "text": [
      "\n",
      "Training Set Performance:\n",
      "               precision    recall  f1-score   support\n",
      "\n",
      "    negative       0.78      0.87      0.82      7510\n",
      "     neutral       0.83      0.74      0.78      7510\n",
      "    positive       0.89      0.88      0.88      7510\n",
      "\n",
      "    accuracy                           0.83     22530\n",
      "   macro avg       0.83      0.83      0.83     22530\n",
      "weighted avg       0.83      0.83      0.83     22530\n",
      "\n",
      "\n",
      "Validation Set Performance:\n",
      "               precision    recall  f1-score   support\n",
      "\n",
      "    negative       0.44      0.45      0.44       404\n",
      "     neutral       0.52      0.57      0.54       623\n",
      "    positive       0.70      0.65      0.67       939\n",
      "\n",
      "    accuracy                           0.58      1966\n",
      "   macro avg       0.55      0.56      0.55      1966\n",
      "weighted avg       0.59      0.58      0.58      1966\n",
      "\n",
      "Time to train:  48.42s\n",
      "Time to predict:  0.88s\n"
     ]
    },
    {
     "data": {
      "text/markdown": [
       "*Support Vector Machine*"
      ],
      "text/plain": [
       "<IPython.core.display.Markdown object>"
      ]
     },
     "metadata": {},
     "output_type": "display_data"
    },
    {
     "name": "stderr",
     "output_type": "stream",
     "text": [
      "C:\\ProgramData\\Anaconda3\\lib\\site-packages\\sklearn\\svm\\_base.py:977: ConvergenceWarning: Liblinear failed to converge, increase the number of iterations.\n",
      "  \"the number of iterations.\", ConvergenceWarning)\n"
     ]
    },
    {
     "name": "stdout",
     "output_type": "stream",
     "text": [
      "\n",
      "Training Set Performance:\n",
      "               precision    recall  f1-score   support\n",
      "\n",
      "    negative       0.81      0.91      0.86      7510\n",
      "     neutral       0.88      0.77      0.82      7510\n",
      "    positive       0.93      0.93      0.93      7510\n",
      "\n",
      "    accuracy                           0.87     22530\n",
      "   macro avg       0.87      0.87      0.87     22530\n",
      "weighted avg       0.87      0.87      0.87     22530\n",
      "\n",
      "\n",
      "Validation Set Performance:\n",
      "               precision    recall  f1-score   support\n",
      "\n",
      "    negative       0.41      0.44      0.43       404\n",
      "     neutral       0.50      0.52      0.51       623\n",
      "    positive       0.67      0.63      0.65       939\n",
      "\n",
      "    accuracy                           0.55      1966\n",
      "   macro avg       0.53      0.53      0.53      1966\n",
      "weighted avg       0.56      0.55      0.56      1966\n",
      "\n",
      "Time to train:  3.07s\n",
      "Time to predict:  0.86s\n"
     ]
    },
    {
     "data": {
      "image/png": "[encoded data removed]",
      "text/plain": [
       "<Figure size 1080x360 with 3 Axes>"
      ]
     },
     "metadata": {
      "needs_background": "light"
     },
     "output_type": "display_data"
    }
   ],
   "source": [
    "display(Markdown(\"**CountVectorizer_Unigram with SMOTE Resampling**\"))\n",
    "\n",
    "display(Markdown(\"*Naive Bayes*\"))\n",
    "model_save = 'models/Count_word_NB_smote.pickle'\n",
    "report_save ='models/Count_word_NB_smote_report.csv' \n",
    "classifier = MultinomialNB()\n",
    "train_classifier(classifier, x_train_res, y_train_res, x_valid_vect, y_valid, model_save, report_save)\n",
    "\n",
    "\n",
    "display(Markdown(\"*Logistic Regression*\"))\n",
    "model_save = 'models/Count_word_LR_smote.pickle'\n",
    "report_save ='models/Count_word_LR_smote_report.csv' \n",
    "classifier = LogisticRegression(max_iter=500)\n",
    "train_classifier(classifier, x_train_res, y_train_res, x_valid_vect, y_valid, model_save, report_save)\n",
    "\n",
    "\n",
    "display(Markdown(\"*Support Vector Machine*\"))\n",
    "model_save = 'models/Count_word_SVM_smote.pickle'\n",
    "report_save ='models/Count_word_SVM_smote_report.csv' \n",
    "classifier = LinearSVC(max_iter=500)\n",
    "train_classifier(classifier, x_train_res, y_train_res, x_valid_vect, y_valid, model_save, report_save)\n",
    "\n",
    "\n",
    "plot_f1(vectorizer='Count_word',classifiers=['NB','LR','SVM'],mode='smote')\n"
   ]
  },
  {
   "cell_type": "code",
   "execution_count": 24,
   "metadata": {
    "scrolled": false
   },
   "outputs": [
    {
     "data": {
      "text/markdown": [
       "**CountVectorizer_Unigram with Resampling and Data Normalisation**"
      ],
      "text/plain": [
       "<IPython.core.display.Markdown object>"
      ]
     },
     "metadata": {},
     "output_type": "display_data"
    },
    {
     "data": {
      "text/markdown": [
       "*Naive Bayes*"
      ],
      "text/plain": [
       "<IPython.core.display.Markdown object>"
      ]
     },
     "metadata": {},
     "output_type": "display_data"
    },
    {
     "name": "stdout",
     "output_type": "stream",
     "text": [
      "\n",
      "Training Set Performance:\n",
      "               precision    recall  f1-score   support\n",
      "\n",
      "    negative       0.73      0.78      0.76      7510\n",
      "     neutral       0.74      0.68      0.71      7510\n",
      "    positive       0.76      0.76      0.76      7510\n",
      "\n",
      "    accuracy                           0.74     22530\n",
      "   macro avg       0.74      0.74      0.74     22530\n",
      "weighted avg       0.74      0.74      0.74     22530\n",
      "\n",
      "\n",
      "Validation Set Performance:\n",
      "               precision    recall  f1-score   support\n",
      "\n",
      "    negative       0.46      0.60      0.52       404\n",
      "     neutral       0.56      0.55      0.55       623\n",
      "    positive       0.72      0.63      0.67       939\n",
      "\n",
      "    accuracy                           0.60      1966\n",
      "   macro avg       0.58      0.59      0.58      1966\n",
      "weighted avg       0.62      0.60      0.60      1966\n",
      "\n",
      "Time to train:  2.85s\n",
      "Time to predict:  1.59s\n"
     ]
    },
    {
     "data": {
      "text/markdown": [
       "*Logistic Regression*"
      ],
      "text/plain": [
       "<IPython.core.display.Markdown object>"
      ]
     },
     "metadata": {},
     "output_type": "display_data"
    },
    {
     "name": "stdout",
     "output_type": "stream",
     "text": [
      "\n",
      "Training Set Performance:\n",
      "               precision    recall  f1-score   support\n",
      "\n",
      "    negative       0.77      0.87      0.82      7510\n",
      "     neutral       0.82      0.73      0.77      7510\n",
      "    positive       0.88      0.87      0.87      7510\n",
      "\n",
      "    accuracy                           0.82     22530\n",
      "   macro avg       0.82      0.82      0.82     22530\n",
      "weighted avg       0.82      0.82      0.82     22530\n",
      "\n",
      "\n",
      "Validation Set Performance:\n",
      "               precision    recall  f1-score   support\n",
      "\n",
      "    negative       0.45      0.45      0.45       404\n",
      "     neutral       0.52      0.56      0.54       623\n",
      "    positive       0.69      0.66      0.68       939\n",
      "\n",
      "    accuracy                           0.58      1966\n",
      "   macro avg       0.55      0.56      0.56      1966\n",
      "weighted avg       0.59      0.58      0.59      1966\n",
      "\n",
      "Time to train:  33.85s\n",
      "Time to predict:  1.66s\n"
     ]
    },
    {
     "data": {
      "text/markdown": [
       "*Support Vector Machine*"
      ],
      "text/plain": [
       "<IPython.core.display.Markdown object>"
      ]
     },
     "metadata": {},
     "output_type": "display_data"
    },
    {
     "name": "stdout",
     "output_type": "stream",
     "text": [
      "\n",
      "Training Set Performance:\n",
      "               precision    recall  f1-score   support\n",
      "\n",
      "    negative       0.80      0.91      0.85      7510\n",
      "     neutral       0.88      0.76      0.82      7510\n",
      "    positive       0.92      0.93      0.92      7510\n",
      "\n",
      "    accuracy                           0.87     22530\n",
      "   macro avg       0.87      0.87      0.86     22530\n",
      "weighted avg       0.87      0.87      0.86     22530\n",
      "\n",
      "\n",
      "Validation Set Performance:\n",
      "               precision    recall  f1-score   support\n",
      "\n",
      "    negative       0.41      0.45      0.43       404\n",
      "     neutral       0.49      0.52      0.50       623\n",
      "    positive       0.67      0.63      0.65       939\n",
      "\n",
      "    accuracy                           0.56      1966\n",
      "   macro avg       0.53      0.53      0.53      1966\n",
      "weighted avg       0.56      0.56      0.56      1966\n",
      "\n",
      "Time to train:  4.07s\n",
      "Time to predict:  1.59s\n"
     ]
    },
    {
     "data": {
      "image/png": "[encoded data removed]",
      "text/plain": [
       "<Figure size 1080x360 with 3 Axes>"
      ]
     },
     "metadata": {
      "needs_background": "light"
     },
     "output_type": "display_data"
    }
   ],
   "source": [
    "display(Markdown(\"**CountVectorizer_Unigram with Resampling and Data Normalisation**\"))\n",
    "\n",
    "display(Markdown(\"*Naive Bayes*\"))\n",
    "model_save = 'models/Count_word_NB_norm.pickle'\n",
    "report_save ='models/Count_word_NB_norm_report.csv' \n",
    "classifier = make_pipeline(MinMaxScaler(), MultinomialNB())\n",
    "train_classifier(classifier, x_train_res, y_train_res, x_valid_vect, y_valid, model_save, report_save)\n",
    "\n",
    "\n",
    "display(Markdown(\"*Logistic Regression*\"))\n",
    "model_save = 'models/Count_word_LR_norm.pickle'\n",
    "report_save ='models/Count_word_LR_norm_report.csv' \n",
    "classifier = make_pipeline(MinMaxScaler(), LogisticRegression(max_iter=500))\n",
    "train_classifier(classifier, x_train_res, y_train_res, x_valid_vect, y_valid, model_save, report_save)\n",
    "\n",
    "\n",
    "display(Markdown(\"*Support Vector Machine*\"))\n",
    "model_save = 'models/Count_word_SVM_norm.pickle'\n",
    "report_save ='models/Count_word_SVM_norm_report.csv' \n",
    "classifier = make_pipeline(MinMaxScaler(), LinearSVC(max_iter=500))\n",
    "train_classifier(classifier, x_train_res, y_train_res, x_valid_vect, y_valid, model_save, report_save)\n",
    "\n",
    "\n",
    "plot_f1(vectorizer='Count_word',classifiers=['NB','LR','SVM'],mode='norm')\n"
   ]
  },
  {
   "cell_type": "code",
   "execution_count": 26,
   "metadata": {
    "scrolled": false
   },
   "outputs": [
    {
     "data": {
      "text/markdown": [
       "**CountVectorizer_Unigram with Resampling and Data Standardization**"
      ],
      "text/plain": [
       "<IPython.core.display.Markdown object>"
      ]
     },
     "metadata": {},
     "output_type": "display_data"
    },
    {
     "data": {
      "text/markdown": [
       "*Naive Bayes*"
      ],
      "text/plain": [
       "<IPython.core.display.Markdown object>"
      ]
     },
     "metadata": {},
     "output_type": "display_data"
    },
    {
     "name": "stdout",
     "output_type": "stream",
     "text": [
      "\n",
      "Training Set Performance:\n",
      "               precision    recall  f1-score   support\n",
      "\n",
      "    negative       0.73      0.78      0.76      7510\n",
      "     neutral       0.74      0.68      0.71      7510\n",
      "    positive       0.76      0.76      0.76      7510\n",
      "\n",
      "    accuracy                           0.74     22530\n",
      "   macro avg       0.74      0.74      0.74     22530\n",
      "weighted avg       0.74      0.74      0.74     22530\n",
      "\n",
      "\n",
      "Validation Set Performance:\n",
      "               precision    recall  f1-score   support\n",
      "\n",
      "    negative       0.46      0.60      0.52       404\n",
      "     neutral       0.56      0.55      0.55       623\n",
      "    positive       0.72      0.63      0.67       939\n",
      "\n",
      "    accuracy                           0.60      1966\n",
      "   macro avg       0.58      0.59      0.58      1966\n",
      "weighted avg       0.62      0.60      0.60      1966\n",
      "\n",
      "Time to train:  2.70s\n",
      "Time to predict:  1.55s\n"
     ]
    },
    {
     "data": {
      "text/markdown": [
       "*Logistic Regression*"
      ],
      "text/plain": [
       "<IPython.core.display.Markdown object>"
      ]
     },
     "metadata": {},
     "output_type": "display_data"
    },
    {
     "name": "stderr",
     "output_type": "stream",
     "text": [
      "C:\\ProgramData\\Anaconda3\\lib\\site-packages\\sklearn\\linear_model\\_logistic.py:764: ConvergenceWarning: lbfgs failed to converge (status=1):\n",
      "STOP: TOTAL NO. of ITERATIONS REACHED LIMIT.\n",
      "\n",
      "Increase the number of iterations (max_iter) or scale the data as shown in:\n",
      "    https://scikit-learn.org/stable/modules/preprocessing.html\n",
      "Please also refer to the documentation for alternative solver options:\n",
      "    https://scikit-learn.org/stable/modules/linear_model.html#logistic-regression\n",
      "  extra_warning_msg=_LOGISTIC_SOLVER_CONVERGENCE_MSG)\n"
     ]
    },
    {
     "name": "stdout",
     "output_type": "stream",
     "text": [
      "\n",
      "Training Set Performance:\n",
      "               precision    recall  f1-score   support\n",
      "\n",
      "    negative       0.87      0.93      0.90      7510\n",
      "     neutral       0.93      0.88      0.91      7510\n",
      "    positive       0.98      0.98      0.98      7510\n",
      "\n",
      "    accuracy                           0.93     22530\n",
      "   macro avg       0.93      0.93      0.93     22530\n",
      "weighted avg       0.93      0.93      0.93     22530\n",
      "\n",
      "\n",
      "Validation Set Performance:\n",
      "               precision    recall  f1-score   support\n",
      "\n",
      "    negative       0.34      0.38      0.36       404\n",
      "     neutral       0.45      0.47      0.46       623\n",
      "    positive       0.62      0.57      0.59       939\n",
      "\n",
      "    accuracy                           0.50      1966\n",
      "   macro avg       0.47      0.47      0.47      1966\n",
      "weighted avg       0.51      0.50      0.50      1966\n",
      "\n",
      "Time to train:  79.16s\n",
      "Time to predict:  1.86s\n"
     ]
    },
    {
     "data": {
      "text/markdown": [
       "*Support Vector Machine*"
      ],
      "text/plain": [
       "<IPython.core.display.Markdown object>"
      ]
     },
     "metadata": {},
     "output_type": "display_data"
    },
    {
     "name": "stderr",
     "output_type": "stream",
     "text": [
      "C:\\ProgramData\\Anaconda3\\lib\\site-packages\\sklearn\\svm\\_base.py:977: ConvergenceWarning: Liblinear failed to converge, increase the number of iterations.\n",
      "  \"the number of iterations.\", ConvergenceWarning)\n"
     ]
    },
    {
     "name": "stdout",
     "output_type": "stream",
     "text": [
      "\n",
      "Training Set Performance:\n",
      "               precision    recall  f1-score   support\n",
      "\n",
      "    negative       0.86      0.92      0.89      7510\n",
      "     neutral       0.91      0.85      0.88      7510\n",
      "    positive       0.96      0.96      0.96      7510\n",
      "\n",
      "    accuracy                           0.91     22530\n",
      "   macro avg       0.91      0.91      0.91     22530\n",
      "weighted avg       0.91      0.91      0.91     22530\n",
      "\n",
      "\n",
      "Validation Set Performance:\n",
      "               precision    recall  f1-score   support\n",
      "\n",
      "    negative       0.31      0.35      0.33       404\n",
      "     neutral       0.42      0.45      0.43       623\n",
      "    positive       0.60      0.55      0.57       939\n",
      "\n",
      "    accuracy                           0.47      1966\n",
      "   macro avg       0.45      0.45      0.45      1966\n",
      "weighted avg       0.49      0.47      0.48      1966\n",
      "\n",
      "Time to train:  315.02s\n",
      "Time to predict:  1.61s\n"
     ]
    },
    {
     "data": {
      "image/png": "[encoded data removed]",
      "text/plain": [
       "<Figure size 1080x360 with 3 Axes>"
      ]
     },
     "metadata": {
      "needs_background": "light"
     },
     "output_type": "display_data"
    }
   ],
   "source": [
    "display(Markdown(\"**CountVectorizer_Unigram with Resampling and Data Standardization**\"))\n",
    "\n",
    "display(Markdown(\"*Naive Bayes*\"))\n",
    "model_save = 'models/Count_word_NB_std.pickle'\n",
    "report_save ='models/Count_word_NB_std_report.csv' \n",
    "classifier = make_pipeline(MinMaxScaler(), MultinomialNB())\n",
    "train_classifier(classifier, x_train_res, y_train_res, x_valid_vect, y_valid, model_save, report_save)\n",
    "\n",
    "\n",
    "display(Markdown(\"*Logistic Regression*\"))\n",
    "model_save = 'models/Count_word_LR_std.pickle'\n",
    "report_save ='models/Count_word_LR_std_report.csv' \n",
    "classifier = make_pipeline(StandardScaler(), LogisticRegression(max_iter=500))\n",
    "train_classifier(classifier, x_train_res, y_train_res, x_valid_vect, y_valid, model_save, report_save)\n",
    "\n",
    "\n",
    "display(Markdown(\"*Support Vector Machine*\"))\n",
    "model_save = 'models/Count_word_SVM_std.pickle'\n",
    "report_save ='models/Count_word_SVM_std_report.csv' \n",
    "classifier = make_pipeline(StandardScaler(), LinearSVC(max_iter=500))\n",
    "train_classifier(classifier, x_train_res, y_train_res, x_valid_vect, y_valid, model_save, report_save)\n",
    "\n",
    "\n",
    "plot_f1(vectorizer='Count_word',classifiers=['NB','LR','SVM'],mode='std')\n"
   ]
  },
  {
   "cell_type": "markdown",
   "metadata": {},
   "source": [
    "***Oberservations:***\n",
    "\n",
    "- *NB consistently outperforming LR and SVM for word count vectorization with 3-6%*\n",
    "- *Best macro f1 score at 59% for NB using balanced class weight rather than SMOTE resampling*\n",
    "- *Normalizing data before training does not offer obvious benefit for all three classifiers*  \n",
    "- *Data standardization makes classifiers LR and SVM underperform by c. 7-8% vs no standardization; it also takes much longer to train classifiers with standardized data* \n",
    "- *For LR and SVM, increase max_iter=500 for convergence* \n",
    "- *Generally NB takes less time to train than LR and SVM*\n",
    "\n",
    "\n",
    "<font color=blue> **Preliminary Conclusion:** </font>\n",
    "\n",
    "<font color=blue> - Overall in terms of macro-F1 score, NB (59%) performs best with unigram CountVectorizer (i.e. bag-of-words count).</font>\n"
   ]
  },
  {
   "cell_type": "markdown",
   "metadata": {},
   "source": [
    "# \n"
   ]
  },
  {
   "cell_type": "markdown",
   "metadata": {},
   "source": [
    "### TfidfVectorizer"
   ]
  },
  {
   "cell_type": "code",
   "execution_count": 27,
   "metadata": {},
   "outputs": [
    {
     "name": "stdout",
     "output_type": "stream",
     "text": [
      "vectorizer_fitting:  0.27s\n",
      "data_vectorization:  0.55s\n",
      "data_resampling:  425.92s\n"
     ]
    }
   ],
   "source": [
    "# TfidfVectorizer_unigram\n",
    "vectorizer = TfidfVectorizer(analyzer='word', min_df = 3, ngram_range = (1,1))  # initiate vectorizer\n",
    "start_time = time.time()\n",
    "\n",
    "# Fit vectorizer on corpus\n",
    "vectorizer.fit(corpus)\n",
    "train_time = time.time()\n",
    "\n",
    "# Data vectorization\n",
    "x_train_vect = vectorizer.transform(x_train).toarray()\n",
    "x_valid_vect = vectorizer.transform(x_valid).toarray()\n",
    "transform_time = time.time()\n",
    "\n",
    "# Data resampling to adjust for class imbalance\n",
    "smote = SMOTE()\n",
    "x_train_res, y_train_res = smote.fit_sample(x_train_vect, y_train)\n",
    "resample_time = time.time()\n",
    "\n",
    "print(f\"vectorizer_fitting: {train_time - start_time: .2f}s\")\n",
    "print(f\"data_vectorization: {transform_time - train_time: .2f}s\")\n",
    "print(f\"data_resampling: {resample_time - transform_time: .2f}s\")\n",
    "\n",
    "# Save vectorizer\n",
    "with open('models/TfidfVectorizer_unigram.pickle','wb') as f:\n",
    "    pickle.dump(vectorizer, f)\n"
   ]
  },
  {
   "cell_type": "code",
   "execution_count": 28,
   "metadata": {
    "scrolled": false
   },
   "outputs": [
    {
     "data": {
      "text/markdown": [
       "**TfidfVectorizer_Unigram with Balanced Class Weight (No Resampling)**"
      ],
      "text/plain": [
       "<IPython.core.display.Markdown object>"
      ]
     },
     "metadata": {},
     "output_type": "display_data"
    },
    {
     "data": {
      "text/markdown": [
       "*Naive Bayes*"
      ],
      "text/plain": [
       "<IPython.core.display.Markdown object>"
      ]
     },
     "metadata": {},
     "output_type": "display_data"
    },
    {
     "name": "stdout",
     "output_type": "stream",
     "text": [
      "\n",
      "Training Set Performance:\n",
      "               precision    recall  f1-score   support\n",
      "\n",
      "    negative       0.68      0.70      0.69      3226\n",
      "     neutral       0.76      0.68      0.72      4986\n",
      "    positive       0.78      0.82      0.80      7510\n",
      "\n",
      "    accuracy                           0.75     15722\n",
      "   macro avg       0.74      0.73      0.74     15722\n",
      "weighted avg       0.75      0.75      0.75     15722\n",
      "\n",
      "\n",
      "Validation Set Performance:\n",
      "               precision    recall  f1-score   support\n",
      "\n",
      "    negative       0.49      0.49      0.49       404\n",
      "     neutral       0.57      0.53      0.55       623\n",
      "    positive       0.69      0.72      0.71       939\n",
      "\n",
      "    accuracy                           0.61      1966\n",
      "   macro avg       0.59      0.58      0.58      1966\n",
      "weighted avg       0.61      0.61      0.61      1966\n",
      "\n",
      "Time to train:  0.31s\n",
      "Time to predict:  0.21s\n"
     ]
    },
    {
     "data": {
      "text/markdown": [
       "*Logistic Regression*"
      ],
      "text/plain": [
       "<IPython.core.display.Markdown object>"
      ]
     },
     "metadata": {},
     "output_type": "display_data"
    },
    {
     "name": "stdout",
     "output_type": "stream",
     "text": [
      "\n",
      "Training Set Performance:\n",
      "               precision    recall  f1-score   support\n",
      "\n",
      "    negative       0.67      0.87      0.75      3226\n",
      "     neutral       0.74      0.79      0.76      4986\n",
      "    positive       0.89      0.74      0.81      7510\n",
      "\n",
      "    accuracy                           0.78     15722\n",
      "   macro avg       0.77      0.80      0.77     15722\n",
      "weighted avg       0.80      0.78      0.78     15722\n",
      "\n",
      "\n",
      "Validation Set Performance:\n",
      "               precision    recall  f1-score   support\n",
      "\n",
      "    negative       0.48      0.60      0.53       404\n",
      "     neutral       0.54      0.63      0.58       623\n",
      "    positive       0.77      0.60      0.68       939\n",
      "\n",
      "    accuracy                           0.61      1966\n",
      "   macro avg       0.60      0.61      0.60      1966\n",
      "weighted avg       0.64      0.61      0.62      1966\n",
      "\n",
      "Time to train:  17.15s\n",
      "Time to predict:  0.20s\n"
     ]
    },
    {
     "data": {
      "text/markdown": [
       "*Support Vector Machine*"
      ],
      "text/plain": [
       "<IPython.core.display.Markdown object>"
      ]
     },
     "metadata": {},
     "output_type": "display_data"
    },
    {
     "name": "stdout",
     "output_type": "stream",
     "text": [
      "\n",
      "Training Set Performance:\n",
      "               precision    recall  f1-score   support\n",
      "\n",
      "    negative       0.82      0.90      0.86      3226\n",
      "     neutral       0.87      0.85      0.86      4986\n",
      "    positive       0.91      0.88      0.89      7510\n",
      "\n",
      "    accuracy                           0.88     15722\n",
      "   macro avg       0.86      0.88      0.87     15722\n",
      "weighted avg       0.88      0.88      0.88     15722\n",
      "\n",
      "\n",
      "Validation Set Performance:\n",
      "               precision    recall  f1-score   support\n",
      "\n",
      "    negative       0.48      0.50      0.49       404\n",
      "     neutral       0.53      0.56      0.54       623\n",
      "    positive       0.70      0.67      0.68       939\n",
      "\n",
      "    accuracy                           0.60      1966\n",
      "   macro avg       0.57      0.57      0.57      1966\n",
      "weighted avg       0.60      0.60      0.60      1966\n",
      "\n",
      "Time to train:  0.75s\n",
      "Time to predict:  0.21s\n"
     ]
    },
    {
     "data": {
      "image/png": "[encoded data removed]",
      "text/plain": [
       "<Figure size 1080x360 with 3 Axes>"
      ]
     },
     "metadata": {
      "needs_background": "light"
     },
     "output_type": "display_data"
    }
   ],
   "source": [
    "display(Markdown(\"**TfidfVectorizer_Unigram with Balanced Class Weight (No Resampling)**\"))\n",
    "\n",
    "display(Markdown(\"*Naive Bayes*\"))\n",
    "model_save = 'models/Tfidf_word_NB_balancedWeight.pickle'\n",
    "report_save ='models/Tfidf_word_NB_balancedWeight_report.csv' \n",
    "classifier = MultinomialNB(fit_prior=False)\n",
    "train_classifier(classifier, x_train_vect, y_train, x_valid_vect, y_valid, model_save, report_save)\n",
    "\n",
    "\n",
    "display(Markdown(\"*Logistic Regression*\"))\n",
    "model_save = 'models/Tfidf_word_LR_balancedWeight.pickle'\n",
    "report_save ='models/Tfidf_word_LR_balancedWeight_report.csv' \n",
    "classifier = LogisticRegression(class_weight='balanced',max_iter=500)\n",
    "train_classifier(classifier, x_train_vect, y_train, x_valid_vect, y_valid, model_save, report_save)\n",
    "\n",
    "\n",
    "display(Markdown(\"*Support Vector Machine*\"))\n",
    "model_save = 'models/Tfidf_word_SVM_balancedWeight.pickle'\n",
    "report_save ='models/Tfidf_word_SVM_balancedWeight_report.csv' \n",
    "classifier = LinearSVC(class_weight='balanced',max_iter=500)\n",
    "train_classifier(classifier, x_train_vect, y_train, x_valid_vect, y_valid, model_save, report_save)\n",
    "\n",
    "plot_f1(vectorizer='Tfidf_word',classifiers=['NB','LR','SVM'],mode='balancedWeight')"
   ]
  },
  {
   "cell_type": "code",
   "execution_count": 29,
   "metadata": {
    "scrolled": false
   },
   "outputs": [
    {
     "data": {
      "text/markdown": [
       "**TfidfVectorizer_Unigram with SMOTE Resampling**"
      ],
      "text/plain": [
       "<IPython.core.display.Markdown object>"
      ]
     },
     "metadata": {},
     "output_type": "display_data"
    },
    {
     "data": {
      "text/markdown": [
       "*Naive Bayes*"
      ],
      "text/plain": [
       "<IPython.core.display.Markdown object>"
      ]
     },
     "metadata": {},
     "output_type": "display_data"
    },
    {
     "name": "stdout",
     "output_type": "stream",
     "text": [
      "\n",
      "Training Set Performance:\n",
      "               precision    recall  f1-score   support\n",
      "\n",
      "    negative       0.76      0.88      0.82      7510\n",
      "     neutral       0.80      0.74      0.77      7510\n",
      "    positive       0.80      0.74      0.77      7510\n",
      "\n",
      "    accuracy                           0.78     22530\n",
      "   macro avg       0.79      0.78      0.78     22530\n",
      "weighted avg       0.79      0.78      0.78     22530\n",
      "\n",
      "\n",
      "Validation Set Performance:\n",
      "               precision    recall  f1-score   support\n",
      "\n",
      "    negative       0.45      0.64      0.53       404\n",
      "     neutral       0.57      0.55      0.56       623\n",
      "    positive       0.74      0.63      0.68       939\n",
      "\n",
      "    accuracy                           0.61      1966\n",
      "   macro avg       0.59      0.61      0.59      1966\n",
      "weighted avg       0.63      0.61      0.61      1966\n",
      "\n",
      "Time to train:  0.38s\n",
      "Time to predict:  0.30s\n"
     ]
    },
    {
     "data": {
      "text/markdown": [
       "*Logistic Regression*"
      ],
      "text/plain": [
       "<IPython.core.display.Markdown object>"
      ]
     },
     "metadata": {},
     "output_type": "display_data"
    },
    {
     "name": "stdout",
     "output_type": "stream",
     "text": [
      "\n",
      "Training Set Performance:\n",
      "               precision    recall  f1-score   support\n",
      "\n",
      "    negative       0.83      0.90      0.86      7510\n",
      "     neutral       0.81      0.81      0.81      7510\n",
      "    positive       0.84      0.77      0.81      7510\n",
      "\n",
      "    accuracy                           0.83     22530\n",
      "   macro avg       0.83      0.83      0.83     22530\n",
      "weighted avg       0.83      0.83      0.83     22530\n",
      "\n",
      "\n",
      "Validation Set Performance:\n",
      "               precision    recall  f1-score   support\n",
      "\n",
      "    negative       0.48      0.57      0.52       404\n",
      "     neutral       0.52      0.60      0.56       623\n",
      "    positive       0.75      0.62      0.68       939\n",
      "\n",
      "    accuracy                           0.60      1966\n",
      "   macro avg       0.58      0.59      0.58      1966\n",
      "weighted avg       0.62      0.60      0.61      1966\n",
      "\n",
      "Time to train:  25.76s\n",
      "Time to predict:  0.35s\n"
     ]
    },
    {
     "data": {
      "text/markdown": [
       "*Support Vector Machine*"
      ],
      "text/plain": [
       "<IPython.core.display.Markdown object>"
      ]
     },
     "metadata": {},
     "output_type": "display_data"
    },
    {
     "name": "stdout",
     "output_type": "stream",
     "text": [
      "\n",
      "Training Set Performance:\n",
      "               precision    recall  f1-score   support\n",
      "\n",
      "    negative       0.90      0.95      0.93      7510\n",
      "     neutral       0.90      0.89      0.89      7510\n",
      "    positive       0.90      0.86      0.88      7510\n",
      "\n",
      "    accuracy                           0.90     22530\n",
      "   macro avg       0.90      0.90      0.90     22530\n",
      "weighted avg       0.90      0.90      0.90     22530\n",
      "\n",
      "\n",
      "Validation Set Performance:\n",
      "               precision    recall  f1-score   support\n",
      "\n",
      "    negative       0.46      0.52      0.49       404\n",
      "     neutral       0.51      0.56      0.53       623\n",
      "    positive       0.71      0.63      0.67       939\n",
      "\n",
      "    accuracy                           0.58      1966\n",
      "   macro avg       0.56      0.57      0.56      1966\n",
      "weighted avg       0.60      0.58      0.59      1966\n",
      "\n",
      "Time to train:  1.24s\n",
      "Time to predict:  0.33s\n"
     ]
    },
    {
     "data": {
      "image/png": "[encoded data removed]",
      "text/plain": [
       "<Figure size 1080x360 with 3 Axes>"
      ]
     },
     "metadata": {
      "needs_background": "light"
     },
     "output_type": "display_data"
    }
   ],
   "source": [
    "display(Markdown(\"**TfidfVectorizer_Unigram with SMOTE Resampling**\"))\n",
    "\n",
    "display(Markdown(\"*Naive Bayes*\"))\n",
    "model_save = 'models/Tfidf_word_NB_smote.pickle'\n",
    "report_save ='models/Tfidf_word_NB_smote_report.csv' \n",
    "classifier = MultinomialNB()\n",
    "train_classifier(classifier, x_train_res, y_train_res, x_valid_vect, y_valid, model_save, report_save)\n",
    "\n",
    "\n",
    "display(Markdown(\"*Logistic Regression*\"))\n",
    "model_save = 'models/Tfidf_word_LR_smote.pickle'\n",
    "report_save ='models/Tfidf_word_LR_smote_report.csv' \n",
    "classifier = LogisticRegression(max_iter=500)\n",
    "train_classifier(classifier, x_train_res, y_train_res, x_valid_vect, y_valid, model_save, report_save)\n",
    "\n",
    "\n",
    "display(Markdown(\"*Support Vector Machine*\"))\n",
    "model_save = 'models/Tfidf_word_SVM_smote.pickle'\n",
    "report_save ='models/Tfidf_word_SVM_smote_report.csv' \n",
    "classifier = LinearSVC(max_iter=500)\n",
    "train_classifier(classifier, x_train_res, y_train_res, x_valid_vect, y_valid, model_save, report_save)\n",
    "\n",
    "\n",
    "plot_f1(vectorizer='Tfidf_word',classifiers=['NB','LR','SVM'],mode='smote')\n"
   ]
  },
  {
   "cell_type": "code",
   "execution_count": 30,
   "metadata": {
    "scrolled": false
   },
   "outputs": [
    {
     "data": {
      "text/markdown": [
       "**TfidfVectorizer_Unigram with Resampling and Data Normalisation**"
      ],
      "text/plain": [
       "<IPython.core.display.Markdown object>"
      ]
     },
     "metadata": {},
     "output_type": "display_data"
    },
    {
     "data": {
      "text/markdown": [
       "*Naive Bayes*"
      ],
      "text/plain": [
       "<IPython.core.display.Markdown object>"
      ]
     },
     "metadata": {},
     "output_type": "display_data"
    },
    {
     "name": "stdout",
     "output_type": "stream",
     "text": [
      "\n",
      "Training Set Performance:\n",
      "               precision    recall  f1-score   support\n",
      "\n",
      "    negative       0.78      0.89      0.83      7510\n",
      "     neutral       0.82      0.75      0.78      7510\n",
      "    positive       0.81      0.76      0.78      7510\n",
      "\n",
      "    accuracy                           0.80     22530\n",
      "   macro avg       0.80      0.80      0.80     22530\n",
      "weighted avg       0.80      0.80      0.80     22530\n",
      "\n",
      "\n",
      "Validation Set Performance:\n",
      "               precision    recall  f1-score   support\n",
      "\n",
      "    negative       0.44      0.60      0.51       404\n",
      "     neutral       0.55      0.54      0.54       623\n",
      "    positive       0.72      0.62      0.66       939\n",
      "\n",
      "    accuracy                           0.59      1966\n",
      "   macro avg       0.57      0.58      0.57      1966\n",
      "weighted avg       0.61      0.59      0.59      1966\n",
      "\n",
      "Time to train:  2.09s\n",
      "Time to predict:  1.58s\n"
     ]
    },
    {
     "data": {
      "text/markdown": [
       "*Logistic Regression*"
      ],
      "text/plain": [
       "<IPython.core.display.Markdown object>"
      ]
     },
     "metadata": {},
     "output_type": "display_data"
    },
    {
     "name": "stdout",
     "output_type": "stream",
     "text": [
      "\n",
      "Training Set Performance:\n",
      "               precision    recall  f1-score   support\n",
      "\n",
      "    negative       0.90      0.95      0.92      7510\n",
      "     neutral       0.89      0.89      0.89      7510\n",
      "    positive       0.90      0.86      0.88      7510\n",
      "\n",
      "    accuracy                           0.90     22530\n",
      "   macro avg       0.90      0.90      0.90     22530\n",
      "weighted avg       0.90      0.90      0.90     22530\n",
      "\n",
      "\n",
      "Validation Set Performance:\n",
      "               precision    recall  f1-score   support\n",
      "\n",
      "    negative       0.46      0.51      0.48       404\n",
      "     neutral       0.50      0.55      0.52       623\n",
      "    positive       0.70      0.62      0.66       939\n",
      "\n",
      "    accuracy                           0.57      1966\n",
      "   macro avg       0.55      0.56      0.55      1966\n",
      "weighted avg       0.59      0.57      0.58      1966\n",
      "\n",
      "Time to train:  29.29s\n",
      "Time to predict:  1.58s\n"
     ]
    },
    {
     "data": {
      "text/markdown": [
       "*Support Vector Machine*"
      ],
      "text/plain": [
       "<IPython.core.display.Markdown object>"
      ]
     },
     "metadata": {},
     "output_type": "display_data"
    },
    {
     "name": "stdout",
     "output_type": "stream",
     "text": [
      "\n",
      "Training Set Performance:\n",
      "               precision    recall  f1-score   support\n",
      "\n",
      "    negative       0.94      0.98      0.96      7510\n",
      "     neutral       0.94      0.94      0.94      7510\n",
      "    positive       0.94      0.91      0.92      7510\n",
      "\n",
      "    accuracy                           0.94     22530\n",
      "   macro avg       0.94      0.94      0.94     22530\n",
      "weighted avg       0.94      0.94      0.94     22530\n",
      "\n",
      "\n",
      "Validation Set Performance:\n",
      "               precision    recall  f1-score   support\n",
      "\n",
      "    negative       0.41      0.45      0.43       404\n",
      "     neutral       0.49      0.52      0.50       623\n",
      "    positive       0.67      0.61      0.64       939\n",
      "\n",
      "    accuracy                           0.55      1966\n",
      "   macro avg       0.52      0.53      0.53      1966\n",
      "weighted avg       0.56      0.55      0.55      1966\n",
      "\n",
      "Time to train:  3.13s\n",
      "Time to predict:  1.61s\n"
     ]
    },
    {
     "data": {
      "image/png": "[encoded data removed]",
      "text/plain": [
       "<Figure size 1080x360 with 3 Axes>"
      ]
     },
     "metadata": {
      "needs_background": "light"
     },
     "output_type": "display_data"
    }
   ],
   "source": [
    "display(Markdown(\"**TfidfVectorizer_Unigram with Resampling and Data Normalisation**\"))\n",
    "\n",
    "display(Markdown(\"*Naive Bayes*\"))\n",
    "model_save = 'models/Tfidf_word_NB_norm.pickle'\n",
    "report_save ='models/Tfidf_word_NB_norm_report.csv' \n",
    "classifier = make_pipeline(MinMaxScaler(), MultinomialNB())\n",
    "train_classifier(classifier, x_train_res, y_train_res, x_valid_vect, y_valid, model_save, report_save)\n",
    "\n",
    "\n",
    "display(Markdown(\"*Logistic Regression*\"))\n",
    "model_save = 'models/Tfidf_word_LR_norm.pickle'\n",
    "report_save ='models/Tfidf_word_LR_norm_report.csv' \n",
    "classifier = make_pipeline(MinMaxScaler(), LogisticRegression(max_iter=500))\n",
    "train_classifier(classifier, x_train_res, y_train_res, x_valid_vect, y_valid, model_save, report_save)\n",
    "\n",
    "\n",
    "display(Markdown(\"*Support Vector Machine*\"))\n",
    "model_save = 'models/Tfidf_word_SVM_norm.pickle'\n",
    "report_save ='models/Tfidf_word_SVM_norm_report.csv' \n",
    "classifier = make_pipeline(MinMaxScaler(), LinearSVC(max_iter=500))\n",
    "train_classifier(classifier, x_train_res, y_train_res, x_valid_vect, y_valid, model_save, report_save)\n",
    "\n",
    "\n",
    "plot_f1(vectorizer='Tfidf_word',classifiers=['NB','LR','SVM'],mode='norm')\n"
   ]
  },
  {
   "cell_type": "markdown",
   "metadata": {},
   "source": [
    "***Oberservations:***\n",
    "- *In comparision with word count vectorization, LR and SVM performed better with Tfidf vectorization, with +3% and +5% improvement in macro average f1 score; however, NB is slightly worse off (c. -1%)*\n",
    "- *Comparing class_weight with resampling, LR and SVM achieved slightly results (+1%), whereas NB is better with SMOTE resampling*\n",
    "- *Similar to word count vectorization, all three classifiers underformed with data normalization by 2-4%*\n",
    "\n",
    "\n",
    "<font color=blue> **Preliminary Conclusion:** </font>\n",
    "\n",
    "<font color=blue> - In terms of macro-average F1 score, LR (59.6%) works best with TfidfVectorizer (unigram) and class_weight set to 'balanced'.</font>\n",
    "\n",
    "<font color=blue> - No data scaling or resampling required.</font>\n"
   ]
  },
  {
   "cell_type": "markdown",
   "metadata": {},
   "source": [
    "## "
   ]
  },
  {
   "cell_type": "markdown",
   "metadata": {},
   "source": [
    "#### TF-IDF Vectorizer with Bigram"
   ]
  },
  {
   "cell_type": "code",
   "execution_count": 31,
   "metadata": {},
   "outputs": [
    {
     "name": "stdout",
     "output_type": "stream",
     "text": [
      "vectorizer_fitting:  0.42s\n",
      "data_vectorization:  0.63s\n",
      "data_resampling:  763.33s\n"
     ]
    }
   ],
   "source": [
    "# TfidfVectorizer_bigram\n",
    "\n",
    "vectorizer = TfidfVectorizer(analyzer='word', min_df = 3, ngram_range = (2,2))  # initiate vectorizer\n",
    "start_time = time.time()\n",
    "\n",
    "# Fit vectorizer on corpus\n",
    "vectorizer.fit(corpus)\n",
    "train_time = time.time()\n",
    "\n",
    "# Data vectorization\n",
    "x_train_vect = vectorizer.transform(x_train).toarray()\n",
    "x_valid_vect = vectorizer.transform(x_valid).toarray()\n",
    "transform_time = time.time()\n",
    "\n",
    "# Data resampling to adjust for class imbalance\n",
    "smote = SMOTE()\n",
    "x_train_res, y_train_res = smote.fit_sample(x_train_vect, y_train)\n",
    "resample_time = time.time()\n",
    "\n",
    "print(f\"vectorizer_fitting: {train_time - start_time: .2f}s\")\n",
    "print(f\"data_vectorization: {transform_time - train_time: .2f}s\")\n",
    "print(f\"data_resampling: {resample_time - transform_time: .2f}s\")\n",
    "\n",
    "# Save vectorizer\n",
    "with open('models/TfidfVectorizer_bigram.pickle','wb') as f:\n",
    "    pickle.dump(vectorizer, f)\n",
    "\n"
   ]
  },
  {
   "cell_type": "code",
   "execution_count": 32,
   "metadata": {
    "scrolled": false
   },
   "outputs": [
    {
     "data": {
      "text/markdown": [
       "**TfidfVectorizer_bigram with Balanced Class Weight (No Resampling)**"
      ],
      "text/plain": [
       "<IPython.core.display.Markdown object>"
      ]
     },
     "metadata": {},
     "output_type": "display_data"
    },
    {
     "data": {
      "text/markdown": [
       "*Naive Bayes*"
      ],
      "text/plain": [
       "<IPython.core.display.Markdown object>"
      ]
     },
     "metadata": {},
     "output_type": "display_data"
    },
    {
     "name": "stdout",
     "output_type": "stream",
     "text": [
      "\n",
      "Training Set Performance:\n",
      "               precision    recall  f1-score   support\n",
      "\n",
      "    negative       0.69      0.80      0.74      3226\n",
      "     neutral       0.79      0.79      0.79      4986\n",
      "    positive       0.86      0.80      0.83      7510\n",
      "\n",
      "    accuracy                           0.80     15722\n",
      "   macro avg       0.78      0.80      0.79     15722\n",
      "weighted avg       0.80      0.80      0.80     15722\n",
      "\n",
      "\n",
      "Validation Set Performance:\n",
      "               precision    recall  f1-score   support\n",
      "\n",
      "    negative       0.43      0.50      0.46       404\n",
      "     neutral       0.51      0.49      0.50       623\n",
      "    positive       0.64      0.61      0.62       939\n",
      "\n",
      "    accuracy                           0.55      1966\n",
      "   macro avg       0.52      0.53      0.53      1966\n",
      "weighted avg       0.55      0.55      0.55      1966\n",
      "\n",
      "Time to train:  0.88s\n",
      "Time to predict:  0.54s\n"
     ]
    },
    {
     "data": {
      "text/markdown": [
       "*Logistic Regression*"
      ],
      "text/plain": [
       "<IPython.core.display.Markdown object>"
      ]
     },
     "metadata": {},
     "output_type": "display_data"
    },
    {
     "name": "stdout",
     "output_type": "stream",
     "text": [
      "\n",
      "Training Set Performance:\n",
      "               precision    recall  f1-score   support\n",
      "\n",
      "    negative       0.73      0.91      0.81      3226\n",
      "     neutral       0.82      0.84      0.83      4986\n",
      "    positive       0.92      0.80      0.86      7510\n",
      "\n",
      "    accuracy                           0.84     15722\n",
      "   macro avg       0.82      0.85      0.83     15722\n",
      "weighted avg       0.85      0.84      0.84     15722\n",
      "\n",
      "\n",
      "Validation Set Performance:\n",
      "               precision    recall  f1-score   support\n",
      "\n",
      "    negative       0.40      0.49      0.44       404\n",
      "     neutral       0.50      0.53      0.51       623\n",
      "    positive       0.66      0.57      0.61       939\n",
      "\n",
      "    accuracy                           0.54      1966\n",
      "   macro avg       0.52      0.53      0.52      1966\n",
      "weighted avg       0.56      0.54      0.55      1966\n",
      "\n",
      "Time to train:  30.46s\n",
      "Time to predict:  0.47s\n"
     ]
    },
    {
     "data": {
      "text/markdown": [
       "*Support Vector Machine*"
      ],
      "text/plain": [
       "<IPython.core.display.Markdown object>"
      ]
     },
     "metadata": {},
     "output_type": "display_data"
    },
    {
     "name": "stdout",
     "output_type": "stream",
     "text": [
      "\n",
      "Training Set Performance:\n",
      "               precision    recall  f1-score   support\n",
      "\n",
      "    negative       0.88      0.96      0.92      3226\n",
      "     neutral       0.93      0.93      0.93      4986\n",
      "    positive       0.96      0.92      0.94      7510\n",
      "\n",
      "    accuracy                           0.93     15722\n",
      "   macro avg       0.92      0.94      0.93     15722\n",
      "weighted avg       0.93      0.93      0.93     15722\n",
      "\n",
      "\n",
      "Validation Set Performance:\n",
      "               precision    recall  f1-score   support\n",
      "\n",
      "    negative       0.38      0.42      0.40       404\n",
      "     neutral       0.48      0.49      0.49       623\n",
      "    positive       0.63      0.60      0.61       939\n",
      "\n",
      "    accuracy                           0.53      1966\n",
      "   macro avg       0.50      0.50      0.50      1966\n",
      "weighted avg       0.53      0.53      0.53      1966\n",
      "\n",
      "Time to train:  1.26s\n",
      "Time to predict:  0.43s\n"
     ]
    },
    {
     "data": {
      "image/png": "[encoded data removed]",
      "text/plain": [
       "<Figure size 1080x360 with 3 Axes>"
      ]
     },
     "metadata": {
      "needs_background": "light"
     },
     "output_type": "display_data"
    }
   ],
   "source": [
    "display(Markdown(\"**TfidfVectorizer_bigram with Balanced Class Weight (No Resampling)**\"))\n",
    "\n",
    "display(Markdown(\"*Naive Bayes*\"))\n",
    "model_save = 'models/Tfidf_bigram_NB_balancedWeight.pickle'\n",
    "report_save ='models/Tfidf_bigram_NB_balancedWeight_report.csv' \n",
    "classifier = MultinomialNB(fit_prior=False)\n",
    "train_classifier(classifier, x_train_vect, y_train, x_valid_vect, y_valid, model_save, report_save)\n",
    "\n",
    "\n",
    "display(Markdown(\"*Logistic Regression*\"))\n",
    "model_save = 'models/Tfidf_bigram_LR_balancedWeight.pickle'\n",
    "report_save ='models/Tfidf_bigram_LR_balancedWeight_report.csv' \n",
    "classifier = LogisticRegression(class_weight='balanced',max_iter=500)\n",
    "train_classifier(classifier, x_train_vect, y_train, x_valid_vect, y_valid, model_save, report_save)\n",
    "\n",
    "\n",
    "display(Markdown(\"*Support Vector Machine*\"))\n",
    "model_save = 'models/Tfidf_bigram_SVM_balancedWeight.pickle'\n",
    "report_save ='models/Tfidf_bigram_SVM_balancedWeight_report.csv' \n",
    "classifier = LinearSVC(class_weight='balanced',max_iter=500)\n",
    "train_classifier(classifier, x_train_vect, y_train, x_valid_vect, y_valid, model_save, report_save)\n",
    "\n",
    "plot_f1(vectorizer='Tfidf_bigram',classifiers=['NB','LR','SVM'],mode='balancedWeight')"
   ]
  },
  {
   "cell_type": "code",
   "execution_count": 33,
   "metadata": {
    "scrolled": false
   },
   "outputs": [
    {
     "data": {
      "text/markdown": [
       "**TfidfVectorizer_Bigram with SMOTE Resampling**"
      ],
      "text/plain": [
       "<IPython.core.display.Markdown object>"
      ]
     },
     "metadata": {},
     "output_type": "display_data"
    },
    {
     "data": {
      "text/markdown": [
       "*Naive Bayes*"
      ],
      "text/plain": [
       "<IPython.core.display.Markdown object>"
      ]
     },
     "metadata": {},
     "output_type": "display_data"
    },
    {
     "name": "stdout",
     "output_type": "stream",
     "text": [
      "\n",
      "Training Set Performance:\n",
      "               precision    recall  f1-score   support\n",
      "\n",
      "    negative       0.80      0.88      0.84      7510\n",
      "     neutral       0.82      0.80      0.81      7510\n",
      "    positive       0.83      0.77      0.80      7510\n",
      "\n",
      "    accuracy                           0.82     22530\n",
      "   macro avg       0.82      0.82      0.82     22530\n",
      "weighted avg       0.82      0.82      0.82     22530\n",
      "\n",
      "\n",
      "Validation Set Performance:\n",
      "               precision    recall  f1-score   support\n",
      "\n",
      "    negative       0.40      0.54      0.46       404\n",
      "     neutral       0.50      0.48      0.49       623\n",
      "    positive       0.66      0.58      0.62       939\n",
      "\n",
      "    accuracy                           0.54      1966\n",
      "   macro avg       0.52      0.53      0.52      1966\n",
      "weighted avg       0.56      0.54      0.54      1966\n",
      "\n",
      "Time to train:  0.85s\n",
      "Time to predict:  0.54s\n"
     ]
    },
    {
     "data": {
      "text/markdown": [
       "*Logistic Regression*"
      ],
      "text/plain": [
       "<IPython.core.display.Markdown object>"
      ]
     },
     "metadata": {},
     "output_type": "display_data"
    },
    {
     "name": "stdout",
     "output_type": "stream",
     "text": [
      "\n",
      "Training Set Performance:\n",
      "               precision    recall  f1-score   support\n",
      "\n",
      "    negative       0.80      0.92      0.85      7510\n",
      "     neutral       0.86      0.79      0.83      7510\n",
      "    positive       0.88      0.82      0.85      7510\n",
      "\n",
      "    accuracy                           0.84     22530\n",
      "   macro avg       0.85      0.84      0.84     22530\n",
      "weighted avg       0.85      0.84      0.84     22530\n",
      "\n",
      "\n",
      "Validation Set Performance:\n",
      "               precision    recall  f1-score   support\n",
      "\n",
      "    negative       0.39      0.49      0.43       404\n",
      "     neutral       0.49      0.50      0.50       623\n",
      "    positive       0.65      0.56      0.60       939\n",
      "\n",
      "    accuracy                           0.53      1966\n",
      "   macro avg       0.51      0.52      0.51      1966\n",
      "weighted avg       0.55      0.53      0.53      1966\n",
      "\n",
      "Time to train:  49.54s\n",
      "Time to predict:  0.49s\n"
     ]
    },
    {
     "data": {
      "text/markdown": [
       "*Support Vector Machine*"
      ],
      "text/plain": [
       "<IPython.core.display.Markdown object>"
      ]
     },
     "metadata": {},
     "output_type": "display_data"
    },
    {
     "name": "stdout",
     "output_type": "stream",
     "text": [
      "\n",
      "Training Set Performance:\n",
      "               precision    recall  f1-score   support\n",
      "\n",
      "    negative       0.87      0.97      0.92      7510\n",
      "     neutral       0.94      0.88      0.91      7510\n",
      "    positive       0.95      0.92      0.93      7510\n",
      "\n",
      "    accuracy                           0.92     22530\n",
      "   macro avg       0.92      0.92      0.92     22530\n",
      "weighted avg       0.92      0.92      0.92     22530\n",
      "\n",
      "\n",
      "Validation Set Performance:\n",
      "               precision    recall  f1-score   support\n",
      "\n",
      "    negative       0.36      0.45      0.40       404\n",
      "     neutral       0.48      0.49      0.48       623\n",
      "    positive       0.64      0.55      0.59       939\n",
      "\n",
      "    accuracy                           0.51      1966\n",
      "   macro avg       0.49      0.50      0.49      1966\n",
      "weighted avg       0.53      0.51      0.52      1966\n",
      "\n",
      "Time to train:  1.71s\n",
      "Time to predict:  0.55s\n"
     ]
    },
    {
     "data": {
      "image/png": "[encoded data removed]",
      "text/plain": [
       "<Figure size 1080x360 with 3 Axes>"
      ]
     },
     "metadata": {
      "needs_background": "light"
     },
     "output_type": "display_data"
    }
   ],
   "source": [
    "display(Markdown(\"**TfidfVectorizer_Bigram with SMOTE Resampling**\"))\n",
    "\n",
    "display(Markdown(\"*Naive Bayes*\"))\n",
    "model_save = 'models/Tfidf_bigram_NB_smote.pickle'\n",
    "report_save ='models/Tfidf_bigram_NB_smote_report.csv' \n",
    "classifier = MultinomialNB()\n",
    "train_classifier(classifier, x_train_res, y_train_res, x_valid_vect, y_valid, model_save, report_save)\n",
    "\n",
    "\n",
    "display(Markdown(\"*Logistic Regression*\"))\n",
    "model_save = 'models/Tfidf_bigram_LR_smote.pickle'\n",
    "report_save ='models/Tfidf_bigram_LR_smote_report.csv' \n",
    "classifier = LogisticRegression(max_iter=500)\n",
    "train_classifier(classifier, x_train_res, y_train_res, x_valid_vect, y_valid, model_save, report_save)\n",
    "\n",
    "\n",
    "display(Markdown(\"*Support Vector Machine*\"))\n",
    "model_save = 'models/Tfidf_bigram_SVM_smote.pickle'\n",
    "report_save ='models/Tfidf_bigram_SVM_smote_report.csv' \n",
    "classifier = LinearSVC(max_iter=500)\n",
    "train_classifier(classifier, x_train_res, y_train_res, x_valid_vect, y_valid, model_save, report_save)\n",
    "\n",
    "\n",
    "plot_f1(vectorizer='Tfidf_bigram',classifiers=['NB','LR','SVM'],mode='smote')\n"
   ]
  },
  {
   "cell_type": "markdown",
   "metadata": {},
   "source": [
    "***Oberservations:***\n",
    "- *Tfidf bigram underperforms Tfidf unigram by c. 6-7% throughout all three classifiers*\n",
    "- *Similar as before, data scaling by normalization is counter-effective*\n",
    "\n",
    "\n",
    "<font color=blue> **Preliminary Conclusion:** </font>\n",
    "\n",
    "<font color=blue> - Tfidf Bigram Vectorizer should be rejected. "
   ]
  },
  {
   "cell_type": "markdown",
   "metadata": {},
   "source": [
    "## "
   ]
  },
  {
   "cell_type": "markdown",
   "metadata": {},
   "source": [
    "#### CountVectorizer with Unigram, Bigram and Trigram"
   ]
  },
  {
   "cell_type": "code",
   "execution_count": 34,
   "metadata": {},
   "outputs": [
    {
     "name": "stdout",
     "output_type": "stream",
     "text": [
      "vectorizer_fitting:  0.88s\n",
      "data_vectorization:  1.25s\n"
     ]
    }
   ],
   "source": [
    "# Initialize vectorizer\n",
    "vectorizer = CountVectorizer(analyzer='word', min_df = 3, ngram_range = (1,3)) \n",
    "start_time = time.time()\n",
    "\n",
    "# Fit vectorizer on corpus\n",
    "vectorizer.fit(corpus)\n",
    "train_time = time.time()\n",
    "\n",
    "# Data vectorization\n",
    "x_train_vect = vectorizer.transform(x_train).toarray()\n",
    "x_valid_vect = vectorizer.transform(x_valid).toarray()\n",
    "transform_time = time.time()\n",
    "\n",
    "print(f\"vectorizer_fitting: {train_time - start_time: .2f}s\")\n",
    "print(f\"data_vectorization: {transform_time - train_time: .2f}s\")\n",
    "\n",
    "# Save vectorizer\n",
    "with open('models/CountVectorizer_uni_bi_trigram.pickle','wb') as f:\n",
    "    pickle.dump(vectorizer, f)\n"
   ]
  },
  {
   "cell_type": "code",
   "execution_count": 35,
   "metadata": {
    "scrolled": false
   },
   "outputs": [
    {
     "data": {
      "text/markdown": [
       "**CountVectorizer_unigram, bigram and trigram with Balanced Class Weight (No Resampling)**"
      ],
      "text/plain": [
       "<IPython.core.display.Markdown object>"
      ]
     },
     "metadata": {},
     "output_type": "display_data"
    },
    {
     "data": {
      "text/markdown": [
       "*Naive Bayes*"
      ],
      "text/plain": [
       "<IPython.core.display.Markdown object>"
      ]
     },
     "metadata": {},
     "output_type": "display_data"
    },
    {
     "name": "stdout",
     "output_type": "stream",
     "text": [
      "\n",
      "Training Set Performance:\n",
      "               precision    recall  f1-score   support\n",
      "\n",
      "    negative       0.68      0.86      0.76      3226\n",
      "     neutral       0.80      0.80      0.80      4986\n",
      "    positive       0.89      0.79      0.84      7510\n",
      "\n",
      "    accuracy                           0.81     15722\n",
      "   macro avg       0.79      0.82      0.80     15722\n",
      "weighted avg       0.82      0.81      0.81     15722\n",
      "\n",
      "\n",
      "Validation Set Performance:\n",
      "               precision    recall  f1-score   support\n",
      "\n",
      "    negative       0.46      0.55      0.50       404\n",
      "     neutral       0.54      0.55      0.54       623\n",
      "    positive       0.70      0.63      0.66       939\n",
      "\n",
      "    accuracy                           0.59      1966\n",
      "   macro avg       0.57      0.58      0.57      1966\n",
      "weighted avg       0.60      0.59      0.59      1966\n",
      "\n",
      "Time to train:  16.69s\n",
      "Time to predict:  3.14s\n"
     ]
    },
    {
     "data": {
      "text/markdown": [
       "*Logistic Regression*"
      ],
      "text/plain": [
       "<IPython.core.display.Markdown object>"
      ]
     },
     "metadata": {},
     "output_type": "display_data"
    },
    {
     "name": "stdout",
     "output_type": "stream",
     "text": [
      "\n",
      "Training Set Performance:\n",
      "               precision    recall  f1-score   support\n",
      "\n",
      "    negative       0.93      1.00      0.96      3226\n",
      "     neutral       0.99      0.99      0.99      4986\n",
      "    positive       1.00      0.96      0.98      7510\n",
      "\n",
      "    accuracy                           0.98     15722\n",
      "   macro avg       0.97      0.98      0.98     15722\n",
      "weighted avg       0.98      0.98      0.98     15722\n",
      "\n",
      "\n",
      "Validation Set Performance:\n",
      "               precision    recall  f1-score   support\n",
      "\n",
      "    negative       0.46      0.48      0.47       404\n",
      "     neutral       0.53      0.58      0.55       623\n",
      "    positive       0.70      0.65      0.68       939\n",
      "\n",
      "    accuracy                           0.59      1966\n",
      "   macro avg       0.57      0.57      0.57      1966\n",
      "weighted avg       0.60      0.59      0.60      1966\n",
      "\n",
      "Time to train:  87.56s\n",
      "Time to predict:  5.23s\n"
     ]
    },
    {
     "data": {
      "text/markdown": [
       "*Support Vector Machine*"
      ],
      "text/plain": [
       "<IPython.core.display.Markdown object>"
      ]
     },
     "metadata": {},
     "output_type": "display_data"
    },
    {
     "name": "stderr",
     "output_type": "stream",
     "text": [
      "C:\\ProgramData\\Anaconda3\\lib\\site-packages\\sklearn\\svm\\_base.py:977: ConvergenceWarning: Liblinear failed to converge, increase the number of iterations.\n",
      "  \"the number of iterations.\", ConvergenceWarning)\n"
     ]
    },
    {
     "name": "stdout",
     "output_type": "stream",
     "text": [
      "\n",
      "Training Set Performance:\n",
      "               precision    recall  f1-score   support\n",
      "\n",
      "    negative       0.93      1.00      0.97      3226\n",
      "     neutral       1.00      0.99      0.99      4986\n",
      "    positive       1.00      0.97      0.99      7510\n",
      "\n",
      "    accuracy                           0.98     15722\n",
      "   macro avg       0.98      0.99      0.98     15722\n",
      "weighted avg       0.98      0.98      0.98     15722\n",
      "\n",
      "\n",
      "Validation Set Performance:\n",
      "               precision    recall  f1-score   support\n",
      "\n",
      "    negative       0.41      0.38      0.40       404\n",
      "     neutral       0.50      0.52      0.51       623\n",
      "    positive       0.66      0.67      0.67       939\n",
      "\n",
      "    accuracy                           0.56      1966\n",
      "   macro avg       0.53      0.52      0.52      1966\n",
      "weighted avg       0.56      0.56      0.56      1966\n",
      "\n",
      "Time to train:  5.81s\n",
      "Time to predict:  2.35s\n"
     ]
    },
    {
     "data": {
      "image/png": "[encoded data removed]",
      "text/plain": [
       "<Figure size 1080x360 with 3 Axes>"
      ]
     },
     "metadata": {
      "needs_background": "light"
     },
     "output_type": "display_data"
    }
   ],
   "source": [
    "display(Markdown(\"**CountVectorizer_unigram, bigram and trigram with Balanced Class Weight (No Resampling)**\"))\n",
    "\n",
    "display(Markdown(\"*Naive Bayes*\"))\n",
    "model_save = 'models/Count_123gram_NB_balancedWeight.pickle'\n",
    "report_save ='models/Count_123gram_NB_balancedWeight_report.csv' \n",
    "classifier = MultinomialNB(fit_prior=False)\n",
    "train_classifier(classifier, x_train_vect, y_train, x_valid_vect, y_valid, model_save, report_save)\n",
    "\n",
    "\n",
    "display(Markdown(\"*Logistic Regression*\"))\n",
    "model_save = 'models/Count_123gram_LR_balancedWeight.pickle'\n",
    "report_save ='models/Count_123gram_LR_balancedWeight_report.csv' \n",
    "classifier = LogisticRegression(class_weight='balanced',max_iter=500)\n",
    "train_classifier(classifier, x_train_vect, y_train, x_valid_vect, y_valid, model_save, report_save)\n",
    "\n",
    "\n",
    "display(Markdown(\"*Support Vector Machine*\"))\n",
    "model_save = 'models/Count_123gram_SVM_balancedWeight.pickle'\n",
    "report_save ='models/Count_123gram_SVM_balancedWeight_report.csv' \n",
    "classifier = LinearSVC(class_weight='balanced',max_iter=500)\n",
    "train_classifier(classifier, x_train_vect, y_train, x_valid_vect, y_valid, model_save, report_save)\n",
    "\n",
    "plot_f1(vectorizer='Count_123gram',classifiers=['NB','LR','SVM'],mode='balancedWeight')"
   ]
  },
  {
   "cell_type": "markdown",
   "metadata": {},
   "source": [
    "***Oberservations:***\n",
    "- *Count vectorization with unigram, bigram and trigram combined achieves similar results as Count vectorization with only unigram, however it takes much longer to train*\n",
    "\n",
    "\n",
    "<font color=blue> **Preliminary Conclusion:** </font>\n",
    "\n",
    "<font color=blue> - CountVectorizer with a combination of 1-3gram should be rejected. "
   ]
  },
  {
   "cell_type": "markdown",
   "metadata": {},
   "source": [
    "## "
   ]
  },
  {
   "cell_type": "markdown",
   "metadata": {},
   "source": [
    "#### GloVe Embeddings (pre-trained on Twitter)"
   ]
  },
  {
   "cell_type": "code",
   "execution_count": 36,
   "metadata": {},
   "outputs": [],
   "source": [
    "import gensim.downloader as api\n",
    "# Download pre-trained embeddings\n",
    "model_glove_twitter = api.load(\"glove-twitter-25\")"
   ]
  },
  {
   "cell_type": "code",
   "execution_count": 53,
   "metadata": {},
   "outputs": [],
   "source": [
    "import importlib\n",
    "import sys\n",
    "importlib.reload(sys.modules['modules.ML_classifiers_SUN'])\n",
    "from modules.ML_classifiers_SUN import WordEmbeddingVectorizer, vectorize"
   ]
  },
  {
   "cell_type": "code",
   "execution_count": 58,
   "metadata": {
    "scrolled": false
   },
   "outputs": [
    {
     "data": {
      "text/markdown": [
       "**GloVe_Twitter25_AggMean**"
      ],
      "text/plain": [
       "<IPython.core.display.Markdown object>"
      ]
     },
     "metadata": {},
     "output_type": "display_data"
    },
    {
     "name": "stdout",
     "output_type": "stream",
     "text": [
      "data_vectorization:  0.70s\n"
     ]
    },
    {
     "data": {
      "text/markdown": [
       "*Naive Bayes*"
      ],
      "text/plain": [
       "<IPython.core.display.Markdown object>"
      ]
     },
     "metadata": {},
     "output_type": "display_data"
    },
    {
     "name": "stdout",
     "output_type": "stream",
     "text": [
      "\n",
      "Training Set Performance:\n",
      "               precision    recall  f1-score   support\n",
      "\n",
      "    negative       0.34      0.61      0.44      3226\n",
      "     neutral       0.42      0.57      0.48      4986\n",
      "    positive       0.67      0.28      0.39      7510\n",
      "\n",
      "    accuracy                           0.44     15722\n",
      "   macro avg       0.47      0.49      0.44     15722\n",
      "weighted avg       0.52      0.44      0.43     15722\n",
      "\n",
      "\n",
      "Validation Set Performance:\n",
      "               precision    recall  f1-score   support\n",
      "\n",
      "    negative       0.32      0.58      0.41       404\n",
      "     neutral       0.44      0.60      0.51       623\n",
      "    positive       0.69      0.27      0.39       939\n",
      "\n",
      "    accuracy                           0.44      1966\n",
      "   macro avg       0.48      0.49      0.44      1966\n",
      "weighted avg       0.53      0.44      0.43      1966\n",
      "\n",
      "Time to train:  0.04s\n",
      "Time to predict:  0.00s\n"
     ]
    },
    {
     "data": {
      "text/markdown": [
       "*Logistic Regression*"
      ],
      "text/plain": [
       "<IPython.core.display.Markdown object>"
      ]
     },
     "metadata": {},
     "output_type": "display_data"
    },
    {
     "name": "stdout",
     "output_type": "stream",
     "text": [
      "\n",
      "Training Set Performance:\n",
      "               precision    recall  f1-score   support\n",
      "\n",
      "    negative       0.40      0.64      0.49      3226\n",
      "     neutral       0.47      0.45      0.46      4986\n",
      "    positive       0.68      0.53      0.59      7510\n",
      "\n",
      "    accuracy                           0.52     15722\n",
      "   macro avg       0.52      0.54      0.51     15722\n",
      "weighted avg       0.56      0.52      0.53     15722\n",
      "\n",
      "\n",
      "Validation Set Performance:\n",
      "               precision    recall  f1-score   support\n",
      "\n",
      "    negative       0.37      0.60      0.46       404\n",
      "     neutral       0.47      0.46      0.46       623\n",
      "    positive       0.70      0.53      0.60       939\n",
      "\n",
      "    accuracy                           0.52      1966\n",
      "   macro avg       0.51      0.53      0.51      1966\n",
      "weighted avg       0.56      0.52      0.53      1966\n",
      "\n",
      "Time to train:  0.61s\n",
      "Time to predict:  0.01s\n"
     ]
    },
    {
     "data": {
      "text/markdown": [
       "*Support Vector Machine*"
      ],
      "text/plain": [
       "<IPython.core.display.Markdown object>"
      ]
     },
     "metadata": {},
     "output_type": "display_data"
    },
    {
     "name": "stdout",
     "output_type": "stream",
     "text": [
      "\n",
      "Training Set Performance:\n",
      "               precision    recall  f1-score   support\n",
      "\n",
      "    negative       0.42      0.54      0.47      3226\n",
      "     neutral       0.49      0.37      0.43      4986\n",
      "    positive       0.64      0.66      0.65      7510\n",
      "\n",
      "    accuracy                           0.55     15722\n",
      "   macro avg       0.52      0.53      0.52     15722\n",
      "weighted avg       0.55      0.55      0.54     15722\n",
      "\n",
      "\n",
      "Validation Set Performance:\n",
      "               precision    recall  f1-score   support\n",
      "\n",
      "    negative       0.39      0.53      0.45       404\n",
      "     neutral       0.49      0.38      0.43       623\n",
      "    positive       0.65      0.65      0.65       939\n",
      "\n",
      "    accuracy                           0.54      1966\n",
      "   macro avg       0.51      0.52      0.51      1966\n",
      "weighted avg       0.55      0.54      0.54      1966\n",
      "\n",
      "Time to train:  0.37s\n",
      "Time to predict:  0.00s\n"
     ]
    },
    {
     "data": {
      "image/png": "[encoded data removed]",
      "text/plain": [
       "<Figure size 1080x360 with 3 Axes>"
      ]
     },
     "metadata": {
      "needs_background": "light"
     },
     "output_type": "display_data"
    }
   ],
   "source": [
    "display(Markdown(\"**GloVe_Twitter25_AggMean**\"))\n",
    "\n",
    "start_time = time.time()\n",
    "vectorizer = WordEmbeddingVectorizer(model_glove_twitter,mode='aggregate',by='mean')\n",
    "\n",
    "# Data vectorization\n",
    "x_train_vect = vectorizer.transform(x_train) \n",
    "x_valid_vect = vectorizer.transform(x_valid)\n",
    "transform_time = time.time()\n",
    "\n",
    "print(f\"data_vectorization: {transform_time - start_time: .2f}s\")\n",
    "\n",
    "# Save vectorizer\n",
    "#with open('models/GloVe_twitter25_aggMean.pickle','wb') as f:\n",
    "#    pickle.dump(vectorizer, f)\n",
    "\n",
    "\n",
    "display(Markdown(\"*Naive Bayes*\"))\n",
    "model_save = 'models/GloVe_twitter25_aggMean_NB_balancedWeight.pickle'\n",
    "report_save ='models/GloVe_twitter25_aggMean_NB_balancedWeight_report.csv' \n",
    "classifier = make_pipeline(MinMaxScaler(), MultinomialNB(fit_prior=False))\n",
    "train_classifier(classifier, x_train_vect, y_train, x_valid_vect, y_valid, model_save, report_save)\n",
    "\n",
    "\n",
    "display(Markdown(\"*Logistic Regression*\"))\n",
    "model_save = 'models/GloVe_twitter25_aggMean_LR_balancedWeight.pickle'\n",
    "report_save ='models/GloVe_twitter25_aggMean_LR_balancedWeight_report.csv' \n",
    "classifier = make_pipeline(Normalizer(), LogisticRegression(class_weight='balanced',max_iter=500))\n",
    "train_classifier(classifier, x_train_vect, y_train, x_valid_vect, y_valid, model_save, report_save)\n",
    "\n",
    "\n",
    "display(Markdown(\"*Support Vector Machine*\"))\n",
    "model_save = 'models/GloVe_twitter25_aggMean_SVM_balancedWeight.pickle'\n",
    "report_save ='models/GloVe_twitter25_aggMean_SVM_balancedWeight_report.csv' \n",
    "classifier = make_pipeline(Normalizer(), LinearSVC(class_weight='balanced',max_iter=500))\n",
    "train_classifier(classifier, x_train_vect, y_train, x_valid_vect, y_valid, model_save, report_save)\n",
    "\n",
    "plot_f1(vectorizer='GloVe_twitter25_aggMean',classifiers=['NB','LR','SVM'],mode='balancedWeight')\n",
    "\n"
   ]
  },
  {
   "cell_type": "code",
   "execution_count": 59,
   "metadata": {
    "scrolled": false
   },
   "outputs": [
    {
     "data": {
      "text/markdown": [
       "**GloVe_Twitter25_AggMax**"
      ],
      "text/plain": [
       "<IPython.core.display.Markdown object>"
      ]
     },
     "metadata": {},
     "output_type": "display_data"
    },
    {
     "name": "stdout",
     "output_type": "stream",
     "text": [
      "data_vectorization:  1.10s\n"
     ]
    },
    {
     "data": {
      "text/markdown": [
       "*Naive Bayes*"
      ],
      "text/plain": [
       "<IPython.core.display.Markdown object>"
      ]
     },
     "metadata": {},
     "output_type": "display_data"
    },
    {
     "name": "stdout",
     "output_type": "stream",
     "text": [
      "\n",
      "Training Set Performance:\n",
      "               precision    recall  f1-score   support\n",
      "\n",
      "    negative       0.34      0.56      0.42      3226\n",
      "     neutral       0.42      0.48      0.45      4986\n",
      "    positive       0.62      0.39      0.48      7510\n",
      "\n",
      "    accuracy                           0.45     15722\n",
      "   macro avg       0.46      0.47      0.45     15722\n",
      "weighted avg       0.50      0.45      0.46     15722\n",
      "\n",
      "\n",
      "Validation Set Performance:\n",
      "               precision    recall  f1-score   support\n",
      "\n",
      "    negative       0.32      0.53      0.40       404\n",
      "     neutral       0.43      0.52      0.47       623\n",
      "    positive       0.62      0.36      0.45       939\n",
      "\n",
      "    accuracy                           0.44      1966\n",
      "   macro avg       0.46      0.47      0.44      1966\n",
      "weighted avg       0.50      0.44      0.45      1966\n",
      "\n",
      "Time to train:  0.04s\n",
      "Time to predict:  0.00s\n"
     ]
    },
    {
     "data": {
      "text/markdown": [
       "*Logistic Regression*"
      ],
      "text/plain": [
       "<IPython.core.display.Markdown object>"
      ]
     },
     "metadata": {},
     "output_type": "display_data"
    },
    {
     "name": "stdout",
     "output_type": "stream",
     "text": [
      "\n",
      "Training Set Performance:\n",
      "               precision    recall  f1-score   support\n",
      "\n",
      "    negative       0.35      0.61      0.44      3226\n",
      "     neutral       0.43      0.38      0.41      4986\n",
      "    positive       0.62      0.46      0.53      7510\n",
      "\n",
      "    accuracy                           0.47     15722\n",
      "   macro avg       0.47      0.49      0.46     15722\n",
      "weighted avg       0.50      0.47      0.47     15722\n",
      "\n",
      "\n",
      "Validation Set Performance:\n",
      "               precision    recall  f1-score   support\n",
      "\n",
      "    negative       0.33      0.56      0.42       404\n",
      "     neutral       0.44      0.41      0.43       623\n",
      "    positive       0.62      0.45      0.52       939\n",
      "\n",
      "    accuracy                           0.46      1966\n",
      "   macro avg       0.46      0.48      0.45      1966\n",
      "weighted avg       0.50      0.46      0.47      1966\n",
      "\n",
      "Time to train:  0.42s\n",
      "Time to predict:  0.01s\n"
     ]
    },
    {
     "data": {
      "text/markdown": [
       "*Support Vector Machine*"
      ],
      "text/plain": [
       "<IPython.core.display.Markdown object>"
      ]
     },
     "metadata": {},
     "output_type": "display_data"
    },
    {
     "name": "stdout",
     "output_type": "stream",
     "text": [
      "\n",
      "Training Set Performance:\n",
      "               precision    recall  f1-score   support\n",
      "\n",
      "    negative       0.37      0.45      0.41      3226\n",
      "     neutral       0.45      0.33      0.38      4986\n",
      "    positive       0.59      0.63      0.61      7510\n",
      "\n",
      "    accuracy                           0.50     15722\n",
      "   macro avg       0.47      0.47      0.46     15722\n",
      "weighted avg       0.50      0.50      0.49     15722\n",
      "\n",
      "\n",
      "Validation Set Performance:\n",
      "               precision    recall  f1-score   support\n",
      "\n",
      "    negative       0.36      0.44      0.39       404\n",
      "     neutral       0.45      0.35      0.40       623\n",
      "    positive       0.58      0.60      0.59       939\n",
      "\n",
      "    accuracy                           0.49      1966\n",
      "   macro avg       0.46      0.47      0.46      1966\n",
      "weighted avg       0.49      0.49      0.49      1966\n",
      "\n",
      "Time to train:  0.39s\n",
      "Time to predict:  0.01s\n"
     ]
    },
    {
     "data": {
      "image/png": "[encoded data removed]",
      "text/plain": [
       "<Figure size 1080x360 with 3 Axes>"
      ]
     },
     "metadata": {
      "needs_background": "light"
     },
     "output_type": "display_data"
    }
   ],
   "source": [
    "display(Markdown(\"**GloVe_Twitter25_AggMax**\"))\n",
    "\n",
    "start_time = time.time()\n",
    "vectorizer = WordEmbeddingVectorizer(model_glove_twitter,mode='aggregate',by='max')\n",
    "\n",
    "# Data vectorization\n",
    "x_train_vect = vectorizer.transform(x_train) \n",
    "x_valid_vect = vectorizer.transform(x_valid)\n",
    "transform_time = time.time()\n",
    "\n",
    "print(f\"data_vectorization: {transform_time - start_time: .2f}s\")\n",
    "\n",
    "# Save vectorizer\n",
    "#with open('models/GloVe_twitter25_aggMean.pickle','wb') as f:\n",
    "#    pickle.dump(vectorizer, f)\n",
    "\n",
    "\n",
    "display(Markdown(\"*Naive Bayes*\"))\n",
    "model_save = 'models/GloVe_twitter25_aggMax_NB_balancedWeight.pickle'\n",
    "report_save ='models/GloVe_twitter25_aggMax_NB_balancedWeight_report.csv' \n",
    "classifier = make_pipeline(MinMaxScaler(), MultinomialNB(fit_prior=False))\n",
    "train_classifier(classifier, x_train_vect, y_train, x_valid_vect, y_valid, model_save, report_save)\n",
    "\n",
    "\n",
    "display(Markdown(\"*Logistic Regression*\"))\n",
    "model_save = 'models/GloVe_twitter25_aggMax_LR_balancedWeight.pickle'\n",
    "report_save ='models/GloVe_twitter25_aggMax_LR_balancedWeight_report.csv' \n",
    "classifier = make_pipeline(Normalizer(), LogisticRegression(class_weight='balanced',max_iter=500))\n",
    "train_classifier(classifier, x_train_vect, y_train, x_valid_vect, y_valid, model_save, report_save)\n",
    "\n",
    "\n",
    "display(Markdown(\"*Support Vector Machine*\"))\n",
    "model_save = 'models/GloVe_twitter25_aggMax_SVM_balancedWeight.pickle'\n",
    "report_save ='models/GloVe_twitter25_aggMax_SVM_balancedWeight_report.csv' \n",
    "classifier = make_pipeline(Normalizer(), LinearSVC(class_weight='balanced',max_iter=500))\n",
    "train_classifier(classifier, x_train_vect, y_train, x_valid_vect, y_valid, model_save, report_save)\n",
    "\n",
    "plot_f1(vectorizer='GloVe_twitter25_aggMax',classifiers=['NB','LR','SVM'],mode='balancedWeight')\n",
    "\n"
   ]
  },
  {
   "cell_type": "code",
   "execution_count": 61,
   "metadata": {
    "scrolled": false
   },
   "outputs": [
    {
     "data": {
      "text/markdown": [
       "**GloVe_Twitter25_Sum**"
      ],
      "text/plain": [
       "<IPython.core.display.Markdown object>"
      ]
     },
     "metadata": {},
     "output_type": "display_data"
    },
    {
     "name": "stdout",
     "output_type": "stream",
     "text": [
      "data_vectorization:  0.62s\n"
     ]
    },
    {
     "data": {
      "text/markdown": [
       "*Naive Bayes*"
      ],
      "text/plain": [
       "<IPython.core.display.Markdown object>"
      ]
     },
     "metadata": {},
     "output_type": "display_data"
    },
    {
     "name": "stdout",
     "output_type": "stream",
     "text": [
      "\n",
      "Training Set Performance:\n",
      "               precision    recall  f1-score   support\n",
      "\n",
      "    negative       0.35      0.57      0.43      3226\n",
      "     neutral       0.42      0.59      0.49      4986\n",
      "    positive       0.68      0.31      0.42      7510\n",
      "\n",
      "    accuracy                           0.45     15722\n",
      "   macro avg       0.48      0.49      0.45     15722\n",
      "weighted avg       0.53      0.45      0.45     15722\n",
      "\n",
      "\n",
      "Validation Set Performance:\n",
      "               precision    recall  f1-score   support\n",
      "\n",
      "    negative       0.33      0.56      0.42       404\n",
      "     neutral       0.42      0.59      0.49       623\n",
      "    positive       0.68      0.30      0.41       939\n",
      "\n",
      "    accuracy                           0.44      1966\n",
      "   macro avg       0.48      0.48      0.44      1966\n",
      "weighted avg       0.53      0.44      0.44      1966\n",
      "\n",
      "Time to train:  0.04s\n",
      "Time to predict:  0.00s\n"
     ]
    },
    {
     "data": {
      "text/markdown": [
       "*Logistic Regression*"
      ],
      "text/plain": [
       "<IPython.core.display.Markdown object>"
      ]
     },
     "metadata": {},
     "output_type": "display_data"
    },
    {
     "name": "stdout",
     "output_type": "stream",
     "text": [
      "\n",
      "Training Set Performance:\n",
      "               precision    recall  f1-score   support\n",
      "\n",
      "    negative       0.40      0.64      0.49      3226\n",
      "     neutral       0.47      0.45      0.46      4986\n",
      "    positive       0.68      0.53      0.59      7510\n",
      "\n",
      "    accuracy                           0.52     15722\n",
      "   macro avg       0.52      0.54      0.51     15722\n",
      "weighted avg       0.56      0.52      0.53     15722\n",
      "\n",
      "\n",
      "Validation Set Performance:\n",
      "               precision    recall  f1-score   support\n",
      "\n",
      "    negative       0.37      0.60      0.46       404\n",
      "     neutral       0.47      0.46      0.46       623\n",
      "    positive       0.70      0.53      0.60       939\n",
      "\n",
      "    accuracy                           0.52      1966\n",
      "   macro avg       0.51      0.53      0.51      1966\n",
      "weighted avg       0.56      0.52      0.53      1966\n",
      "\n",
      "Time to train:  0.63s\n",
      "Time to predict:  0.01s\n"
     ]
    },
    {
     "data": {
      "text/markdown": [
       "*Support Vector Machine*"
      ],
      "text/plain": [
       "<IPython.core.display.Markdown object>"
      ]
     },
     "metadata": {},
     "output_type": "display_data"
    },
    {
     "name": "stdout",
     "output_type": "stream",
     "text": [
      "\n",
      "Training Set Performance:\n",
      "               precision    recall  f1-score   support\n",
      "\n",
      "    negative       0.42      0.54      0.47      3226\n",
      "     neutral       0.49      0.37      0.43      4986\n",
      "    positive       0.64      0.66      0.65      7510\n",
      "\n",
      "    accuracy                           0.55     15722\n",
      "   macro avg       0.52      0.53      0.52     15722\n",
      "weighted avg       0.55      0.55      0.54     15722\n",
      "\n",
      "\n",
      "Validation Set Performance:\n",
      "               precision    recall  f1-score   support\n",
      "\n",
      "    negative       0.39      0.53      0.45       404\n",
      "     neutral       0.49      0.38      0.43       623\n",
      "    positive       0.65      0.65      0.65       939\n",
      "\n",
      "    accuracy                           0.54      1966\n",
      "   macro avg       0.51      0.52      0.51      1966\n",
      "weighted avg       0.55      0.54      0.54      1966\n",
      "\n",
      "Time to train:  0.34s\n",
      "Time to predict:  0.00s\n"
     ]
    },
    {
     "data": {
      "image/png": "[encoded data removed]",
      "text/plain": [
       "<Figure size 1080x360 with 3 Axes>"
      ]
     },
     "metadata": {
      "needs_background": "light"
     },
     "output_type": "display_data"
    }
   ],
   "source": [
    "display(Markdown(\"**GloVe_Twitter25_Sum**\"))\n",
    "\n",
    "start_time = time.time()\n",
    "vectorizer = WordEmbeddingVectorizer(model_glove_twitter,mode='aggregate',by='sum')\n",
    "\n",
    "# Data vectorization\n",
    "x_train_vect = vectorizer.transform(x_train) \n",
    "x_valid_vect = vectorizer.transform(x_valid)\n",
    "transform_time = time.time()\n",
    "\n",
    "print(f\"data_vectorization: {transform_time - start_time: .2f}s\")\n",
    "\n",
    "# Save vectorizer\n",
    "#with open('models/GloVe_twitter25_aggMean.pickle','wb') as f:\n",
    "#    pickle.dump(vectorizer, f)\n",
    "\n",
    "\n",
    "display(Markdown(\"*Naive Bayes*\"))\n",
    "model_save = 'models/GloVe_twitter25_aggSum_NB_balancedWeight.pickle'\n",
    "report_save ='models/GloVe_twitter25_aggSum_NB_balancedWeight_report.csv' \n",
    "classifier = make_pipeline(MinMaxScaler(), MultinomialNB(fit_prior=False))\n",
    "train_classifier(classifier, x_train_vect, y_train, x_valid_vect, y_valid, model_save, report_save)\n",
    "\n",
    "\n",
    "display(Markdown(\"*Logistic Regression*\"))\n",
    "model_save = 'models/GloVe_twitter25_aggSum_LR_balancedWeight.pickle'\n",
    "report_save ='models/GloVe_twitter25_aggSum_LR_balancedWeight_report.csv' \n",
    "classifier = make_pipeline(Normalizer(), LogisticRegression(class_weight='balanced',max_iter=500))\n",
    "train_classifier(classifier, x_train_vect, y_train, x_valid_vect, y_valid, model_save, report_save)\n",
    "\n",
    "\n",
    "display(Markdown(\"*Support Vector Machine*\"))\n",
    "model_save = 'models/GloVe_twitter25_aggSum_SVM_balancedWeight.pickle'\n",
    "report_save ='models/GloVe_twitter25_aggSum_SVM_balancedWeight_report.csv' \n",
    "classifier = make_pipeline(Normalizer(), LinearSVC(class_weight='balanced',max_iter=500))\n",
    "train_classifier(classifier, x_train_vect, y_train, x_valid_vect, y_valid, model_save, report_save)\n",
    "\n",
    "plot_f1(vectorizer='GloVe_twitter25_aggSum',classifiers=['NB','LR','SVM'],mode='balancedWeight')\n",
    "\n"
   ]
  },
  {
   "cell_type": "code",
   "execution_count": null,
   "metadata": {},
   "outputs": [],
   "source": []
  },
  {
   "cell_type": "code",
   "execution_count": 62,
   "metadata": {
    "scrolled": false
   },
   "outputs": [
    {
     "data": {
      "text/markdown": [
       "**GloVe_Twitter200_AggMean**"
      ],
      "text/plain": [
       "<IPython.core.display.Markdown object>"
      ]
     },
     "metadata": {},
     "output_type": "display_data"
    },
    {
     "name": "stdout",
     "output_type": "stream",
     "text": [
      "data_vectorization:  0.93s\n"
     ]
    },
    {
     "data": {
      "text/markdown": [
       "*Naive Bayes*"
      ],
      "text/plain": [
       "<IPython.core.display.Markdown object>"
      ]
     },
     "metadata": {},
     "output_type": "display_data"
    },
    {
     "name": "stdout",
     "output_type": "stream",
     "text": [
      "\n",
      "Training Set Performance:\n",
      "               precision    recall  f1-score   support\n",
      "\n",
      "    negative       0.37      0.62      0.46      3226\n",
      "     neutral       0.43      0.57      0.49      4986\n",
      "    positive       0.71      0.35      0.47      7510\n",
      "\n",
      "    accuracy                           0.48     15722\n",
      "   macro avg       0.50      0.51      0.48     15722\n",
      "weighted avg       0.55      0.48      0.48     15722\n",
      "\n",
      "\n",
      "Validation Set Performance:\n",
      "               precision    recall  f1-score   support\n",
      "\n",
      "    negative       0.35      0.58      0.43       404\n",
      "     neutral       0.45      0.60      0.51       623\n",
      "    positive       0.73      0.36      0.48       939\n",
      "\n",
      "    accuracy                           0.48      1966\n",
      "   macro avg       0.51      0.51      0.48      1966\n",
      "weighted avg       0.56      0.48      0.48      1966\n",
      "\n",
      "Time to train:  0.07s\n",
      "Time to predict:  0.03s\n"
     ]
    },
    {
     "data": {
      "text/markdown": [
       "*Logistic Regression*"
      ],
      "text/plain": [
       "<IPython.core.display.Markdown object>"
      ]
     },
     "metadata": {},
     "output_type": "display_data"
    },
    {
     "name": "stdout",
     "output_type": "stream",
     "text": [
      "\n",
      "Training Set Performance:\n",
      "               precision    recall  f1-score   support\n",
      "\n",
      "    negative       0.45      0.68      0.54      3226\n",
      "     neutral       0.52      0.52      0.52      4986\n",
      "    positive       0.74      0.57      0.64      7510\n",
      "\n",
      "    accuracy                           0.58     15722\n",
      "   macro avg       0.57      0.59      0.57     15722\n",
      "weighted avg       0.61      0.58      0.58     15722\n",
      "\n",
      "\n",
      "Validation Set Performance:\n",
      "               precision    recall  f1-score   support\n",
      "\n",
      "    negative       0.42      0.63      0.50       404\n",
      "     neutral       0.50      0.52      0.51       623\n",
      "    positive       0.73      0.55      0.63       939\n",
      "\n",
      "    accuracy                           0.56      1966\n",
      "   macro avg       0.55      0.57      0.55      1966\n",
      "weighted avg       0.59      0.56      0.56      1966\n",
      "\n",
      "Time to train:  1.02s\n",
      "Time to predict:  0.03s\n"
     ]
    },
    {
     "data": {
      "text/markdown": [
       "*Support Vector Machine*"
      ],
      "text/plain": [
       "<IPython.core.display.Markdown object>"
      ]
     },
     "metadata": {},
     "output_type": "display_data"
    },
    {
     "name": "stdout",
     "output_type": "stream",
     "text": [
      "\n",
      "Training Set Performance:\n",
      "               precision    recall  f1-score   support\n",
      "\n",
      "    negative       0.49      0.61      0.55      3226\n",
      "     neutral       0.54      0.48      0.51      4986\n",
      "    positive       0.69      0.68      0.68      7510\n",
      "\n",
      "    accuracy                           0.60     15722\n",
      "   macro avg       0.58      0.59      0.58     15722\n",
      "weighted avg       0.60      0.60      0.60     15722\n",
      "\n",
      "\n",
      "Validation Set Performance:\n",
      "               precision    recall  f1-score   support\n",
      "\n",
      "    negative       0.45      0.56      0.50       404\n",
      "     neutral       0.52      0.47      0.49       623\n",
      "    positive       0.69      0.66      0.68       939\n",
      "\n",
      "    accuracy                           0.58      1966\n",
      "   macro avg       0.55      0.56      0.56      1966\n",
      "weighted avg       0.59      0.58      0.58      1966\n",
      "\n",
      "Time to train:  1.49s\n",
      "Time to predict:  0.03s\n"
     ]
    },
    {
     "data": {
      "image/png": "[encoded data removed]",
      "text/plain": [
       "<Figure size 1080x360 with 3 Axes>"
      ]
     },
     "metadata": {
      "needs_background": "light"
     },
     "output_type": "display_data"
    }
   ],
   "source": [
    "model_glove_twitter = api.load(\"glove-twitter-200\")\n",
    "\n",
    "display(Markdown(\"**GloVe_Twitter200_AggMean**\"))\n",
    "\n",
    "start_time = time.time()\n",
    "vectorizer = WordEmbeddingVectorizer(model_glove_twitter,mode='aggregate',by='mean')\n",
    "\n",
    "# Data vectorization\n",
    "x_train_vect = vectorizer.transform(x_train) \n",
    "x_valid_vect = vectorizer.transform(x_valid)\n",
    "transform_time = time.time()\n",
    "\n",
    "print(f\"data_vectorization: {transform_time - start_time: .2f}s\")\n",
    "\n",
    "display(Markdown(\"*Naive Bayes*\"))\n",
    "model_save = 'models/GloVe_twitter200_aggMean_NB_balancedWeight.pickle'\n",
    "report_save ='models/GloVe_twitter200_aggMean_NB_balancedWeight_report.csv' \n",
    "classifier = make_pipeline(MinMaxScaler(), MultinomialNB(fit_prior=False))\n",
    "train_classifier(classifier, x_train_vect, y_train, x_valid_vect, y_valid, model_save, report_save)\n",
    "\n",
    "\n",
    "display(Markdown(\"*Logistic Regression*\"))\n",
    "model_save = 'models/GloVe_twitter200_aggMean_LR_balancedWeight.pickle'\n",
    "report_save ='models/GloVe_twitter200_aggMean_LR_balancedWeight_report.csv' \n",
    "classifier = make_pipeline(Normalizer(), LogisticRegression(class_weight='balanced',max_iter=500))\n",
    "train_classifier(classifier, x_train_vect, y_train, x_valid_vect, y_valid, model_save, report_save)\n",
    "\n",
    "\n",
    "display(Markdown(\"*Support Vector Machine*\"))\n",
    "model_save = 'models/GloVe_twitter200_aggMean_SVM_balancedWeight.pickle'\n",
    "report_save ='models/GloVe_twitter200_aggMean_SVM_balancedWeight_report.csv' \n",
    "classifier = make_pipeline(Normalizer(), LinearSVC(class_weight='balanced',max_iter=500))\n",
    "train_classifier(classifier, x_train_vect, y_train, x_valid_vect, y_valid, model_save, report_save)\n",
    "\n",
    "plot_f1(vectorizer='GloVe_twitter200_aggMean',classifiers=['NB','LR','SVM'],mode='balancedWeight')\n",
    "\n"
   ]
  },
  {
   "cell_type": "code",
   "execution_count": null,
   "metadata": {},
   "outputs": [],
   "source": [
    "# Save best performing vectorizer\n",
    "with open('models/GloVe_twitter200_aggMean.pickle','wb') as f:\n",
    "    pickle.dump(vectorizer, f)\n"
   ]
  },
  {
   "cell_type": "markdown",
   "metadata": {},
   "source": [
    "***Oberservations:***\n",
    "- *For GloVe embeddings (pretrained on twitter data), higher features with 200D is better than 25D for all three classifiers (c. 4-5% performance increase)*\n",
    "- *To aggregate, taking mean and sum are better than taking the max (c. 5% difference)*\n",
    "- *For GloVe Embeddings with 200D and aggregate by mean, SVM gives the best macro average f1 score at c. 55.6%*\n"
   ]
  },
  {
   "cell_type": "markdown",
   "metadata": {},
   "source": [
    "# "
   ]
  },
  {
   "cell_type": "markdown",
   "metadata": {},
   "source": [
    "#### Word2Vec Embeddings"
   ]
  },
  {
   "cell_type": "code",
   "execution_count": 64,
   "metadata": {
    "scrolled": false
   },
   "outputs": [
    {
     "data": {
      "text/markdown": [
       "**Word2Vec_News300_AggMean**"
      ],
      "text/plain": [
       "<IPython.core.display.Markdown object>"
      ]
     },
     "metadata": {},
     "output_type": "display_data"
    },
    {
     "name": "stdout",
     "output_type": "stream",
     "text": [
      "data_vectorization:  1.02s\n"
     ]
    },
    {
     "data": {
      "text/markdown": [
       "*Naive Bayes*"
      ],
      "text/plain": [
       "<IPython.core.display.Markdown object>"
      ]
     },
     "metadata": {},
     "output_type": "display_data"
    },
    {
     "name": "stdout",
     "output_type": "stream",
     "text": [
      "\n",
      "Training Set Performance:\n",
      "               precision    recall  f1-score   support\n",
      "\n",
      "    negative       0.36      0.64      0.46      3226\n",
      "     neutral       0.44      0.58      0.50      4986\n",
      "    positive       0.72      0.32      0.44      7510\n",
      "\n",
      "    accuracy                           0.47     15722\n",
      "   macro avg       0.50      0.51      0.47     15722\n",
      "weighted avg       0.55      0.47      0.46     15722\n",
      "\n",
      "\n",
      "Validation Set Performance:\n",
      "               precision    recall  f1-score   support\n",
      "\n",
      "    negative       0.36      0.63      0.46       404\n",
      "     neutral       0.45      0.59      0.51       623\n",
      "    positive       0.73      0.34      0.46       939\n",
      "\n",
      "    accuracy                           0.48      1966\n",
      "   macro avg       0.51      0.52      0.48      1966\n",
      "weighted avg       0.56      0.48      0.48      1966\n",
      "\n",
      "Time to train:  0.09s\n",
      "Time to predict:  0.05s\n"
     ]
    },
    {
     "data": {
      "text/markdown": [
       "*Logistic Regression*"
      ],
      "text/plain": [
       "<IPython.core.display.Markdown object>"
      ]
     },
     "metadata": {},
     "output_type": "display_data"
    },
    {
     "name": "stdout",
     "output_type": "stream",
     "text": [
      "\n",
      "Training Set Performance:\n",
      "               precision    recall  f1-score   support\n",
      "\n",
      "    negative       0.50      0.71      0.58      3226\n",
      "     neutral       0.56      0.57      0.57      4986\n",
      "    positive       0.76      0.61      0.68      7510\n",
      "\n",
      "    accuracy                           0.62     15722\n",
      "   macro avg       0.61      0.63      0.61     15722\n",
      "weighted avg       0.64      0.62      0.62     15722\n",
      "\n",
      "\n",
      "Validation Set Performance:\n",
      "               precision    recall  f1-score   support\n",
      "\n",
      "    negative       0.46      0.69      0.56       404\n",
      "     neutral       0.55      0.56      0.55       623\n",
      "    positive       0.77      0.60      0.68       939\n",
      "\n",
      "    accuracy                           0.61      1966\n",
      "   macro avg       0.60      0.62      0.60      1966\n",
      "weighted avg       0.64      0.61      0.61      1966\n",
      "\n",
      "Time to train:  1.24s\n",
      "Time to predict:  0.07s\n"
     ]
    },
    {
     "data": {
      "text/markdown": [
       "*Support Vector Machine*"
      ],
      "text/plain": [
       "<IPython.core.display.Markdown object>"
      ]
     },
     "metadata": {},
     "output_type": "display_data"
    },
    {
     "name": "stdout",
     "output_type": "stream",
     "text": [
      "\n",
      "Training Set Performance:\n",
      "               precision    recall  f1-score   support\n",
      "\n",
      "    negative       0.53      0.65      0.58      3226\n",
      "     neutral       0.58      0.54      0.56      4986\n",
      "    positive       0.73      0.69      0.71      7510\n",
      "\n",
      "    accuracy                           0.63     15722\n",
      "   macro avg       0.61      0.63      0.62     15722\n",
      "weighted avg       0.64      0.63      0.64     15722\n",
      "\n",
      "\n",
      "Validation Set Performance:\n",
      "               precision    recall  f1-score   support\n",
      "\n",
      "    negative       0.50      0.65      0.57       404\n",
      "     neutral       0.58      0.54      0.56       623\n",
      "    positive       0.74      0.69      0.71       939\n",
      "\n",
      "    accuracy                           0.63      1966\n",
      "   macro avg       0.61      0.62      0.61      1966\n",
      "weighted avg       0.64      0.63      0.63      1966\n",
      "\n",
      "Time to train:  2.07s\n",
      "Time to predict:  0.05s\n"
     ]
    },
    {
     "data": {
      "image/png": "[encoded data removed]",
      "text/plain": [
       "<Figure size 1080x360 with 3 Axes>"
      ]
     },
     "metadata": {
      "needs_background": "light"
     },
     "output_type": "display_data"
    }
   ],
   "source": [
    "model_w2v_news = api.load(\"word2vec-google-news-300\")\n",
    "# Pre-trained vectors trained on a part of the Google News dataset (about 100 billion words). The model contains 300-dimensional vectors for 3 million words and phrases. The phrases were obtained using a simple data-driven approach described in 'Distributed Representations of Words and Phrases and their Compositionality' (https://code.google.com/archive/p/word2vec/).\",\n",
    "\n",
    "display(Markdown(\"**Word2Vec_News300_AggMean**\"))\n",
    "\n",
    "start_time = time.time()\n",
    "vectorizer = WordEmbeddingVectorizer(model_w2v_news,mode='aggregate',by='mean')\n",
    "\n",
    "# Data vectorization\n",
    "x_train_vect = vectorizer.transform(x_train) \n",
    "x_valid_vect = vectorizer.transform(x_valid)\n",
    "transform_time = time.time()\n",
    "\n",
    "print(f\"data_vectorization: {transform_time - start_time: .2f}s\")\n",
    "\n",
    "display(Markdown(\"*Naive Bayes*\"))\n",
    "model_save = 'models/Word2Vec_news300_aggMean_NB_balancedWeight.pickle'\n",
    "report_save ='models/Word2Vec_news300_aggMean_NB_balancedWeight_report.csv' \n",
    "classifier = make_pipeline(MinMaxScaler(), MultinomialNB(fit_prior=False))\n",
    "train_classifier(classifier, x_train_vect, y_train, x_valid_vect, y_valid, model_save, report_save)\n",
    "\n",
    "\n",
    "display(Markdown(\"*Logistic Regression*\"))\n",
    "model_save = 'models/Word2Vec_news300_aggMean_LR_balancedWeight.pickle'\n",
    "report_save ='models/Word2Vec_news300_aggMean_LR_balancedWeight_report.csv' \n",
    "classifier = make_pipeline(Normalizer(), LogisticRegression(class_weight='balanced',max_iter=500))\n",
    "train_classifier(classifier, x_train_vect, y_train, x_valid_vect, y_valid, model_save, report_save)\n",
    "\n",
    "\n",
    "display(Markdown(\"*Support Vector Machine*\"))\n",
    "model_save = 'models/Word2Vec_news300_aggMean_SVM_balancedWeight.pickle'\n",
    "report_save ='models/Word2Vec_news300_aggMean_SVM_balancedWeight_report.csv' \n",
    "classifier = make_pipeline(Normalizer(), LinearSVC(class_weight='balanced',max_iter=500))\n",
    "train_classifier(classifier, x_train_vect, y_train, x_valid_vect, y_valid, model_save, report_save)\n",
    "\n",
    "plot_f1(vectorizer='Word2Vec_news300_aggMean',classifiers=['NB','LR','SVM'],mode='balancedWeight')\n",
    "\n",
    "# Save vectorizer\n",
    "with open('models/Word2Vec_news300_aggMean.pickle','wb') as f:\n",
    "    pickle.dump(vectorizer, f)\n"
   ]
  },
  {
   "cell_type": "markdown",
   "metadata": {},
   "source": [
    "***Oberservations:***\n",
    "- *For Word2Vec embeddings (pretrained on google news), SVM peformed better than LR and NB*\n",
    "- *It achieved the highest macro average f1 score (c. 61%) amongst all classificaiton methods tried so far*\n",
    "\n"
   ]
  },
  {
   "cell_type": "markdown",
   "metadata": {},
   "source": [
    "# "
   ]
  },
  {
   "cell_type": "markdown",
   "metadata": {},
   "source": [
    "### Select Best Performing Classifier Models"
   ]
  },
  {
   "cell_type": "code",
   "execution_count": 67,
   "metadata": {},
   "outputs": [],
   "source": [
    "select_models = ['Count_word_NB_balancedWeight', 'Tfidf_word_LR_balancedWeight','Word2Vec_news300_aggMean_SVM_balancedWeight']\n",
    "\n",
    "select_vectorizers = ['CountVectorizer_unigram.pickle','TfidfVectorizer_unigram.pickle','Word2Vec_news300_aggMean.pickle']\n"
   ]
  },
  {
   "cell_type": "code",
   "execution_count": 73,
   "metadata": {},
   "outputs": [],
   "source": [
    "def plot_score(models,metric='f1-score'): \n",
    "    \n",
    "    cols = len(models)        \n",
    "    fig,ax = plt.subplots(1,cols, tight_layout=True,sharex=True,sharey=True,figsize=(15,5))\n",
    "    fig.suptitle(\"classification performance on validation set by \"+metric)\n",
    "    \n",
    "    for j in range(cols):\n",
    "        report_name = 'models/'+ models[j]+'_report.csv'\n",
    "        df_report = pd.read_csv(report_name)\n",
    "        data_bar = df_report[df_report['report']=='valid'].iloc[[0,1,2]][metric]\n",
    "        data_line = df_report[df_report['report']=='valid'].iloc[[4]][metric].values.item()\n",
    "        ax[j].set_title(models[j])\n",
    "        ax[j].set_ylabel(metric)\n",
    "        x = ax[j].bar(['negative','neutral','positive'],data_bar)\n",
    "        x[0].set_color('C0')\n",
    "        x[1].set_color('C1')\n",
    "        x[2].set_color('C2')\n",
    "        ax[j].axhline(data_line,color='C3', linestyle='dashed')\n",
    "        ax[j].annotate(f\"Macro Avg: {data_line:.3}\",(-0.3,data_line+.05))\n",
    "        ax[j].set_ylim(0,1)\n",
    "        "
   ]
  },
  {
   "cell_type": "code",
   "execution_count": 74,
   "metadata": {},
   "outputs": [
    {
     "data": {
      "image/png": "[encoded data removed]",
      "text/plain": [
       "<Figure size 1080x360 with 3 Axes>"
      ]
     },
     "metadata": {
      "needs_background": "light"
     },
     "output_type": "display_data"
    }
   ],
   "source": [
    "plot_score(select_models,'f1-score')\n"
   ]
  },
  {
   "cell_type": "code",
   "execution_count": 75,
   "metadata": {},
   "outputs": [
    {
     "data": {
      "image/png": "[encoded data removed]",
      "text/plain": [
       "<Figure size 1080x360 with 3 Axes>"
      ]
     },
     "metadata": {
      "needs_background": "light"
     },
     "output_type": "display_data"
    }
   ],
   "source": [
    "plot_score(select_models,'precision')\n"
   ]
  },
  {
   "cell_type": "code",
   "execution_count": 76,
   "metadata": {},
   "outputs": [
    {
     "data": {
      "image/png": "[encoded data removed]",
      "text/plain": [
       "<Figure size 1080x360 with 3 Axes>"
      ]
     },
     "metadata": {
      "needs_background": "light"
     },
     "output_type": "display_data"
    }
   ],
   "source": [
    "plot_score(select_models,'recall')\n"
   ]
  },
  {
   "cell_type": "code",
   "execution_count": 87,
   "metadata": {},
   "outputs": [
    {
     "name": "stderr",
     "output_type": "stream",
     "text": [
      "C:\\ProgramData\\Anaconda3\\lib\\site-packages\\ipykernel_launcher.py:10: SettingWithCopyWarning: \n",
      "A value is trying to be set on a copy of a slice from a DataFrame.\n",
      "Try using .loc[row_indexer,col_indexer] = value instead\n",
      "\n",
      "See the caveats in the documentation: https://pandas.pydata.org/pandas-docs/stable/user_guide/indexing.html#returning-a-view-versus-a-copy\n",
      "  # Remove the CWD from sys.path while we load stuff.\n",
      "C:\\ProgramData\\Anaconda3\\lib\\site-packages\\ipykernel_launcher.py:14: SettingWithCopyWarning: \n",
      "A value is trying to be set on a copy of a slice from a DataFrame.\n",
      "Try using .loc[row_indexer,col_indexer] = value instead\n",
      "\n",
      "See the caveats in the documentation: https://pandas.pydata.org/pandas-docs/stable/user_guide/indexing.html#returning-a-view-versus-a-copy\n",
      "  \n",
      "C:\\ProgramData\\Anaconda3\\lib\\site-packages\\ipykernel_launcher.py:22: SettingWithCopyWarning: \n",
      "A value is trying to be set on a copy of a slice from a DataFrame.\n",
      "Try using .loc[row_indexer,col_indexer] = value instead\n",
      "\n",
      "See the caveats in the documentation: https://pandas.pydata.org/pandas-docs/stable/user_guide/indexing.html#returning-a-view-versus-a-copy\n",
      "C:\\ProgramData\\Anaconda3\\lib\\site-packages\\ipykernel_launcher.py:10: SettingWithCopyWarning: \n",
      "A value is trying to be set on a copy of a slice from a DataFrame.\n",
      "Try using .loc[row_indexer,col_indexer] = value instead\n",
      "\n",
      "See the caveats in the documentation: https://pandas.pydata.org/pandas-docs/stable/user_guide/indexing.html#returning-a-view-versus-a-copy\n",
      "  # Remove the CWD from sys.path while we load stuff.\n",
      "C:\\ProgramData\\Anaconda3\\lib\\site-packages\\ipykernel_launcher.py:14: SettingWithCopyWarning: \n",
      "A value is trying to be set on a copy of a slice from a DataFrame.\n",
      "Try using .loc[row_indexer,col_indexer] = value instead\n",
      "\n",
      "See the caveats in the documentation: https://pandas.pydata.org/pandas-docs/stable/user_guide/indexing.html#returning-a-view-versus-a-copy\n",
      "  \n",
      "C:\\ProgramData\\Anaconda3\\lib\\site-packages\\ipykernel_launcher.py:22: SettingWithCopyWarning: \n",
      "A value is trying to be set on a copy of a slice from a DataFrame.\n",
      "Try using .loc[row_indexer,col_indexer] = value instead\n",
      "\n",
      "See the caveats in the documentation: https://pandas.pydata.org/pandas-docs/stable/user_guide/indexing.html#returning-a-view-versus-a-copy\n"
     ]
    }
   ],
   "source": [
    "# Save prediction outputs from selected models to dataset for ensemble model\n",
    "\n",
    "for v, m in zip(select_vectorizers, select_models):\n",
    "    with open('models/'+v,'rb') as f:\n",
    "        vectorizer = pickle.load(f)\n",
    "    with open('models/'+m+'.pickle','rb') as f:\n",
    "        classifier = pickle.load(f)\n",
    "    \n",
    "    x_train_vect = vectorizer.transform(x_train)\n",
    "    df_train['pred_'+m]=classifier.predict(x_train_vect)\n",
    "    df_train.to_csv('data/Twitter_train.csv',index=False)\n",
    "    \n",
    "    x_valid_vect = vectorizer.transform(x_valid)\n",
    "    df_valid['pred_'+m]=classifier.predict(x_valid_vect)\n",
    "    df_valid.to_csv('data/Twitter_valid.csv',index=False)\n",
    "    \n",
    "    \n",
    "    # perform prediction on test set\n",
    "    x_test = df_test['text_clean']\n",
    "    y_test = df_test['sentiment']\n",
    "    x_test_vect = vectorizer.transform(x_test)\n",
    "    df_test['pred_'+m]=classifier.predict(x_test_vect)\n",
    "    df_test.to_csv('data/Twitter_test.csv',index=False)\n",
    "    "
   ]
  },
  {
   "cell_type": "code",
   "execution_count": 92,
   "metadata": {},
   "outputs": [
    {
     "name": "stdout",
     "output_type": "stream",
     "text": [
      "\n",
      "Classification Report for Test Set with Count_word_NB_balancedWeight:\n",
      "               precision    recall  f1-score   support\n",
      "\n",
      "    negative       0.49      0.62      0.55       403\n",
      "     neutral       0.55      0.54      0.54       623\n",
      "    positive       0.71      0.63      0.67       939\n",
      "\n",
      "    accuracy                           0.60      1965\n",
      "   macro avg       0.58      0.60      0.59      1965\n",
      "weighted avg       0.61      0.60      0.60      1965\n",
      "\n",
      "\n",
      "\n",
      "Classification Report for Test Set with Tfidf_word_LR_balancedWeight:\n",
      "               precision    recall  f1-score   support\n",
      "\n",
      "    negative       0.51      0.64      0.57       403\n",
      "     neutral       0.54      0.61      0.58       623\n",
      "    positive       0.77      0.62      0.69       939\n",
      "\n",
      "    accuracy                           0.62      1965\n",
      "   macro avg       0.61      0.62      0.61      1965\n",
      "weighted avg       0.65      0.62      0.63      1965\n",
      "\n",
      "\n",
      "\n",
      "Classification Report for Test Set with Word2Vec_news300_aggMean_SVM_balancedWeight:\n",
      "               precision    recall  f1-score   support\n",
      "\n",
      "    negative       0.51      0.67      0.58       403\n",
      "     neutral       0.55      0.52      0.53       623\n",
      "    positive       0.72      0.65      0.68       939\n",
      "\n",
      "    accuracy                           0.61      1965\n",
      "   macro avg       0.59      0.61      0.60      1965\n",
      "weighted avg       0.62      0.61      0.61      1965\n",
      "\n",
      "\n"
     ]
    }
   ],
   "source": [
    "for m in select_models:\n",
    "    print(f\"\\nClassification Report for Test Set with {m}:\\n\", classification_report(df_test['sentiment'], df_test['pred_'+m]))\n",
    "    print()"
   ]
  },
  {
   "cell_type": "markdown",
   "metadata": {},
   "source": [
    "### Concluding Remarks:\n",
    "- Selected ML classification models (NB,LR and SVM) predict sentiment classification with a macro average F1 score around 60% on test set.\n",
    "- Will use these selected models in ensemble model to see if we could improve classification performance."
   ]
  }
 ],
 "metadata": {
  "kernelspec": {
   "display_name": "Python 3",
   "language": "python",
   "name": "python3"
  },
  "language_info": {
   "codemirror_mode": {
    "name": "ipython",
    "version": 3
   },
   "file_extension": ".py",
   "mimetype": "text/x-python",
   "name": "python",
   "nbconvert_exporter": "python",
   "pygments_lexer": "ipython3",
   "version": "3.7.9"
  }
 },
 "nbformat": 4,
 "nbformat_minor": 4
}

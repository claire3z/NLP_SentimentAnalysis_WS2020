{
 "cells": [
  {
   "cell_type": "markdown",
   "metadata": {
    "id": "5jCan0uapwTQ"
   },
   "source": [
    "# Twitter Sentiment Analysis for Stock Investment\n",
    "\n",
    "\n",
    "**Claire Zhao Sun**\n",
    "- Matrikelnummer: 3630998\n",
    "- Msc. Scientific Computing, Heidelberg University\n",
    "- pz237@stud.uni-heidelberg.de\n",
    "\n",
    "**Last Modified: 2021.02.03**\n",
    "\n",
    "References:\n",
    "- Documentation: https://huggingface.co/transformers/model_doc/bert.html\n",
    "- BERTweet: https://github.com/VinAIResearch/BERTweet\n",
    "- Fine-tuning Tutorial: https://colab.research.google.com/drive/1PHv-IRLPCtv7oTcIGbsgZHqrB5LPvB7S#scrollTo=9aHyGuTFgyPO\n",
    "- Dataloader: https://pytorch.org/tutorials/beginner/data_loading_tutorial.html#dataset-class\n",
    "-             https://towardsdatascience.com/building-efficient-custom-datasets-in-pytorch-2563b946fd9f\n",
    "- CUDA out of Memory Error: https://github.com/pytorch/pytorch/issues/16417 \n",
    "\n"
   ]
  },
  {
   "cell_type": "code",
   "execution_count": null,
   "metadata": {
    "id": "oWCpGbEDjCwq"
   },
   "outputs": [],
   "source": [
    "# To increase Google RAM allocation\n",
    "a  = []\n",
    "while(1):\n",
    "    a.append('1')\n",
    "\n",
    "# After a minute or so, you will get a notification from Colab saying “Your session crashed.”\n",
    "# This will be followed by a screen asking if you would like to switch to a high-RAM runtime.\n",
    "# Click yes, and you will be upgraded to 25GB of RAM. \n"
   ]
  },
  {
   "cell_type": "code",
   "execution_count": 1,
   "metadata": {
    "colab": {
     "base_uri": "https://localhost:8080/"
    },
    "id": "fwZxb6kAp5N2",
    "outputId": "15cc98d3-6fdc-420b-d861-86911325d4ac"
   },
   "outputs": [
    {
     "name": "stdout",
     "output_type": "stream",
     "text": [
      "Mounted at /content/drive\n",
      "data  models  modules  output\n"
     ]
    }
   ],
   "source": [
    "# mount to googledrive\n",
    "from google.colab import drive\n",
    "drive.mount('/content/drive')\n",
    "!ls \"/content/drive/MyDrive/NLP\"\n"
   ]
  },
  {
   "cell_type": "code",
   "execution_count": 2,
   "metadata": {
    "id": "epvaHazWdYJQ"
   },
   "outputs": [],
   "source": [
    "import sys\n",
    "sys.path.append('/content/drive/MyDrive/NLP')\n",
    "\n",
    "from modules.BERT_finetuning_SUN import TwitterTrainDataset, TwitterRawDataset,create_dataloader,SentimentClassifier_BERT,train_epoch,eval_model,predict_train,infer_raw,show_prediction_performance\n",
    "\n",
    "#import importlib\n",
    "#importlib.reload(sys.modules['modules.BERT_finetuning_SUN'])\n",
    "#from modules.BERT_finetuning_SUN import TwitterTrainDataset, TwitterRawDataset,create_dataloader,SentimentClassifier_BERT,train_epoch,eval_model,predict_train,infer_raw,show_prediction_performance\n"
   ]
  },
  {
   "cell_type": "code",
   "execution_count": 3,
   "metadata": {
    "colab": {
     "base_uri": "https://localhost:8080/"
    },
    "id": "p_Vl5pzMrwyy",
    "outputId": "971a1a81-d2c4-445e-cc63-a4f6cafb316c"
   },
   "outputs": [
    {
     "name": "stdout",
     "output_type": "stream",
     "text": [
      "Collecting transformers\n",
      "\u001b[?25l  Downloading https://files.pythonhosted.org/packages/88/b1/41130a228dd656a1a31ba281598a968320283f48d42782845f6ba567f00b/transformers-4.2.2-py3-none-any.whl (1.8MB)\n",
      "\u001b[K     |████████████████████████████████| 1.8MB 9.7MB/s \n",
      "\u001b[?25hCollecting sacremoses\n",
      "\u001b[?25l  Downloading https://files.pythonhosted.org/packages/7d/34/09d19aff26edcc8eb2a01bed8e98f13a1537005d31e95233fd48216eed10/sacremoses-0.0.43.tar.gz (883kB)\n",
      "\u001b[K     |████████████████████████████████| 890kB 41.3MB/s \n",
      "\u001b[?25hRequirement already satisfied: dataclasses; python_version < \"3.7\" in /usr/local/lib/python3.6/dist-packages (from transformers) (0.8)\n",
      "Requirement already satisfied: tqdm>=4.27 in /usr/local/lib/python3.6/dist-packages (from transformers) (4.41.1)\n",
      "Requirement already satisfied: numpy in /usr/local/lib/python3.6/dist-packages (from transformers) (1.19.5)\n",
      "Requirement already satisfied: packaging in /usr/local/lib/python3.6/dist-packages (from transformers) (20.8)\n",
      "Requirement already satisfied: filelock in /usr/local/lib/python3.6/dist-packages (from transformers) (3.0.12)\n",
      "Requirement already satisfied: regex!=2019.12.17 in /usr/local/lib/python3.6/dist-packages (from transformers) (2019.12.20)\n",
      "Collecting tokenizers==0.9.4\n",
      "\u001b[?25l  Downloading https://files.pythonhosted.org/packages/0f/1c/e789a8b12e28be5bc1ce2156cf87cb522b379be9cadc7ad8091a4cc107c4/tokenizers-0.9.4-cp36-cp36m-manylinux2010_x86_64.whl (2.9MB)\n",
      "\u001b[K     |████████████████████████████████| 2.9MB 40.6MB/s \n",
      "\u001b[?25hRequirement already satisfied: requests in /usr/local/lib/python3.6/dist-packages (from transformers) (2.23.0)\n",
      "Requirement already satisfied: importlib-metadata; python_version < \"3.8\" in /usr/local/lib/python3.6/dist-packages (from transformers) (3.4.0)\n",
      "Requirement already satisfied: six in /usr/local/lib/python3.6/dist-packages (from sacremoses->transformers) (1.15.0)\n",
      "Requirement already satisfied: click in /usr/local/lib/python3.6/dist-packages (from sacremoses->transformers) (7.1.2)\n",
      "Requirement already satisfied: joblib in /usr/local/lib/python3.6/dist-packages (from sacremoses->transformers) (1.0.0)\n",
      "Requirement already satisfied: pyparsing>=2.0.2 in /usr/local/lib/python3.6/dist-packages (from packaging->transformers) (2.4.7)\n",
      "Requirement already satisfied: urllib3!=1.25.0,!=1.25.1,<1.26,>=1.21.1 in /usr/local/lib/python3.6/dist-packages (from requests->transformers) (1.24.3)\n",
      "Requirement already satisfied: chardet<4,>=3.0.2 in /usr/local/lib/python3.6/dist-packages (from requests->transformers) (3.0.4)\n",
      "Requirement already satisfied: idna<3,>=2.5 in /usr/local/lib/python3.6/dist-packages (from requests->transformers) (2.10)\n",
      "Requirement already satisfied: certifi>=2017.4.17 in /usr/local/lib/python3.6/dist-packages (from requests->transformers) (2020.12.5)\n",
      "Requirement already satisfied: zipp>=0.5 in /usr/local/lib/python3.6/dist-packages (from importlib-metadata; python_version < \"3.8\"->transformers) (3.4.0)\n",
      "Requirement already satisfied: typing-extensions>=3.6.4; python_version < \"3.8\" in /usr/local/lib/python3.6/dist-packages (from importlib-metadata; python_version < \"3.8\"->transformers) (3.7.4.3)\n",
      "Building wheels for collected packages: sacremoses\n",
      "  Building wheel for sacremoses (setup.py) ... \u001b[?25l\u001b[?25hdone\n",
      "  Created wheel for sacremoses: filename=sacremoses-0.0.43-cp36-none-any.whl size=893261 sha256=a99e93c92e6a993e496b990a129d36fd34548442bd886a2315f72f09ae366e53\n",
      "  Stored in directory: /root/.cache/pip/wheels/29/3c/fd/7ce5c3f0666dab31a50123635e6fb5e19ceb42ce38d4e58f45\n",
      "Successfully built sacremoses\n",
      "Installing collected packages: sacremoses, tokenizers, transformers\n",
      "Successfully installed sacremoses-0.0.43 tokenizers-0.9.4 transformers-4.2.2\n",
      "Collecting emoji\n",
      "\u001b[?25l  Downloading https://files.pythonhosted.org/packages/24/fa/b3368f41b95a286f8d300e323449ab4e86b85334c2e0b477e94422b8ed0f/emoji-1.2.0-py3-none-any.whl (131kB)\n",
      "\u001b[K     |████████████████████████████████| 133kB 10.8MB/s \n",
      "\u001b[?25hInstalling collected packages: emoji\n",
      "Successfully installed emoji-1.2.0\n"
     ]
    }
   ],
   "source": [
    "!pip install transformers\n",
    "!pip install emoji #required for BERTweet \n"
   ]
  },
  {
   "cell_type": "code",
   "execution_count": 4,
   "metadata": {
    "id": "VJ2puf5VrMtx"
   },
   "outputs": [],
   "source": [
    "import numpy as np\n",
    "import pandas as pd\n",
    "import torch\n",
    "import transformers\n",
    "from sklearn.metrics import classification_report, confusion_matrix\n",
    "import time\n",
    "import gc\n",
    "from collections import defaultdict\n",
    "import seaborn as sns\n",
    "import matplotlib.pyplot as plt\n",
    "%matplotlib inline"
   ]
  },
  {
   "cell_type": "code",
   "execution_count": 5,
   "metadata": {
    "colab": {
     "base_uri": "https://localhost:8080/"
    },
    "id": "XkmT_Cy5rlqy",
    "outputId": "6d59af92-d635-46f4-c76f-d59b1ee739dc"
   },
   "outputs": [
    {
     "name": "stdout",
     "output_type": "stream",
     "text": [
      "There are 1 GPU(s) available.\n",
      "Device name: Tesla K80\n"
     ]
    }
   ],
   "source": [
    "# Runtime -> Change runtime type -> Hardware accelerator: GPU\n",
    "\n",
    "if torch.cuda.is_available():       \n",
    "    device = torch.device(\"cuda\")\n",
    "    print(f'There are {torch.cuda.device_count()} GPU(s) available.')\n",
    "    print('Device name:', torch.cuda.get_device_name(0))\n",
    "else:\n",
    "    print('No GPU available, using the CPU instead.')\n",
    "    device = torch.device(\"cpu\")"
   ]
  },
  {
   "cell_type": "markdown",
   "metadata": {
    "id": "4bWD0gg5et03"
   },
   "source": [
    "# Download pretrained BERT model from transformers"
   ]
  },
  {
   "cell_type": "code",
   "execution_count": null,
   "metadata": {
    "id": "iETLw-pDsxan"
   },
   "outputs": [],
   "source": [
    "# BERT base cased model: 12-layer, 768-hidden, 12-heads, 109M parameters.Trained on cased English text.\n",
    "BERT_BASE_CASED = 'bert-base-cased'\n",
    "bert_model = transformers.BertModel.from_pretrained(BERT_BASE_CASED)\n",
    "tokenizer = transformers.BertTokenizer.from_pretrained(BERT_BASE_CASED)\n"
   ]
  },
  {
   "cell_type": "code",
   "execution_count": 16,
   "metadata": {
    "colab": {
     "base_uri": "https://localhost:8080/",
     "height": 229,
     "referenced_widgets": [
      "f9c4809138814bd9aa6f441b577052c2",
      "c26ca44376b3422f8cfca45de3562422",
      "57b4c1dc27884510829ae8b70890b27a",
      "eecea1d230df404cbaf2341fcd2a81b2",
      "7506aa47517b4144b51694c769e20964",
      "d4812f62a2724ad29e7a0b0b6f92f204",
      "855ec0f1a0a24f1abcc802fc6a608faa",
      "987a91f61d0d4fd38bca873416ebd97d",
      "7cd83af75796401db297918a0183c4f6",
      "1245c34f845648659396a191b97c8a78",
      "253e71decfd244d2b2e7ad10622e8f63",
      "5f916632b31d4f2d9b0b7ca99a8e36a4",
      "0bd55dda4509432681a7ca40bb14588c",
      "a7b81a580f1a4c23b63454da73b00654",
      "3c31d591e90543c0b5b4fc47fc1a1261",
      "a7cf0896fbfc4fe596ba21c93950a001",
      "a9d795aeecf541bda92fb5663087e46c",
      "883fbeb0f53d4b418e76825e0a985245",
      "925fa889a24d45e6a5068e0a1c37466b",
      "53b614d33d0149148bcfe05fb3b72c3f",
      "69eb8c32f7be4b218f116276082fd1de",
      "9033d8e337dd4256acf944cc866f23bc",
      "a56b9e1ea2a3474dbdbec7119ea70341",
      "000e3a1060bc447ab51962ec2a27e80d",
      "c7118f828d8e4671ba3499b85359c75e",
      "14cf50d6f2a24ad0943474f3683b74dc",
      "9c78230bb5ad46ad8f730c965263ce8f",
      "cae51195bb1647908988825634623aca",
      "2eb8ef8659af4cfba2891fde0a73a538",
      "3e4bed5847a641428d2b87e2aea3a16e",
      "129c00429b224c91b7d9da5725119a47",
      "e843ac0d5b6348f9b165919732869670"
     ]
    },
    "id": "u8oYE1xbso9A",
    "outputId": "79c2b21b-f8ee-4b9e-b54f-64cd2389a175"
   },
   "outputs": [
    {
     "data": {
      "application/vnd.jupyter.widget-view+json": {
       "model_id": "f9c4809138814bd9aa6f441b577052c2",
       "version_major": 2,
       "version_minor": 0
      },
      "text/plain": [
       "HBox(children=(FloatProgress(value=0.0, description='Downloading', max=558.0, style=ProgressStyle(description_…"
      ]
     },
     "metadata": {
      "tags": []
     },
     "output_type": "display_data"
    },
    {
     "name": "stdout",
     "output_type": "stream",
     "text": [
      "\n"
     ]
    },
    {
     "data": {
      "application/vnd.jupyter.widget-view+json": {
       "model_id": "7cd83af75796401db297918a0183c4f6",
       "version_major": 2,
       "version_minor": 0
      },
      "text/plain": [
       "HBox(children=(FloatProgress(value=0.0, description='Downloading', max=542529064.0, style=ProgressStyle(descri…"
      ]
     },
     "metadata": {
      "tags": []
     },
     "output_type": "display_data"
    },
    {
     "name": "stdout",
     "output_type": "stream",
     "text": [
      "\n"
     ]
    },
    {
     "data": {
      "application/vnd.jupyter.widget-view+json": {
       "model_id": "a9d795aeecf541bda92fb5663087e46c",
       "version_major": 2,
       "version_minor": 0
      },
      "text/plain": [
       "HBox(children=(FloatProgress(value=0.0, description='Downloading', max=843438.0, style=ProgressStyle(descripti…"
      ]
     },
     "metadata": {
      "tags": []
     },
     "output_type": "display_data"
    },
    {
     "name": "stdout",
     "output_type": "stream",
     "text": [
      "\n"
     ]
    },
    {
     "data": {
      "application/vnd.jupyter.widget-view+json": {
       "model_id": "c7118f828d8e4671ba3499b85359c75e",
       "version_major": 2,
       "version_minor": 0
      },
      "text/plain": [
       "HBox(children=(FloatProgress(value=0.0, description='Downloading', max=1078931.0, style=ProgressStyle(descript…"
      ]
     },
     "metadata": {
      "tags": []
     },
     "output_type": "display_data"
    },
    {
     "name": "stdout",
     "output_type": "stream",
     "text": [
      "\n"
     ]
    },
    {
     "name": "stderr",
     "output_type": "stream",
     "text": [
      "Special tokens have been added in the vocabulary, make sure the associated word embedding are fine-tuned or trained.\n"
     ]
    }
   ],
   "source": [
    "\n",
    "# BERTweet is pre-trained for English Tweets based on the RoBERTa pre-training procedure, using the same model configuration as BERT-base.\n",
    "BERTWEET = \"vinai/bertweet-base\"\n",
    "bertweet = transformers.AutoModel.from_pretrained(BERTWEET)\n",
    "tokenizer = transformers.AutoTokenizer.from_pretrained(BERTWEET, use_fast=False)\n"
   ]
  },
  {
   "cell_type": "markdown",
   "metadata": {
    "id": "8hIU2-C_kgCB"
   },
   "source": [
    "# Set model hyperparameters"
   ]
  },
  {
   "cell_type": "code",
   "execution_count": 18,
   "metadata": {
    "id": "0NbDiJ-JtsRJ"
   },
   "outputs": [],
   "source": [
    "# Hyperparameters (ref: BERTweet: A pre-trained language model for English Tweets arXiv:2005.10200v2)\n",
    "\n",
    "BATCH_SIZE = 32\n",
    "MAX_LEN = 128   # training set max 67, but considering the tweet limit has increased from 140 to 280 characters in Nov 2017 and our training data was mostly pre-2016\n",
    "N_CLASSES = 3   # positive, neutral and negative\n",
    "EPOCHS = 20\n",
    "learning_rate = 1e-5\n",
    "\n",
    "#choice = 'bert_base'\n",
    "choice = 'bertweet' \n",
    "\n",
    "if choice == 'bertweet':\n",
    "    model_save = \"/content/drive/MyDrive/NLP/models/bertweet_state.bin\"\n",
    "\n",
    "if choice == 'bert_base':\n",
    "    model_save = \"/content/drive/MyDrive/NLP/models/bertbase_state.bin\"\n"
   ]
  },
  {
   "cell_type": "markdown",
   "metadata": {
    "id": "NcQf3hgnfC4k"
   },
   "source": [
    "# Load training dataset\n"
   ]
  },
  {
   "cell_type": "code",
   "execution_count": 14,
   "metadata": {
    "id": "lThO1YIAOoJ2"
   },
   "outputs": [],
   "source": []
  },
  {
   "cell_type": "code",
   "execution_count": 19,
   "metadata": {
    "id": "_gYUhI6YtDQz"
   },
   "outputs": [],
   "source": [
    "#sentiment_to_label = {'negative':0, 'neutral': 1, 'positive':2}\n",
    "#sentiments = ['negative', 'neutral', 'positive']\n",
    "\n",
    "# Load preprocessed training data (already split into training/validation/test)\n",
    "df_train = pd.read_csv(\"/content/drive/MyDrive/NLP/data/Twitter_train.csv\",lineterminator='\\n') # to fix ParserError:Error tokenizing data. C error: Buffer overflow caught - possible malformed input file.\n",
    "df_valid = pd.read_csv(\"/content/drive/MyDrive/NLP/data/Twitter_valid.csv\")\n",
    "df_test = pd.read_csv(\"/content/drive/MyDrive/NLP/data/Twitter_test.csv\")\n",
    "\n",
    "\n",
    "# Calculate class weights for cost sensitive training to deal with class imbalance\n",
    "class_weights = np.bincount(df_train.label).sum() / (len(np.unique(df_train.label)) * np.bincount(df_train.label))\n",
    "weights = torch.tensor(class_weights,dtype=torch.float)\n",
    "\n",
    "\n",
    "# Create dataloaders\n",
    "train_data_loader = create_dataloader(text=df_train['text_clean'].to_numpy(),label=df_train['label'].to_numpy(), training = True, tokenizer=tokenizer, max_len=MAX_LEN, batch_size=BATCH_SIZE)\n",
    "val_data_loader = create_dataloader(text=df_valid['text_clean'].to_numpy(),label=df_valid['label'].to_numpy(), training = True, tokenizer=tokenizer, max_len=MAX_LEN, batch_size=BATCH_SIZE)\n",
    "test_data_loader = create_dataloader(text=df_test['text_clean'].to_numpy(),label=df_test['label'].to_numpy(), training = True, tokenizer=tokenizer, max_len=MAX_LEN, batch_size=BATCH_SIZE)\n",
    "\n"
   ]
  },
  {
   "cell_type": "code",
   "execution_count": 24,
   "metadata": {
    "id": "snDMojJtvyEh"
   },
   "outputs": [],
   "source": [
    "# Set up model, optimizer and loss function\n",
    "if choice == 'bertweet':\n",
    "    model = SentimentClassifier_BERT(bertweet, N_CLASSES).to(device)\n",
    "if choice == 'bert_base':\n",
    "    model = SentimentClassifier_BERT(bert_model, N_CLASSES).to(device)\n",
    "\n",
    "optimizer = transformers.AdamW(model.parameters(), lr=learning_rate, correct_bias=False)\n",
    "total_steps = len(train_data_loader) * EPOCHS\n",
    "scheduler = transformers.get_linear_schedule_with_warmup(optimizer, num_warmup_steps=0, num_training_steps=total_steps)\n",
    "loss_fn = torch.nn.CrossEntropyLoss(weight=weights.to(device)).to(device)\n"
   ]
  },
  {
   "cell_type": "code",
   "execution_count": 25,
   "metadata": {
    "colab": {
     "base_uri": "https://localhost:8080/",
     "height": 35
    },
    "id": "2euGrajzU4F5",
    "outputId": "c37cf953-4269-4568-9b54-98f6a159ecf5"
   },
   "outputs": [
    {
     "data": {
      "application/vnd.google.colaboratory.intrinsic+json": {
       "type": "string"
      },
      "text/plain": [
       "'bertweet'"
      ]
     },
     "execution_count": 25,
     "metadata": {
      "tags": []
     },
     "output_type": "execute_result"
    }
   ],
   "source": [
    "choice"
   ]
  },
  {
   "cell_type": "code",
   "execution_count": null,
   "metadata": {
    "colab": {
     "base_uri": "https://localhost:8080/"
    },
    "id": "HfEqgbGrtX3-",
    "outputId": "2b8905fd-2f68-42c5-9003-4187de9fd988"
   },
   "outputs": [
    {
     "name": "stdout",
     "output_type": "stream",
     "text": [
      "Epoch 1/20\n",
      "----------\n",
      "Training   loss: 1.077; Accuracy: 0.376\n",
      "Validation loss: 1.052; Accuracy: 0.479\n",
      "Time: 370.1814913749695 s\n",
      "\n",
      "Epoch 2/20\n",
      "----------\n",
      "Training   loss: 1.031; Accuracy: 0.426\n",
      "Validation loss: 1.023; Accuracy: 0.508\n",
      "Time: 378.2913911342621 s\n",
      "\n",
      "Epoch 3/20\n",
      "----------\n",
      "Training   loss: 0.968; Accuracy: 0.494\n",
      "Validation loss: 0.986; Accuracy: 0.507\n",
      "Time: 378.3696172237396 s\n",
      "\n",
      "Epoch 4/20\n",
      "----------\n",
      "Training   loss: 0.891; Accuracy: 0.558\n",
      "Validation loss: 0.973; Accuracy: 0.536\n",
      "Time: 378.6233904361725 s\n",
      "\n",
      "Epoch 5/20\n",
      "----------\n",
      "Training   loss: 0.818; Accuracy: 0.608\n",
      "Validation loss: 1.019; Accuracy: 0.548\n",
      "Time: 378.3228130340576 s\n",
      "\n",
      "Epoch 6/20\n",
      "----------\n",
      "Training   loss: 0.751; Accuracy: 0.641\n",
      "Validation loss: 1.087; Accuracy: 0.554\n",
      "Time: 378.46729803085327 s\n",
      "\n",
      "Epoch 7/20\n",
      "----------\n",
      "Training   loss: 0.696; Accuracy: 0.684\n",
      "Validation loss: 1.132; Accuracy: 0.556\n",
      "Time: 378.83109498023987 s\n",
      "\n",
      "Epoch 8/20\n",
      "----------\n",
      "Training   loss: 0.630; Accuracy: 0.714\n",
      "Validation loss: 1.279; Accuracy: 0.561\n",
      "Time: 378.4091122150421 s\n",
      "\n",
      "Epoch 9/20\n",
      "----------\n",
      "Training   loss: 0.585; Accuracy: 0.740\n",
      "Validation loss: 1.305; Accuracy: 0.547\n",
      "Time: 378.055522441864 s\n",
      "\n",
      "Epoch 10/20\n",
      "----------\n",
      "Training   loss: 0.540; Accuracy: 0.765\n",
      "Validation loss: 1.347; Accuracy: 0.539\n",
      "Time: 378.2812776565552 s\n",
      "\n",
      "Epoch 11/20\n",
      "----------\n",
      "Training   loss: 0.491; Accuracy: 0.785\n",
      "Validation loss: 1.418; Accuracy: 0.549\n",
      "Time: 377.9709870815277 s\n",
      "\n",
      "Epoch 12/20\n",
      "----------\n",
      "Training   loss: 0.450; Accuracy: 0.809\n",
      "Validation loss: 1.520; Accuracy: 0.547\n",
      "Time: 378.1045742034912 s\n",
      "\n",
      "Epoch 13/20\n",
      "----------\n",
      "Training   loss: 0.419; Accuracy: 0.824\n",
      "Validation loss: 1.584; Accuracy: 0.544\n",
      "Time: 378.0631139278412 s\n",
      "\n",
      "Epoch 14/20\n",
      "----------\n",
      "Training   loss: 0.396; Accuracy: 0.831\n",
      "Validation loss: 1.639; Accuracy: 0.551\n",
      "Time: 377.9150462150574 s\n",
      "\n",
      "Epoch 15/20\n",
      "----------\n",
      "Training   loss: 0.375; Accuracy: 0.841\n",
      "Validation loss: 1.635; Accuracy: 0.541\n",
      "Time: 377.76436948776245 s\n",
      "\n",
      "Epoch 16/20\n",
      "----------\n",
      "Training   loss: 0.356; Accuracy: 0.849\n",
      "Validation loss: 1.672; Accuracy: 0.538\n",
      "Time: 378.2153694629669 s\n",
      "\n",
      "Epoch 17/20\n",
      "----------\n",
      "Training   loss: 0.332; Accuracy: 0.860\n",
      "Validation loss: 1.721; Accuracy: 0.552\n",
      "Time: 378.4158580303192 s\n",
      "\n",
      "Epoch 18/20\n",
      "----------\n",
      "Training   loss: 0.313; Accuracy: 0.870\n",
      "Validation loss: 1.808; Accuracy: 0.555\n",
      "Time: 377.8050010204315 s\n",
      "\n",
      "Epoch 19/20\n",
      "----------\n",
      "Training   loss: 0.314; Accuracy: 0.870\n",
      "Validation loss: 1.791; Accuracy: 0.550\n",
      "Time: 378.07260060310364 s\n",
      "\n",
      "Epoch 20/20\n",
      "----------\n",
      "Training   loss: 0.294; Accuracy: 0.876\n",
      "Validation loss: 1.788; Accuracy: 0.549\n",
      "Time: 377.55606842041016 s\n",
      "\n"
     ]
    }
   ],
   "source": [
    "# Trace anomaly for debugging; switching off during actual training - otherwise too much GPU memory\n",
    "# torch.autograd.set_detect_anomaly(True)\n",
    "\n",
    "# Model training and validation\n",
    "history = defaultdict(list)\n",
    "best_accuracy = 0\n",
    "stop_patience = 5   # num of epochs for looking back to check accuracy improvement\n",
    "stop_delta = 1e-3   # accuracy improvement sensitivity threshold for early stopping\n",
    "\n",
    "for epoch in range(EPOCHS):\n",
    "    # Collecting garbage and emptying cuda memory after each epoch help solving the CUDA out of memory error\n",
    "    gc.collect()\n",
    "    torch.cuda.empty_cache()\n",
    "\n",
    "    print(f'Epoch {epoch + 1}/{EPOCHS}')\n",
    "    print('-' * 10)\n",
    "    start_time = time.time()\n",
    "\n",
    "    train_acc, train_loss = train_epoch(model, train_data_loader, loss_fn, optimizer, device, scheduler, len(df_train))\n",
    "    print(f'Training   loss: {train_loss:.3f}; Accuracy: {train_acc:.3f}')\n",
    "\n",
    "    val_acc, val_loss = eval_model(model, val_data_loader, loss_fn, device, len(df_valid))\n",
    "    print(f'Validation loss: {val_loss:.3f}; Accuracy: {val_acc:.3f}')\n",
    "\n",
    "    history['train_acc'].append(train_acc)\n",
    "    history['train_loss'].append(train_loss)\n",
    "    history['val_acc'].append(val_acc)\n",
    "    history['val_loss'].append(val_loss)\n",
    "    \n",
    "    print(f'Time: {time.time() - start_time} s')\n",
    "    print()\n",
    "    \n",
    "    # saving model\n",
    "    if val_acc > best_accuracy: # only save the best performing model based on validation set\n",
    "        torch.save(model.state_dict(), model_save)\n",
    "        best_accuracy = val_acc\n",
    "\n",
    "    # early stopping\n",
    "    if epoch > stop_patience: \n",
    "        a = np.array(history['val_acc'])\n",
    "        stop_early = np.all(a[-stop_patience:] - a[-stop_patience-1:-1] < stop_delta)\n",
    "        if stop_early:\n",
    "            print('Stopping early')\n",
    "            break\n",
    "\n",
    "# Save training history in case of google colab runtime disconnetion\n",
    "history_save = f\"/content/drive/MyDrive/NLP/models/{choice}.csv\"\n",
    "with open(history_save,'wb') as f:\n",
    "    pickle.dump(history, f)\n"
   ]
  },
  {
   "cell_type": "code",
   "execution_count": null,
   "metadata": {
    "colab": {
     "base_uri": "https://localhost:8080/",
     "height": 295
    },
    "id": "4HFZQcT3jG3y",
    "outputId": "70dc563f-c4fa-47b4-c333-87848f390c3f"
   },
   "outputs": [
    {
     "data": {
      "image/png": "[encoded data removed]",
      "text/plain": [
       "<Figure size 432x288 with 1 Axes>"
      ]
     },
     "metadata": {
      "needs_background": "light",
      "tags": []
     },
     "output_type": "display_data"
    }
   ],
   "source": [
    "# BERT_BASE [KEEP]\n",
    "plt.plot(history['train_acc'], label='train accuracy')\n",
    "plt.plot(history['val_acc'], label='validation accuracy')\n",
    "\n",
    "plt.title('Training history_'+choice)\n",
    "plt.ylabel('Accuracy')\n",
    "plt.xlabel('Epoch')\n",
    "plt.legend()\n",
    "plt.ylim([0, 1]);"
   ]
  },
  {
   "cell_type": "code",
   "execution_count": 21,
   "metadata": {
    "colab": {
     "base_uri": "https://localhost:8080/",
     "height": 295
    },
    "id": "OfT-yYDUhr4_",
    "outputId": "7293834f-f2c9-4cc5-da0c-367cc9bd8ed6"
   },
   "outputs": [
    {
     "data": {
      "image/png": "[encoded data removed]",
      "text/plain": [
       "<Figure size 432x288 with 1 Axes>"
      ]
     },
     "metadata": {
      "needs_background": "light",
      "tags": []
     },
     "output_type": "display_data"
    }
   ],
   "source": [
    "# BERTWEET [Keep]\n",
    "\n",
    "#history={}\n",
    "#history['train_acc']= [0.376,0.426,0.494,0.558,0.608,0.641,0.684,0.714,0.740,0.765,0.785,0.809,0.824,0.831,0.841,0.849,0.860,0.870,0.870,0.876]\n",
    "#history['val_acc']  = [0.479,0.508,0.507,0.536,0.548,0.554,0.556,0.561,0.547,0.539,0.549,0.547,0.544,0.551,0.541,0.538,0.552,0.555,0.550,0.549]\n",
    "\n",
    "plt.plot(history['train_acc'], label='train accuracy')\n",
    "plt.plot(history['val_acc'], label='validation accuracy')\n",
    "\n",
    "plt.title('Training history_'+choice)\n",
    "plt.ylabel('Accuracy')\n",
    "plt.xlabel('Epoch')\n",
    "plt.legend()\n",
    "plt.ylim([0, 1]);"
   ]
  },
  {
   "cell_type": "code",
   "execution_count": null,
   "metadata": {
    "id": "U-v2dP_9UT--"
   },
   "outputs": [],
   "source": [
    "# BERTWEET with its own normalizer[TO RE-RUN]\n",
    "\n",
    "plt.plot(history['train_acc'], label='train accuracy')\n",
    "plt.plot(history['val_acc'], label='validation accuracy')\n",
    "\n",
    "plt.title('Training history_'+choice)\n",
    "plt.ylabel('Accuracy')\n",
    "plt.xlabel('Epoch')\n",
    "plt.legend()\n",
    "plt.ylim([0, 1]);"
   ]
  },
  {
   "cell_type": "markdown",
   "metadata": {
    "id": "WNpYRTwaoBna"
   },
   "source": [
    "# Preparing model for test set"
   ]
  },
  {
   "cell_type": "code",
   "execution_count": 22,
   "metadata": {
    "id": "qCzCCWe0v4x3"
   },
   "outputs": [],
   "source": [
    "# reload the best model\n",
    "\n",
    "if choice == 'bertweet':\n",
    "    model = SentimentClassifier_BERT(bertweet, N_CLASSES).to(device)\n",
    "if choice == 'bert_base':\n",
    "    model = SentimentClassifier_BERT(bert_model, N_CLASSES).to(device)\n",
    "\n",
    "model.load_state_dict(torch.load(model_save))\n",
    "model = model.to(device)\n"
   ]
  },
  {
   "cell_type": "code",
   "execution_count": null,
   "metadata": {
    "colab": {
     "base_uri": "https://localhost:8080/",
     "height": 464
    },
    "id": "SZ4RpGHywthW",
    "outputId": "9e2008b9-eb44-4567-b1d9-54003f0fa76d"
   },
   "outputs": [
    {
     "name": "stdout",
     "output_type": "stream",
     "text": [
      "Performance of bert_base model on Test Dataset\n"
     ]
    },
    {
     "data": {
      "image/png": "[encoded data removed]",
      "text/plain": [
       "<Figure size 432x288 with 2 Axes>"
      ]
     },
     "metadata": {
      "needs_background": "light",
      "tags": []
     },
     "output_type": "display_data"
    },
    {
     "name": "stdout",
     "output_type": "stream",
     "text": [
      "              precision    recall  f1-score   support\n",
      "\n",
      "    negative       0.60      0.61      0.60       403\n",
      "     neutral       0.59      0.56      0.58       623\n",
      "    positive       0.72      0.74      0.73       939\n",
      "\n",
      "    accuracy                           0.66      1965\n",
      "   macro avg       0.64      0.64      0.64      1965\n",
      "weighted avg       0.66      0.66      0.66      1965\n",
      "\n"
     ]
    }
   ],
   "source": [
    "# model testing - BERT_BASE [KEEP]\n",
    "print(f'Performance of {choice} model on Test Dataset')\n",
    "\n",
    "test_acc, _ = eval_model(model, test_data_loader, loss_fn, device, len(df_test))\n",
    "test_acc.item()\n",
    "\n",
    "y_texts, y_pred, y_pred_probs, y_label = predict_train(model, test_data_loader,device)\n",
    "show_prediction_performance(y_label, y_pred)\n"
   ]
  },
  {
   "cell_type": "code",
   "execution_count": 26,
   "metadata": {
    "colab": {
     "base_uri": "https://localhost:8080/",
     "height": 464
    },
    "id": "CWPxhEHhZD2i",
    "outputId": "66ad4f1a-fb4c-4432-9d26-7e898166d380"
   },
   "outputs": [
    {
     "name": "stdout",
     "output_type": "stream",
     "text": [
      "Performance of bertweet model on Test Dataset\n"
     ]
    },
    {
     "data": {
      "image/png": "[encoded data removed]",
      "text/plain": [
       "<Figure size 432x288 with 2 Axes>"
      ]
     },
     "metadata": {
      "needs_background": "light",
      "tags": []
     },
     "output_type": "display_data"
    },
    {
     "name": "stdout",
     "output_type": "stream",
     "text": [
      "              precision    recall  f1-score   support\n",
      "\n",
      "    negative       0.19      0.71      0.30       403\n",
      "     neutral       0.25      0.06      0.10       623\n",
      "    positive       0.42      0.12      0.19       939\n",
      "\n",
      "    accuracy                           0.22      1965\n",
      "   macro avg       0.29      0.30      0.20      1965\n",
      "weighted avg       0.32      0.22      0.18      1965\n",
      "\n"
     ]
    }
   ],
   "source": [
    "# model testing - BERTWEET [KEEP]\n",
    "print(f'Performance of {choice} model on Test Dataset')\n",
    "\n",
    "test_acc, _ = eval_model(model, test_data_loader, loss_fn, device, len(df_test))\n",
    "test_acc.item()\n",
    "\n",
    "y_texts, y_pred, y_pred_probs, y_label = predict_train(model, test_data_loader,device)\n",
    "show_prediction_performance(y_label, y_pred)\n"
   ]
  },
  {
   "cell_type": "code",
   "execution_count": null,
   "metadata": {
    "id": "a7LvMAFFVtce"
   },
   "outputs": [],
   "source": [
    "# model testing - BERTWEET with its own normalization [To RERUN]\n",
    "\n",
    "print(f'Performance of {choice} model on Test Dataset')\n",
    "\n",
    "test_acc, _ = eval_model(model, test_data_loader, loss_fn, device, len(df_test))\n",
    "test_acc.item()\n",
    "\n",
    "y_texts, y_pred, y_pred_probs, y_label = predict_train(model, test_data_loader,device)\n",
    "show_prediction_performance(y_label, y_pred)\n"
   ]
  },
  {
   "cell_type": "markdown",
   "metadata": {
    "id": "2RvFux71oplp"
   },
   "source": [
    "# Save prediction outputs to dataset for ensemble"
   ]
  },
  {
   "cell_type": "code",
   "execution_count": 27,
   "metadata": {
    "id": "RFmFe_y0pDIU"
   },
   "outputs": [],
   "source": [
    "# Prepare datasets for ensemble model\n",
    "\n",
    "#sentiment_to_label = {'negative':0, 'neutral': 1, 'positive':2}\n",
    "# Convert predicted sentiment to class label\n",
    "\n",
    "#for i in ['pred_Count_word_NB_balancedWeight','pred_Tfidf_word_LR_balancedWeight','pred_Word2Vec_news300_aggMean_SVM_balancedWeight']:\n",
    "#    df_train[i+'_label'] = df_train[i].apply(lambda x: sentiment_to_label[x]).astype(int)\n",
    "#    df_valid[i+'_label'] = df_valid[i].apply(lambda x: sentiment_to_label[x]).astype(int)\n",
    "#    df_test[i+'_label'] = df_test[i].apply(lambda x: sentiment_to_label[x]).astype(int)\n",
    "\n",
    "\n",
    "sentiments = ['negative','neutral','positive']\n",
    "# Convert predicted class label to sentiment\n",
    "\n",
    "#df_test[choice+'_sentiment']= y_pred.apply(lambda x: sentiments[x])\n",
    "df_test[choice+'_label']=y_pred\n",
    "#df_test[choice+'_pred_probs']=y_pred_probs\n",
    "\n",
    "y_texts, y_pred, y_pred_probs, y_label = predict_train(model, val_data_loader,device)\n",
    "#df_valid[choice+'_sentiment']= y_pred.apply(lambda x: sentiments[x])\n",
    "df_valid[choice+'_label']=y_pred\n",
    "#df_valid[choice+'_pred_probs']=y_pred_probs\n",
    "\n",
    "y_texts, y_pred, y_pred_probs, y_label = predict_train(model, train_data_loader,device)\n",
    "#df_train[choice+'_sentiment']= y_pred.apply(lambda x: sentiments[x])\n",
    "df_train[choice+'_label']=y_pred\n",
    "#df_train[choice+'_pred_probs']=y_pred_probs\n",
    "\n",
    "\n",
    "df_train.to_csv('/content/drive/MyDrive/NLP/data/Twitter_train.csv',index=False)\n",
    "df_valid.to_csv('/content/drive/MyDrive/NLP/data/Twitter_valid.csv',index=False)\n",
    "df_test.to_csv('/content/drive/MyDrive/NLP/data/Twitter_test.csv',index=False)\n"
   ]
  },
  {
   "cell_type": "code",
   "execution_count": 28,
   "metadata": {
    "colab": {
     "base_uri": "https://localhost:8080/"
    },
    "id": "l4NbhxyupC2y",
    "outputId": "2e91bcab-f5ca-4303-ab04-92fdc8d38c84"
   },
   "outputs": [
    {
     "data": {
      "text/plain": [
       "Index(['id', 'text', 'sentiment', 'text_unicode', 'text_clean', 'token_counts',\n",
       "       'label', 'Vader_score', 'Vader_sentiment', 'Vader_label',\n",
       "       'pred_Count_word_NB_balancedWeight',\n",
       "       'pred_Tfidf_word_LR_balancedWeight',\n",
       "       'pred_Word2Vec_news300_aggMean_SVM_balancedWeight',\n",
       "       'pred_Count_word_NB_balancedWeight_label',\n",
       "       'pred_Tfidf_word_LR_balancedWeight_label',\n",
       "       'pred_Word2Vec_news300_aggMean_SVM_balancedWeight_label',\n",
       "       'bert_base_label', 'bertweet_label'],\n",
       "      dtype='object')"
      ]
     },
     "execution_count": 28,
     "metadata": {
      "tags": []
     },
     "output_type": "execute_result"
    }
   ],
   "source": [
    "df_train.columns"
   ]
  },
  {
   "cell_type": "markdown",
   "metadata": {
    "id": "gxRNQTn7pD_j"
   },
   "source": [
    "# Ensemble Models"
   ]
  },
  {
   "cell_type": "code",
   "execution_count": 113,
   "metadata": {
    "colab": {
     "base_uri": "https://localhost:8080/",
     "height": 1000
    },
    "id": "b3sRRhrAt4zw",
    "outputId": "12e254c0-eb04-45d5-baae-30a016706e8f"
   },
   "outputs": [
    {
     "name": "stdout",
     "output_type": "stream",
     "text": [
      "Performance of majority vote by selected models on Training Set\n"
     ]
    },
    {
     "data": {
      "image/png": "[encoded data removed]",
      "text/plain": [
       "<Figure size 432x288 with 2 Axes>"
      ]
     },
     "metadata": {
      "needs_background": "light",
      "tags": []
     },
     "output_type": "display_data"
    },
    {
     "name": "stdout",
     "output_type": "stream",
     "text": [
      "              precision    recall  f1-score   support\n",
      "\n",
      "    negative       0.70      0.89      0.78      3226\n",
      "     neutral       0.81      0.78      0.79      4986\n",
      "    positive       0.90      0.81      0.85      7510\n",
      "\n",
      "    accuracy                           0.82     15722\n",
      "   macro avg       0.80      0.83      0.81     15722\n",
      "weighted avg       0.83      0.82      0.82     15722\n",
      "\n",
      "Performance of majority vote by selected models on Validation Set\n"
     ]
    },
    {
     "data": {
      "image/png": "[encoded data removed]",
      "text/plain": [
       "<Figure size 432x288 with 2 Axes>"
      ]
     },
     "metadata": {
      "needs_background": "light",
      "tags": []
     },
     "output_type": "display_data"
    },
    {
     "name": "stdout",
     "output_type": "stream",
     "text": [
      "              precision    recall  f1-score   support\n",
      "\n",
      "    negative       0.54      0.68      0.60       404\n",
      "     neutral       0.62      0.60      0.61       623\n",
      "    positive       0.79      0.71      0.75       939\n",
      "\n",
      "    accuracy                           0.67      1966\n",
      "   macro avg       0.65      0.66      0.65      1966\n",
      "weighted avg       0.68      0.67      0.67      1966\n",
      "\n",
      "Performance of majority vote by selected models on Test Set\n"
     ]
    },
    {
     "data": {
      "image/png": "[encoded data removed]",
      "text/plain": [
       "<Figure size 432x288 with 2 Axes>"
      ]
     },
     "metadata": {
      "needs_background": "light",
      "tags": []
     },
     "output_type": "display_data"
    },
    {
     "name": "stdout",
     "output_type": "stream",
     "text": [
      "              precision    recall  f1-score   support\n",
      "\n",
      "    negative       0.54      0.70      0.61       403\n",
      "     neutral       0.60      0.58      0.59       623\n",
      "    positive       0.77      0.69      0.73       939\n",
      "\n",
      "    accuracy                           0.66      1965\n",
      "   macro avg       0.64      0.66      0.64      1965\n",
      "weighted avg       0.67      0.66      0.66      1965\n",
      "\n"
     ]
    }
   ],
   "source": [
    "# Simple Majority Vote\n",
    "\n",
    "selected = ['bert_base_label','Vader_label','pred_Count_word_NB_balancedWeight_label','pred_Tfidf_word_LR_balancedWeight_label','pred_Word2Vec_news300_aggMean_SVM_balancedWeight_label']\n",
    "\n",
    "print(f'Performance of majority vote by selected models on Training Set')\n",
    "df_train['majority_label'] = df_train[selected].mode(axis=1)[0].astype(int)\n",
    "show_prediction_performance(df_train['sentiment'], df_train['majority_label'].apply(lambda x: sentiments[x]))\n",
    "\n",
    "print(f'Performance of majority vote by selected models on Validation Set')\n",
    "df_valid['majority_label'] = df_valid[selected].mode(axis=1)[0].astype(int)\n",
    "show_prediction_performance(df_valid['sentiment'], df_valid['majority_label'].apply(lambda x: sentiments[x]))\n",
    "\n",
    "print(f'Performance of majority vote by selected models on Test Set')\n",
    "df_test['majority_label'] = df_test[selected].mode(axis=1)[0].astype(int)\n",
    "show_prediction_performance(df_test['sentiment'], df_test['majority_label'].apply(lambda x: sentiments[x]))\n"
   ]
  },
  {
   "cell_type": "markdown",
   "metadata": {
    "id": "g9GcBwdXYdxw"
   },
   "source": [
    "**OBSERVATION:** \n",
    "- Ensemble by majority vote does not improve the overall macro average f1 scores in validation (65%) and test set (64%) in a meaningful way from the selected best performing submodels (*BERT_BASE 64%, SVM_W2V 61%, LR_Tfidf 60%, NB_Count 59%, Vader 53%*)"
   ]
  },
  {
   "cell_type": "code",
   "execution_count": 100,
   "metadata": {
    "id": "hBoCw3STt4tB"
   },
   "outputs": [],
   "source": [
    "# Definition to be moved to BERT_finetuning.py\n",
    "\n",
    "class Ensemble(torch.nn.Module):\n",
    "    def __init__(self,n):\n",
    "        super(Ensemble, self).__init__()\n",
    "        self.fc = torch.nn.Linear(n, 3)\n",
    "        self.softmax = torch.nn.LogSoftmax()\n",
    "\n",
    "    def forward(self, x):\n",
    "        x = self.fc(x)\n",
    "        out = self.softmax(x)\n",
    "        return out  \n",
    "\n",
    "ensemble = Ensemble(len(selected)).to(device)\n",
    "\n",
    "criterion = torch.nn.CrossEntropyLoss().to(device)\n",
    "\n",
    "optimizer = torch.optim.SGD(ensemble.parameters(), lr=1e-3, momentum=0.9)\n",
    "\n",
    "epochs = 200\n",
    "bs = 64\n",
    "\n"
   ]
  },
  {
   "cell_type": "code",
   "execution_count": 103,
   "metadata": {
    "colab": {
     "base_uri": "https://localhost:8080/",
     "height": 1000
    },
    "id": "3gGXox1ntGq3",
    "outputId": "65b7a1f1-44e5-4a5c-be18-dea6bcf1b834"
   },
   "outputs": [
    {
     "name": "stderr",
     "output_type": "stream",
     "text": [
      "/usr/local/lib/python3.6/dist-packages/ipykernel_launcher.py:11: UserWarning: Implicit dimension choice for log_softmax has been deprecated. Change the call to include dim=X as an argument.\n",
      "  # This is added back by InteractiveShellApp.init_path()\n"
     ]
    },
    {
     "name": "stdout",
     "output_type": "stream",
     "text": [
      "Epoch 1/200\n",
      "----------\n",
      "Training loss: 0.944 \n",
      "Training Acc: 0.475\n",
      "Validation Acc: 0.513\n",
      "Time: 0.3255882263183594 s\n",
      "\n",
      "Epoch 21/200\n",
      "----------\n",
      "Training loss: 0.371 \n",
      "Training Acc: 0.970\n",
      "Validation Acc: 0.652\n",
      "Time: 0.30869603157043457 s\n",
      "\n",
      "Epoch 41/200\n",
      "----------\n",
      "Training loss: 0.298 \n",
      "Training Acc: 0.972\n",
      "Validation Acc: 0.652\n",
      "Time: 0.3065197467803955 s\n",
      "\n",
      "Epoch 61/200\n",
      "----------\n",
      "Training loss: 0.267 \n",
      "Training Acc: 0.978\n",
      "Validation Acc: 0.657\n",
      "Time: 0.3149445056915283 s\n",
      "\n",
      "Epoch 81/200\n",
      "----------\n",
      "Training loss: 0.252 \n",
      "Training Acc: 0.982\n",
      "Validation Acc: 0.663\n",
      "Time: 0.2929220199584961 s\n",
      "\n",
      "Epoch 101/200\n",
      "----------\n",
      "Training loss: 0.243 \n",
      "Training Acc: 0.982\n",
      "Validation Acc: 0.663\n",
      "Time: 0.2933685779571533 s\n",
      "\n",
      "Epoch 121/200\n",
      "----------\n",
      "Training loss: 0.238 \n",
      "Training Acc: 0.982\n",
      "Validation Acc: 0.663\n",
      "Time: 0.3105635643005371 s\n",
      "\n",
      "Epoch 141/200\n",
      "----------\n",
      "Training loss: 0.235 \n",
      "Training Acc: 0.982\n",
      "Validation Acc: 0.663\n",
      "Time: 0.3027477264404297 s\n",
      "\n",
      "Epoch 161/200\n",
      "----------\n",
      "Training loss: 0.233 \n",
      "Training Acc: 0.982\n",
      "Validation Acc: 0.663\n",
      "Time: 0.29315924644470215 s\n",
      "\n",
      "Epoch 181/200\n",
      "----------\n",
      "Training loss: 0.231 \n",
      "Training Acc: 0.982\n",
      "Validation Acc: 0.663\n",
      "Time: 0.29468297958374023 s\n",
      "\n"
     ]
    },
    {
     "data": {
      "image/png": "[encoded data removed]",
      "text/plain": [
       "<Figure size 432x288 with 1 Axes>"
      ]
     },
     "metadata": {
      "needs_background": "light",
      "tags": []
     },
     "output_type": "display_data"
    }
   ],
   "source": [
    "x_train = torch.tensor(df_train[selected].values).to(device,dtype=torch.float)  # input to model has to be float\n",
    "x_valid = torch.tensor(df_valid[selected].values).to(device,dtype=torch.float) \n",
    "y_train = torch.tensor(df_train['label'].values).to(device,dtype=torch.long) # torch.long = loss function RuntimeError: \"host_softmax\" not implemented for 'Long'\n",
    "y_valid = torch.tensor(df_valid['label'].values).to(device,dtype=torch.long)\n",
    "\n",
    "history = defaultdict(list)\n",
    "\n",
    "for epoch in range(epochs):\n",
    "\n",
    "    ensemble.train()\n",
    "    losses = []\n",
    "    correct_predictions = 0\n",
    "\n",
    "    start_time = time.time()\n",
    "\n",
    "    for i in range((len(x_train) - 1) // bs + 1):\n",
    "        optimizer.zero_grad()\n",
    "\n",
    "        start_i = i * bs\n",
    "        end_i = start_i + bs\n",
    "        xb = x_train[start_i:end_i]\n",
    "        yb = y_train[start_i:end_i]\n",
    "\n",
    "        output = ensemble(xb)\n",
    "        loss = criterion(output, yb) # pass the model output directly (torch.float), target should be torch.long\n",
    "\n",
    "        _, pred = torch.max(output, dim=1)\n",
    "        correct_predictions += torch.sum(pred == yb)\n",
    "        losses.append(loss.item())\n",
    "    \n",
    "        loss.backward()\n",
    "        optimizer.step()\n",
    "    \n",
    "    train_acc = correct_predictions / len(y_train) \n",
    "    train_loss = np.mean(losses)\n",
    "\n",
    "    ensemble.eval()\n",
    "    output = ensemble(x_valid)\n",
    "    _, pred = torch.max(output, dim=1)\n",
    "    val_acc = torch.sum(pred == y_valid) / len(y_valid) \n",
    "    \n",
    "    history['train_acc'].append(train_acc)\n",
    "    history['val_acc'].append(val_acc)\n",
    "    \n",
    "    if epoch%20 ==0:\n",
    "        print(f'Epoch {epoch+1}/{epochs}')\n",
    "        print('-' * 10)\n",
    "        print(f'Training loss: {train_loss:.3f} \\nTraining Acc: {train_acc:.3f}')\n",
    "        print(f'Validation Acc: {val_acc:.3f}')\n",
    "        print(f'Time: {time.time() - start_time} s')\n",
    "        print()\n",
    "    \n",
    "# Visualization\n",
    "plt.plot(history['train_acc'], label='train accuracy')\n",
    "plt.plot(history['val_acc'], label='validation accuracy')\n",
    "\n",
    "plt.title('Training history for Ensemble Model')\n",
    "plt.ylabel('Accuracy')\n",
    "plt.xlabel('Epoch')\n",
    "plt.legend()\n",
    "plt.ylim([0, 1]);"
   ]
  },
  {
   "cell_type": "code",
   "execution_count": 104,
   "metadata": {
    "id": "lE3rcax9ywqj"
   },
   "outputs": [],
   "source": [
    "# save ensemble model\n",
    "ensemble_save = \"/content/drive/MyDrive/NLP/models/ensemble_state.bin\"\n",
    "torch.save(ensemble.state_dict(), ensemble_save)\n",
    "\n"
   ]
  },
  {
   "cell_type": "code",
   "execution_count": 107,
   "metadata": {
    "colab": {
     "base_uri": "https://localhost:8080/",
     "height": 518
    },
    "id": "93vhNn9ct4mu",
    "outputId": "ca1c0ecb-6879-4591-d466-57015b56a4c1"
   },
   "outputs": [
    {
     "name": "stdout",
     "output_type": "stream",
     "text": [
      "Performance of Ensemble Model on Test Set\n"
     ]
    },
    {
     "name": "stderr",
     "output_type": "stream",
     "text": [
      "/usr/local/lib/python3.6/dist-packages/ipykernel_launcher.py:11: UserWarning: Implicit dimension choice for log_softmax has been deprecated. Change the call to include dim=X as an argument.\n",
      "  # This is added back by InteractiveShellApp.init_path()\n"
     ]
    },
    {
     "data": {
      "image/png": "[encoded data removed]",
      "text/plain": [
       "<Figure size 432x288 with 2 Axes>"
      ]
     },
     "metadata": {
      "needs_background": "light",
      "tags": []
     },
     "output_type": "display_data"
    },
    {
     "name": "stdout",
     "output_type": "stream",
     "text": [
      "              precision    recall  f1-score   support\n",
      "\n",
      "    negative       0.60      0.61      0.60       403\n",
      "     neutral       0.59      0.56      0.58       623\n",
      "    positive       0.72      0.74      0.73       939\n",
      "\n",
      "    accuracy                           0.66      1965\n",
      "   macro avg       0.64      0.64      0.64      1965\n",
      "weighted avg       0.66      0.66      0.66      1965\n",
      "\n"
     ]
    }
   ],
   "source": [
    "# model testing\n",
    "\n",
    "print(f'Performance of Ensemble Model on Test Set')\n",
    "\n",
    "x_test = torch.tensor(df_test[selected].values).to(device,dtype=torch.float) \n",
    "ensemble.eval()\n",
    "output = ensemble(x_test)\n",
    "_, pred = torch.max(output, dim=1)\n",
    "df_test['ensemble_label'] = pred.cpu()\n",
    "\n",
    "show_prediction_performance(df_test['sentiment'], df_test['ensemble_label'].apply(lambda x: sentiments[x]))\n"
   ]
  },
  {
   "cell_type": "code",
   "execution_count": 110,
   "metadata": {
    "colab": {
     "base_uri": "https://localhost:8080/"
    },
    "id": "Ho8X21l1t4bw",
    "outputId": "ab2117a1-e5b2-447d-dfd6-05275e8e96a7"
   },
   "outputs": [
    {
     "name": "stderr",
     "output_type": "stream",
     "text": [
      "/usr/local/lib/python3.6/dist-packages/ipykernel_launcher.py:11: UserWarning: Implicit dimension choice for log_softmax has been deprecated. Change the call to include dim=X as an argument.\n",
      "  # This is added back by InteractiveShellApp.init_path()\n"
     ]
    }
   ],
   "source": [
    "# save ensemble predictions to datasets\n",
    "\n",
    "ensemble.eval()\n",
    "output = ensemble(x_train)\n",
    "_, pred = torch.max(output, dim=1)\n",
    "df_train['ensemble_label'] = pred.cpu()\n",
    "\n",
    "output = ensemble(x_valid)\n",
    "_, pred = torch.max(output, dim=1)\n",
    "df_valid['ensemble_label'] = pred.cpu()\n",
    "\n",
    "df_train.to_csv('/content/drive/MyDrive/NLP/data/Twitter_train.csv',index=False)\n",
    "df_valid.to_csv('/content/drive/MyDrive/NLP/data/Twitter_valid.csv',index=False)\n",
    "df_test.to_csv('/content/drive/MyDrive/NLP/data/Twitter_test.csv',index=False)\n"
   ]
  },
  {
   "cell_type": "markdown",
   "metadata": {
    "id": "LOmcFQqI3PjH"
   },
   "source": [
    "**OBSERVATION:** \n",
    "- Ensemble model with one single layer NN does not improve the overall macro average f1 scores (64%); similar performance as majority vote and not better than best performing submodels (*BERT_BASE 64%, SVM_W2V 61%, LR_Tfidf 60%, NB_Count 59%, Vader 53%*)"
   ]
  },
  {
   "cell_type": "code",
   "execution_count": 171,
   "metadata": {
    "id": "4gB2zNcY_9KW"
   },
   "outputs": [],
   "source": [
    "# try a different ensemble model architecture\n",
    "\n",
    "class Ensemble2(torch.nn.Module):\n",
    "    def __init__(self,n,h):\n",
    "        super(Ensemble2, self).__init__()\n",
    "        self.n = n\n",
    "        self.conv = torch.nn.Conv1d(n, n, 1) # effectively serves as a selection layer\n",
    "        self.fc1 = torch.nn.Linear(n, h) # h=hidden_state\n",
    "        self.fc2 = torch.nn.Linear(h, 3)\n",
    "        self.softmax = torch.nn.LogSoftmax()\n",
    "\n",
    "    def forward(self, x):\n",
    "        x = x.unsqueeze(-1)\n",
    "        x = self.conv(x)\n",
    "        x = self.fc1(x.view(-1, self.n))\n",
    "        x = self.fc2(x)\n",
    "        out = self.softmax(x)\n",
    "        return out \n",
    "\n"
   ]
  },
  {
   "cell_type": "code",
   "execution_count": 172,
   "metadata": {
    "colab": {
     "base_uri": "https://localhost:8080/",
     "height": 920
    },
    "id": "pK9JqN5v4TKL",
    "outputId": "4a7c7257-f49e-4474-aa3c-a7494f9aa49e"
   },
   "outputs": [
    {
     "name": "stderr",
     "output_type": "stream",
     "text": [
      "/usr/local/lib/python3.6/dist-packages/ipykernel_launcher.py:17: UserWarning: Implicit dimension choice for log_softmax has been deprecated. Change the call to include dim=X as an argument.\n"
     ]
    },
    {
     "name": "stdout",
     "output_type": "stream",
     "text": [
      "Epoch 1/100\n",
      "----------\n",
      "Training loss: 0.945 \n",
      "Training Acc: 0.453\n",
      "Validation Acc: 0.483\n",
      "Time: 8.81073522567749 s\n",
      "\n",
      "Epoch 21/100\n",
      "----------\n",
      "Training loss: 0.232 \n",
      "Training Acc: 0.982\n",
      "Validation Acc: 0.663\n",
      "Time: 8.7714102268219 s\n",
      "\n",
      "Epoch 41/100\n",
      "----------\n",
      "Training loss: 0.229 \n",
      "Training Acc: 0.982\n",
      "Validation Acc: 0.663\n",
      "Time: 8.773540258407593 s\n",
      "\n",
      "Epoch 61/100\n",
      "----------\n",
      "Training loss: 0.229 \n",
      "Training Acc: 0.982\n",
      "Validation Acc: 0.663\n",
      "Time: 8.791311264038086 s\n",
      "\n",
      "Epoch 81/100\n",
      "----------\n",
      "Training loss: 0.228 \n",
      "Training Acc: 0.982\n",
      "Validation Acc: 0.663\n",
      "Time: 8.837198495864868 s\n",
      "\n"
     ]
    },
    {
     "data": {
      "image/png": "[encoded data removed]",
      "text/plain": [
       "<Figure size 432x288 with 1 Axes>"
      ]
     },
     "metadata": {
      "needs_background": "light",
      "tags": []
     },
     "output_type": "display_data"
    }
   ],
   "source": [
    "torch.autograd.set_detect_anomaly(True)\n",
    "\n",
    "hidden_states = 50 \n",
    "ensemble = Ensemble2(len(selected),hidden_states).to(device)\n",
    "criterion = torch.nn.CrossEntropyLoss().to(device)\n",
    "optimizer = torch.optim.SGD(ensemble.parameters(), lr=1e-4, momentum=0.9)\n",
    "epochs = 100\n",
    "bs = 16\n",
    "\n",
    "x_train = torch.tensor(df_train[selected].values).to(device,dtype=torch.float)  # input to model has to be float\n",
    "x_valid = torch.tensor(df_valid[selected].values).to(device,dtype=torch.float) \n",
    "y_train = torch.tensor(df_train['label'].values).to(device,dtype=torch.long) # torch.long = loss function RuntimeError: \"host_softmax\" not implemented for 'Long'\n",
    "y_valid = torch.tensor(df_valid['label'].values).to(device,dtype=torch.long)\n",
    "\n",
    "history = defaultdict(list)\n",
    "\n",
    "for epoch in range(epochs):\n",
    "\n",
    "    ensemble.train()\n",
    "    losses = []\n",
    "    correct_predictions = 0\n",
    "\n",
    "    start_time = time.time()\n",
    "\n",
    "    for i in range((len(x_train) - 1) // bs + 1):\n",
    "        optimizer.zero_grad()\n",
    "\n",
    "        start_i = i * bs\n",
    "        end_i = start_i + bs\n",
    "        xb = x_train[start_i:end_i]\n",
    "        yb = y_train[start_i:end_i]\n",
    "\n",
    "        output = ensemble(xb)\n",
    "        loss = criterion(output, yb) # pass the model output directly (torch.float), target should be torch.long\n",
    "\n",
    "        _, pred = torch.max(output, dim=1)\n",
    "        correct_predictions += torch.sum(pred == yb)\n",
    "        losses.append(loss.item())\n",
    "    \n",
    "        loss.backward()\n",
    "        optimizer.step()\n",
    "    \n",
    "    train_acc = correct_predictions / len(y_train) \n",
    "    train_loss = np.mean(losses)\n",
    "\n",
    "    ensemble.eval()\n",
    "    output = ensemble(x_valid)\n",
    "    _, pred = torch.max(output, dim=1)\n",
    "    val_acc = torch.sum(pred == y_valid) / len(y_valid) \n",
    "    \n",
    "    history['train_acc'].append(train_acc)\n",
    "    history['val_acc'].append(val_acc)\n",
    "    \n",
    "    if epoch%20 ==0:\n",
    "        print(f'Epoch {epoch+1}/{epochs}')\n",
    "        print('-' * 10)\n",
    "        print(f'Training loss: {train_loss:.3f} \\nTraining Acc: {train_acc:.3f}')\n",
    "        print(f'Validation Acc: {val_acc:.3f}')\n",
    "        print(f'Time: {time.time() - start_time} s')\n",
    "        print()\n",
    "    \n",
    "# Visualization\n",
    "plt.plot(history['train_acc'], label='train accuracy')\n",
    "plt.plot(history['val_acc'], label='validation accuracy')\n",
    "\n",
    "plt.title('Training history for Ensemble Model')\n",
    "plt.ylabel('Accuracy')\n",
    "plt.xlabel('Epoch')\n",
    "plt.legend()\n",
    "plt.ylim([0, 1]);\n"
   ]
  },
  {
   "cell_type": "code",
   "execution_count": 173,
   "metadata": {
    "colab": {
     "base_uri": "https://localhost:8080/",
     "height": 501
    },
    "id": "dPcTJsWn69H6",
    "outputId": "0225e212-d4e6-4083-8fe3-387283a111d6"
   },
   "outputs": [
    {
     "name": "stdout",
     "output_type": "stream",
     "text": [
      "Performance of Ensemble2 Model on Test Set\n"
     ]
    },
    {
     "name": "stderr",
     "output_type": "stream",
     "text": [
      "/usr/local/lib/python3.6/dist-packages/ipykernel_launcher.py:17: UserWarning: Implicit dimension choice for log_softmax has been deprecated. Change the call to include dim=X as an argument.\n"
     ]
    },
    {
     "data": {
      "image/png": "[encoded data removed]",
      "text/plain": [
       "<Figure size 432x288 with 2 Axes>"
      ]
     },
     "metadata": {
      "needs_background": "light",
      "tags": []
     },
     "output_type": "display_data"
    },
    {
     "name": "stdout",
     "output_type": "stream",
     "text": [
      "              precision    recall  f1-score   support\n",
      "\n",
      "    negative       0.60      0.61      0.60       403\n",
      "     neutral       0.59      0.56      0.58       623\n",
      "    positive       0.72      0.74      0.73       939\n",
      "\n",
      "    accuracy                           0.66      1965\n",
      "   macro avg       0.64      0.64      0.64      1965\n",
      "weighted avg       0.66      0.66      0.66      1965\n",
      "\n"
     ]
    }
   ],
   "source": [
    "# model testing\n",
    "\n",
    "print(f'Performance of Ensemble2 Model on Test Set')\n",
    "\n",
    "x_test = torch.tensor(df_test[selected].values).to(device,dtype=torch.float) \n",
    "ensemble.eval()\n",
    "output = ensemble(x_test)\n",
    "_, pred = torch.max(output, dim=1)\n",
    "df_test['ensemble2_label'] = pred.cpu()\n",
    "\n",
    "show_prediction_performance(df_test['sentiment'], df_test['ensemble2_label'].apply(lambda x: sentiments[x]))\n"
   ]
  },
  {
   "cell_type": "code",
   "execution_count": 176,
   "metadata": {
    "colab": {
     "base_uri": "https://localhost:8080/"
    },
    "id": "QHiEBGT7PXBR",
    "outputId": "3937df3b-49ff-49cb-aa11-f5a059684b67"
   },
   "outputs": [
    {
     "data": {
      "text/plain": [
       "Ensemble2(\n",
       "  (conv): Conv1d(5, 5, kernel_size=(1,), stride=(1,))\n",
       "  (fc1): Linear(in_features=5, out_features=50, bias=True)\n",
       "  (fc2): Linear(in_features=50, out_features=3, bias=True)\n",
       "  (softmax): LogSoftmax(dim=None)\n",
       ")"
      ]
     },
     "execution_count": 176,
     "metadata": {
      "tags": []
     },
     "output_type": "execute_result"
    }
   ],
   "source": [
    "ensemble"
   ]
  },
  {
   "cell_type": "code",
   "execution_count": 174,
   "metadata": {
    "colab": {
     "base_uri": "https://localhost:8080/"
    },
    "id": "VXzs2b0l7GSU",
    "outputId": "7d6ba189-0bae-4266-9397-a4a507b086b0"
   },
   "outputs": [
    {
     "name": "stderr",
     "output_type": "stream",
     "text": [
      "/usr/local/lib/python3.6/dist-packages/ipykernel_launcher.py:17: UserWarning: Implicit dimension choice for log_softmax has been deprecated. Change the call to include dim=X as an argument.\n"
     ]
    }
   ],
   "source": [
    "\n",
    "# save ensemble model\n",
    "ensemble_save = \"/content/drive/MyDrive/NLP/models/ensemble2_state.bin\"\n",
    "torch.save(ensemble.state_dict(), ensemble_save)\n",
    "\n",
    "\n",
    "# save ensemble predictions to datasets\n",
    "ensemble.eval()\n",
    "\n",
    "output = ensemble(x_train)\n",
    "_, pred = torch.max(output, dim=1)\n",
    "df_train['ensemble2_label'] = pred.cpu()\n",
    "\n",
    "output = ensemble(x_valid)\n",
    "_, pred = torch.max(output, dim=1)\n",
    "df_valid['ensemble2_label'] = pred.cpu()\n",
    "\n",
    "df_train.to_csv('/content/drive/MyDrive/NLP/data/Twitter_train.csv',index=False)\n",
    "df_valid.to_csv('/content/drive/MyDrive/NLP/data/Twitter_valid.csv',index=False)\n",
    "df_test.to_csv('/content/drive/MyDrive/NLP/data/Twitter_test.csv',index=False)\n"
   ]
  },
  {
   "cell_type": "markdown",
   "metadata": {
    "id": "caEO2-KENHuR"
   },
   "source": [
    "**OBSERVATION:** \n",
    "- Same conclusion as before: it seems the ensemble model with modified architecture (1D convolution + fully connected layers) does not improve the overall macro average f1 scores (64%) either; similar performance as previous simple emsemble model as well as the majority vote, and not better than best performing submodels (*BERT_BASE 64%, SVM_W2V 61%, LR_Tfidf 60%, NB_Count 59%, Vader 53%*) - no free lunch?\n",
    "\n",
    "- It seems that some missclassifications are consistent throught out all models, therefore by combining different models we do not gain extra perfomance improvement (since they predicted wrong). "
   ]
  },
  {
   "cell_type": "code",
   "execution_count": 175,
   "metadata": {
    "colab": {
     "base_uri": "https://localhost:8080/"
    },
    "id": "29ZWnDluOtt-",
    "outputId": "ba77cbc1-7dc4-4f08-90c4-3fb701593490"
   },
   "outputs": [
    {
     "data": {
      "text/plain": [
       "(Index(['id', 'text', 'sentiment', 'text_unicode', 'text_clean', 'token_counts',\n",
       "        'label', 'Vader_score', 'Vader_sentiment', 'Vader_label',\n",
       "        'pred_Count_word_NB_balancedWeight',\n",
       "        'pred_Tfidf_word_LR_balancedWeight',\n",
       "        'pred_Word2Vec_news300_aggMean_SVM_balancedWeight',\n",
       "        'pred_Count_word_NB_balancedWeight_label',\n",
       "        'pred_Tfidf_word_LR_balancedWeight_label',\n",
       "        'pred_Word2Vec_news300_aggMean_SVM_balancedWeight_label',\n",
       "        'bert_base_label', 'bertweet_label', 'majority_label', 'ensemble_label',\n",
       "        'ensemble2_label'],\n",
       "       dtype='object'),\n",
       " Index(['id', 'text', 'sentiment', 'text_unicode', 'text_clean', 'token_counts',\n",
       "        'label', 'Vader_score', 'Vader_sentiment', 'Vader_label',\n",
       "        'pred_Count_word_NB_balancedWeight',\n",
       "        'pred_Tfidf_word_LR_balancedWeight',\n",
       "        'pred_Word2Vec_news300_aggMean_SVM_balancedWeight',\n",
       "        'pred_Count_word_NB_balancedWeight_label',\n",
       "        'pred_Tfidf_word_LR_balancedWeight_label',\n",
       "        'pred_Word2Vec_news300_aggMean_SVM_balancedWeight_label',\n",
       "        'bert_base_label', 'bertweet_label', 'ensemble_label', 'majority_label',\n",
       "        'ensemble2_label'],\n",
       "       dtype='object'))"
      ]
     },
     "execution_count": 175,
     "metadata": {
      "tags": []
     },
     "output_type": "execute_result"
    }
   ],
   "source": []
  },
  {
   "cell_type": "code",
   "execution_count": 193,
   "metadata": {
    "colab": {
     "base_uri": "https://localhost:8080/",
     "height": 746
    },
    "id": "1qM-OZwL1pPR",
    "outputId": "f805fd89-62ee-44dc-ac4a-4e30648bc27d"
   },
   "outputs": [
    {
     "name": "stdout",
     "output_type": "stream",
     "text": [
      "Comparison of Model Performances\n"
     ]
    },
    {
     "data": {
      "image/png": "[encoded data removed]",
      "text/plain": [
       "<Figure size 1152x720 with 4 Axes>"
      ]
     },
     "metadata": {
      "needs_background": "light",
      "tags": []
     },
     "output_type": "display_data"
    }
   ],
   "source": [
    "# Visualization of model performances\n",
    "print(\"Comparison of Model Performances\")\n",
    "\n",
    "cmap = sns.color_palette(\"tab10\", 3)\n",
    "ensembles = ['majority_label','ensemble_label','ensemble2_label']\n",
    "\n",
    "fig, ax = plt.subplots(1,3,figsize=(16,10),tight_layout=True)\n",
    "\n",
    "a = sns.heatmap(df_train[['label']+selected+ensembles].sort_values(by='label',ascending=False), cmap=cmap,yticklabels=False,ax=ax[0],cbar=False)\n",
    "a.set_title('Training set')\n",
    "a = sns.heatmap(df_valid[['label']+selected+ensembles].sort_values(by='label',ascending=False), cmap=cmap,yticklabels=False,ax=ax[1],cbar=False)\n",
    "a.set_title('Validation set')\n",
    "a = sns.heatmap(df_test[['label']+selected+ensembles].sort_values(by='label',ascending=False), cmap=cmap,yticklabels=False,ax=ax[2])\n",
    "a.set_title('Test set')\n",
    "\n",
    "colorbar = a.collections[0].colorbar\n",
    "r = colorbar.vmax - colorbar.vmin\n",
    "colorbar.set_ticks([colorbar.vmin + r / 3 * (0.5 + i) for i in range(3)])\n",
    "colorbar.set_ticklabels(sentiments)\n"
   ]
  },
  {
   "cell_type": "markdown",
   "metadata": {
    "id": "cyie-eQyOD4A"
   },
   "source": [
    "**OBSERVATION:** \n",
    "- As expected, the two ensemble models converge to BERT_Base model during training and their maximum performance is limited by BERT_BASE.\n",
    "\n",
    "- In addition, all or majority of submodels sometimes tend to agree with each other on certain classifications, however, this might be different from the ground truth, which further limited the ensemble model's performance upside.\n",
    "\n",
    "- Overall we face the challenge of class imbalance: majority class (positive) has better performances than minority classe (negative). "
   ]
  },
  {
   "cell_type": "markdown",
   "metadata": {
    "id": "I43J6ZmHODm5"
   },
   "source": [
    "==================================================================================================================="
   ]
  }
 ],
 "metadata": {
  "accelerator": "GPU",
  "colab": {
   "collapsed_sections": [],
   "name": "BERT_finetuning_SUN.ipynb",
   "provenance": []
  },
  "kernelspec": {
   "display_name": "Python 3",
   "language": "python",
   "name": "python3"
  },
  "language_info": {
   "codemirror_mode": {
    "name": "ipython",
    "version": 3
   },
   "file_extension": ".py",
   "mimetype": "text/x-python",
   "name": "python",
   "nbconvert_exporter": "python",
   "pygments_lexer": "ipython3",
   "version": "3.7.9"
  },
  "widgets": {
   "application/vnd.jupyter.widget-state+json": {
    "000e3a1060bc447ab51962ec2a27e80d": {
     "model_module": "@jupyter-widgets/base",
     "model_name": "LayoutModel",
     "state": {
      "_model_module": "@jupyter-widgets/base",
      "_model_module_version": "1.2.0",
      "_model_name": "LayoutModel",
      "_view_count": null,
      "_view_module": "@jupyter-widgets/base",
      "_view_module_version": "1.2.0",
      "_view_name": "LayoutView",
      "align_content": null,
      "align_items": null,
      "align_self": null,
      "border": null,
      "bottom": null,
      "display": null,
      "flex": null,
      "flex_flow": null,
      "grid_area": null,
      "grid_auto_columns": null,
      "grid_auto_flow": null,
      "grid_auto_rows": null,
      "grid_column": null,
      "grid_gap": null,
      "grid_row": null,
      "grid_template_areas": null,
      "grid_template_columns": null,
      "grid_template_rows": null,
      "height": null,
      "justify_content": null,
      "justify_items": null,
      "left": null,
      "margin": null,
      "max_height": null,
      "max_width": null,
      "min_height": null,
      "min_width": null,
      "object_fit": null,
      "object_position": null,
      "order": null,
      "overflow": null,
      "overflow_x": null,
      "overflow_y": null,
      "padding": null,
      "right": null,
      "top": null,
      "visibility": null,
      "width": null
     }
    },
    "0bd55dda4509432681a7ca40bb14588c": {
     "model_module": "@jupyter-widgets/controls",
     "model_name": "ProgressStyleModel",
     "state": {
      "_model_module": "@jupyter-widgets/controls",
      "_model_module_version": "1.5.0",
      "_model_name": "ProgressStyleModel",
      "_view_count": null,
      "_view_module": "@jupyter-widgets/base",
      "_view_module_version": "1.2.0",
      "_view_name": "StyleView",
      "bar_color": null,
      "description_width": "initial"
     }
    },
    "1245c34f845648659396a191b97c8a78": {
     "model_module": "@jupyter-widgets/base",
     "model_name": "LayoutModel",
     "state": {
      "_model_module": "@jupyter-widgets/base",
      "_model_module_version": "1.2.0",
      "_model_name": "LayoutModel",
      "_view_count": null,
      "_view_module": "@jupyter-widgets/base",
      "_view_module_version": "1.2.0",
      "_view_name": "LayoutView",
      "align_content": null,
      "align_items": null,
      "align_self": null,
      "border": null,
      "bottom": null,
      "display": null,
      "flex": null,
      "flex_flow": null,
      "grid_area": null,
      "grid_auto_columns": null,
      "grid_auto_flow": null,
      "grid_auto_rows": null,
      "grid_column": null,
      "grid_gap": null,
      "grid_row": null,
      "grid_template_areas": null,
      "grid_template_columns": null,
      "grid_template_rows": null,
      "height": null,
      "justify_content": null,
      "justify_items": null,
      "left": null,
      "margin": null,
      "max_height": null,
      "max_width": null,
      "min_height": null,
      "min_width": null,
      "object_fit": null,
      "object_position": null,
      "order": null,
      "overflow": null,
      "overflow_x": null,
      "overflow_y": null,
      "padding": null,
      "right": null,
      "top": null,
      "visibility": null,
      "width": null
     }
    },
    "129c00429b224c91b7d9da5725119a47": {
     "model_module": "@jupyter-widgets/controls",
     "model_name": "DescriptionStyleModel",
     "state": {
      "_model_module": "@jupyter-widgets/controls",
      "_model_module_version": "1.5.0",
      "_model_name": "DescriptionStyleModel",
      "_view_count": null,
      "_view_module": "@jupyter-widgets/base",
      "_view_module_version": "1.2.0",
      "_view_name": "StyleView",
      "description_width": ""
     }
    },
    "14cf50d6f2a24ad0943474f3683b74dc": {
     "model_module": "@jupyter-widgets/base",
     "model_name": "LayoutModel",
     "state": {
      "_model_module": "@jupyter-widgets/base",
      "_model_module_version": "1.2.0",
      "_model_name": "LayoutModel",
      "_view_count": null,
      "_view_module": "@jupyter-widgets/base",
      "_view_module_version": "1.2.0",
      "_view_name": "LayoutView",
      "align_content": null,
      "align_items": null,
      "align_self": null,
      "border": null,
      "bottom": null,
      "display": null,
      "flex": null,
      "flex_flow": null,
      "grid_area": null,
      "grid_auto_columns": null,
      "grid_auto_flow": null,
      "grid_auto_rows": null,
      "grid_column": null,
      "grid_gap": null,
      "grid_row": null,
      "grid_template_areas": null,
      "grid_template_columns": null,
      "grid_template_rows": null,
      "height": null,
      "justify_content": null,
      "justify_items": null,
      "left": null,
      "margin": null,
      "max_height": null,
      "max_width": null,
      "min_height": null,
      "min_width": null,
      "object_fit": null,
      "object_position": null,
      "order": null,
      "overflow": null,
      "overflow_x": null,
      "overflow_y": null,
      "padding": null,
      "right": null,
      "top": null,
      "visibility": null,
      "width": null
     }
    },
    "253e71decfd244d2b2e7ad10622e8f63": {
     "model_module": "@jupyter-widgets/controls",
     "model_name": "FloatProgressModel",
     "state": {
      "_dom_classes": [],
      "_model_module": "@jupyter-widgets/controls",
      "_model_module_version": "1.5.0",
      "_model_name": "FloatProgressModel",
      "_view_count": null,
      "_view_module": "@jupyter-widgets/controls",
      "_view_module_version": "1.5.0",
      "_view_name": "ProgressView",
      "bar_style": "success",
      "description": "Downloading: 100%",
      "description_tooltip": null,
      "layout": "IPY_MODEL_a7b81a580f1a4c23b63454da73b00654",
      "max": 542529064,
      "min": 0,
      "orientation": "horizontal",
      "style": "IPY_MODEL_0bd55dda4509432681a7ca40bb14588c",
      "value": 542529064
     }
    },
    "2eb8ef8659af4cfba2891fde0a73a538": {
     "model_module": "@jupyter-widgets/controls",
     "model_name": "ProgressStyleModel",
     "state": {
      "_model_module": "@jupyter-widgets/controls",
      "_model_module_version": "1.5.0",
      "_model_name": "ProgressStyleModel",
      "_view_count": null,
      "_view_module": "@jupyter-widgets/base",
      "_view_module_version": "1.2.0",
      "_view_name": "StyleView",
      "bar_color": null,
      "description_width": "initial"
     }
    },
    "3c31d591e90543c0b5b4fc47fc1a1261": {
     "model_module": "@jupyter-widgets/controls",
     "model_name": "DescriptionStyleModel",
     "state": {
      "_model_module": "@jupyter-widgets/controls",
      "_model_module_version": "1.5.0",
      "_model_name": "DescriptionStyleModel",
      "_view_count": null,
      "_view_module": "@jupyter-widgets/base",
      "_view_module_version": "1.2.0",
      "_view_name": "StyleView",
      "description_width": ""
     }
    },
    "3e4bed5847a641428d2b87e2aea3a16e": {
     "model_module": "@jupyter-widgets/base",
     "model_name": "LayoutModel",
     "state": {
      "_model_module": "@jupyter-widgets/base",
      "_model_module_version": "1.2.0",
      "_model_name": "LayoutModel",
      "_view_count": null,
      "_view_module": "@jupyter-widgets/base",
      "_view_module_version": "1.2.0",
      "_view_name": "LayoutView",
      "align_content": null,
      "align_items": null,
      "align_self": null,
      "border": null,
      "bottom": null,
      "display": null,
      "flex": null,
      "flex_flow": null,
      "grid_area": null,
      "grid_auto_columns": null,
      "grid_auto_flow": null,
      "grid_auto_rows": null,
      "grid_column": null,
      "grid_gap": null,
      "grid_row": null,
      "grid_template_areas": null,
      "grid_template_columns": null,
      "grid_template_rows": null,
      "height": null,
      "justify_content": null,
      "justify_items": null,
      "left": null,
      "margin": null,
      "max_height": null,
      "max_width": null,
      "min_height": null,
      "min_width": null,
      "object_fit": null,
      "object_position": null,
      "order": null,
      "overflow": null,
      "overflow_x": null,
      "overflow_y": null,
      "padding": null,
      "right": null,
      "top": null,
      "visibility": null,
      "width": null
     }
    },
    "53b614d33d0149148bcfe05fb3b72c3f": {
     "model_module": "@jupyter-widgets/controls",
     "model_name": "HTMLModel",
     "state": {
      "_dom_classes": [],
      "_model_module": "@jupyter-widgets/controls",
      "_model_module_version": "1.5.0",
      "_model_name": "HTMLModel",
      "_view_count": null,
      "_view_module": "@jupyter-widgets/controls",
      "_view_module_version": "1.5.0",
      "_view_name": "HTMLView",
      "description": "",
      "description_tooltip": null,
      "layout": "IPY_MODEL_000e3a1060bc447ab51962ec2a27e80d",
      "placeholder": "​",
      "style": "IPY_MODEL_a56b9e1ea2a3474dbdbec7119ea70341",
      "value": " 843k/843k [00:01&lt;00:00, 542kB/s]"
     }
    },
    "57b4c1dc27884510829ae8b70890b27a": {
     "model_module": "@jupyter-widgets/controls",
     "model_name": "FloatProgressModel",
     "state": {
      "_dom_classes": [],
      "_model_module": "@jupyter-widgets/controls",
      "_model_module_version": "1.5.0",
      "_model_name": "FloatProgressModel",
      "_view_count": null,
      "_view_module": "@jupyter-widgets/controls",
      "_view_module_version": "1.5.0",
      "_view_name": "ProgressView",
      "bar_style": "success",
      "description": "Downloading: 100%",
      "description_tooltip": null,
      "layout": "IPY_MODEL_d4812f62a2724ad29e7a0b0b6f92f204",
      "max": 558,
      "min": 0,
      "orientation": "horizontal",
      "style": "IPY_MODEL_7506aa47517b4144b51694c769e20964",
      "value": 558
     }
    },
    "5f916632b31d4f2d9b0b7ca99a8e36a4": {
     "model_module": "@jupyter-widgets/controls",
     "model_name": "HTMLModel",
     "state": {
      "_dom_classes": [],
      "_model_module": "@jupyter-widgets/controls",
      "_model_module_version": "1.5.0",
      "_model_name": "HTMLModel",
      "_view_count": null,
      "_view_module": "@jupyter-widgets/controls",
      "_view_module_version": "1.5.0",
      "_view_name": "HTMLView",
      "description": "",
      "description_tooltip": null,
      "layout": "IPY_MODEL_a7cf0896fbfc4fe596ba21c93950a001",
      "placeholder": "​",
      "style": "IPY_MODEL_3c31d591e90543c0b5b4fc47fc1a1261",
      "value": " 543M/543M [00:15&lt;00:00, 36.2MB/s]"
     }
    },
    "69eb8c32f7be4b218f116276082fd1de": {
     "model_module": "@jupyter-widgets/controls",
     "model_name": "ProgressStyleModel",
     "state": {
      "_model_module": "@jupyter-widgets/controls",
      "_model_module_version": "1.5.0",
      "_model_name": "ProgressStyleModel",
      "_view_count": null,
      "_view_module": "@jupyter-widgets/base",
      "_view_module_version": "1.2.0",
      "_view_name": "StyleView",
      "bar_color": null,
      "description_width": "initial"
     }
    },
    "7506aa47517b4144b51694c769e20964": {
     "model_module": "@jupyter-widgets/controls",
     "model_name": "ProgressStyleModel",
     "state": {
      "_model_module": "@jupyter-widgets/controls",
      "_model_module_version": "1.5.0",
      "_model_name": "ProgressStyleModel",
      "_view_count": null,
      "_view_module": "@jupyter-widgets/base",
      "_view_module_version": "1.2.0",
      "_view_name": "StyleView",
      "bar_color": null,
      "description_width": "initial"
     }
    },
    "7cd83af75796401db297918a0183c4f6": {
     "model_module": "@jupyter-widgets/controls",
     "model_name": "HBoxModel",
     "state": {
      "_dom_classes": [],
      "_model_module": "@jupyter-widgets/controls",
      "_model_module_version": "1.5.0",
      "_model_name": "HBoxModel",
      "_view_count": null,
      "_view_module": "@jupyter-widgets/controls",
      "_view_module_version": "1.5.0",
      "_view_name": "HBoxView",
      "box_style": "",
      "children": [
       "IPY_MODEL_253e71decfd244d2b2e7ad10622e8f63",
       "IPY_MODEL_5f916632b31d4f2d9b0b7ca99a8e36a4"
      ],
      "layout": "IPY_MODEL_1245c34f845648659396a191b97c8a78"
     }
    },
    "855ec0f1a0a24f1abcc802fc6a608faa": {
     "model_module": "@jupyter-widgets/controls",
     "model_name": "DescriptionStyleModel",
     "state": {
      "_model_module": "@jupyter-widgets/controls",
      "_model_module_version": "1.5.0",
      "_model_name": "DescriptionStyleModel",
      "_view_count": null,
      "_view_module": "@jupyter-widgets/base",
      "_view_module_version": "1.2.0",
      "_view_name": "StyleView",
      "description_width": ""
     }
    },
    "883fbeb0f53d4b418e76825e0a985245": {
     "model_module": "@jupyter-widgets/base",
     "model_name": "LayoutModel",
     "state": {
      "_model_module": "@jupyter-widgets/base",
      "_model_module_version": "1.2.0",
      "_model_name": "LayoutModel",
      "_view_count": null,
      "_view_module": "@jupyter-widgets/base",
      "_view_module_version": "1.2.0",
      "_view_name": "LayoutView",
      "align_content": null,
      "align_items": null,
      "align_self": null,
      "border": null,
      "bottom": null,
      "display": null,
      "flex": null,
      "flex_flow": null,
      "grid_area": null,
      "grid_auto_columns": null,
      "grid_auto_flow": null,
      "grid_auto_rows": null,
      "grid_column": null,
      "grid_gap": null,
      "grid_row": null,
      "grid_template_areas": null,
      "grid_template_columns": null,
      "grid_template_rows": null,
      "height": null,
      "justify_content": null,
      "justify_items": null,
      "left": null,
      "margin": null,
      "max_height": null,
      "max_width": null,
      "min_height": null,
      "min_width": null,
      "object_fit": null,
      "object_position": null,
      "order": null,
      "overflow": null,
      "overflow_x": null,
      "overflow_y": null,
      "padding": null,
      "right": null,
      "top": null,
      "visibility": null,
      "width": null
     }
    },
    "9033d8e337dd4256acf944cc866f23bc": {
     "model_module": "@jupyter-widgets/base",
     "model_name": "LayoutModel",
     "state": {
      "_model_module": "@jupyter-widgets/base",
      "_model_module_version": "1.2.0",
      "_model_name": "LayoutModel",
      "_view_count": null,
      "_view_module": "@jupyter-widgets/base",
      "_view_module_version": "1.2.0",
      "_view_name": "LayoutView",
      "align_content": null,
      "align_items": null,
      "align_self": null,
      "border": null,
      "bottom": null,
      "display": null,
      "flex": null,
      "flex_flow": null,
      "grid_area": null,
      "grid_auto_columns": null,
      "grid_auto_flow": null,
      "grid_auto_rows": null,
      "grid_column": null,
      "grid_gap": null,
      "grid_row": null,
      "grid_template_areas": null,
      "grid_template_columns": null,
      "grid_template_rows": null,
      "height": null,
      "justify_content": null,
      "justify_items": null,
      "left": null,
      "margin": null,
      "max_height": null,
      "max_width": null,
      "min_height": null,
      "min_width": null,
      "object_fit": null,
      "object_position": null,
      "order": null,
      "overflow": null,
      "overflow_x": null,
      "overflow_y": null,
      "padding": null,
      "right": null,
      "top": null,
      "visibility": null,
      "width": null
     }
    },
    "925fa889a24d45e6a5068e0a1c37466b": {
     "model_module": "@jupyter-widgets/controls",
     "model_name": "FloatProgressModel",
     "state": {
      "_dom_classes": [],
      "_model_module": "@jupyter-widgets/controls",
      "_model_module_version": "1.5.0",
      "_model_name": "FloatProgressModel",
      "_view_count": null,
      "_view_module": "@jupyter-widgets/controls",
      "_view_module_version": "1.5.0",
      "_view_name": "ProgressView",
      "bar_style": "success",
      "description": "Downloading: 100%",
      "description_tooltip": null,
      "layout": "IPY_MODEL_9033d8e337dd4256acf944cc866f23bc",
      "max": 843438,
      "min": 0,
      "orientation": "horizontal",
      "style": "IPY_MODEL_69eb8c32f7be4b218f116276082fd1de",
      "value": 843438
     }
    },
    "987a91f61d0d4fd38bca873416ebd97d": {
     "model_module": "@jupyter-widgets/base",
     "model_name": "LayoutModel",
     "state": {
      "_model_module": "@jupyter-widgets/base",
      "_model_module_version": "1.2.0",
      "_model_name": "LayoutModel",
      "_view_count": null,
      "_view_module": "@jupyter-widgets/base",
      "_view_module_version": "1.2.0",
      "_view_name": "LayoutView",
      "align_content": null,
      "align_items": null,
      "align_self": null,
      "border": null,
      "bottom": null,
      "display": null,
      "flex": null,
      "flex_flow": null,
      "grid_area": null,
      "grid_auto_columns": null,
      "grid_auto_flow": null,
      "grid_auto_rows": null,
      "grid_column": null,
      "grid_gap": null,
      "grid_row": null,
      "grid_template_areas": null,
      "grid_template_columns": null,
      "grid_template_rows": null,
      "height": null,
      "justify_content": null,
      "justify_items": null,
      "left": null,
      "margin": null,
      "max_height": null,
      "max_width": null,
      "min_height": null,
      "min_width": null,
      "object_fit": null,
      "object_position": null,
      "order": null,
      "overflow": null,
      "overflow_x": null,
      "overflow_y": null,
      "padding": null,
      "right": null,
      "top": null,
      "visibility": null,
      "width": null
     }
    },
    "9c78230bb5ad46ad8f730c965263ce8f": {
     "model_module": "@jupyter-widgets/controls",
     "model_name": "FloatProgressModel",
     "state": {
      "_dom_classes": [],
      "_model_module": "@jupyter-widgets/controls",
      "_model_module_version": "1.5.0",
      "_model_name": "FloatProgressModel",
      "_view_count": null,
      "_view_module": "@jupyter-widgets/controls",
      "_view_module_version": "1.5.0",
      "_view_name": "ProgressView",
      "bar_style": "success",
      "description": "Downloading: 100%",
      "description_tooltip": null,
      "layout": "IPY_MODEL_3e4bed5847a641428d2b87e2aea3a16e",
      "max": 1078931,
      "min": 0,
      "orientation": "horizontal",
      "style": "IPY_MODEL_2eb8ef8659af4cfba2891fde0a73a538",
      "value": 1078931
     }
    },
    "a56b9e1ea2a3474dbdbec7119ea70341": {
     "model_module": "@jupyter-widgets/controls",
     "model_name": "DescriptionStyleModel",
     "state": {
      "_model_module": "@jupyter-widgets/controls",
      "_model_module_version": "1.5.0",
      "_model_name": "DescriptionStyleModel",
      "_view_count": null,
      "_view_module": "@jupyter-widgets/base",
      "_view_module_version": "1.2.0",
      "_view_name": "StyleView",
      "description_width": ""
     }
    },
    "a7b81a580f1a4c23b63454da73b00654": {
     "model_module": "@jupyter-widgets/base",
     "model_name": "LayoutModel",
     "state": {
      "_model_module": "@jupyter-widgets/base",
      "_model_module_version": "1.2.0",
      "_model_name": "LayoutModel",
      "_view_count": null,
      "_view_module": "@jupyter-widgets/base",
      "_view_module_version": "1.2.0",
      "_view_name": "LayoutView",
      "align_content": null,
      "align_items": null,
      "align_self": null,
      "border": null,
      "bottom": null,
      "display": null,
      "flex": null,
      "flex_flow": null,
      "grid_area": null,
      "grid_auto_columns": null,
      "grid_auto_flow": null,
      "grid_auto_rows": null,
      "grid_column": null,
      "grid_gap": null,
      "grid_row": null,
      "grid_template_areas": null,
      "grid_template_columns": null,
      "grid_template_rows": null,
      "height": null,
      "justify_content": null,
      "justify_items": null,
      "left": null,
      "margin": null,
      "max_height": null,
      "max_width": null,
      "min_height": null,
      "min_width": null,
      "object_fit": null,
      "object_position": null,
      "order": null,
      "overflow": null,
      "overflow_x": null,
      "overflow_y": null,
      "padding": null,
      "right": null,
      "top": null,
      "visibility": null,
      "width": null
     }
    },
    "a7cf0896fbfc4fe596ba21c93950a001": {
     "model_module": "@jupyter-widgets/base",
     "model_name": "LayoutModel",
     "state": {
      "_model_module": "@jupyter-widgets/base",
      "_model_module_version": "1.2.0",
      "_model_name": "LayoutModel",
      "_view_count": null,
      "_view_module": "@jupyter-widgets/base",
      "_view_module_version": "1.2.0",
      "_view_name": "LayoutView",
      "align_content": null,
      "align_items": null,
      "align_self": null,
      "border": null,
      "bottom": null,
      "display": null,
      "flex": null,
      "flex_flow": null,
      "grid_area": null,
      "grid_auto_columns": null,
      "grid_auto_flow": null,
      "grid_auto_rows": null,
      "grid_column": null,
      "grid_gap": null,
      "grid_row": null,
      "grid_template_areas": null,
      "grid_template_columns": null,
      "grid_template_rows": null,
      "height": null,
      "justify_content": null,
      "justify_items": null,
      "left": null,
      "margin": null,
      "max_height": null,
      "max_width": null,
      "min_height": null,
      "min_width": null,
      "object_fit": null,
      "object_position": null,
      "order": null,
      "overflow": null,
      "overflow_x": null,
      "overflow_y": null,
      "padding": null,
      "right": null,
      "top": null,
      "visibility": null,
      "width": null
     }
    },
    "a9d795aeecf541bda92fb5663087e46c": {
     "model_module": "@jupyter-widgets/controls",
     "model_name": "HBoxModel",
     "state": {
      "_dom_classes": [],
      "_model_module": "@jupyter-widgets/controls",
      "_model_module_version": "1.5.0",
      "_model_name": "HBoxModel",
      "_view_count": null,
      "_view_module": "@jupyter-widgets/controls",
      "_view_module_version": "1.5.0",
      "_view_name": "HBoxView",
      "box_style": "",
      "children": [
       "IPY_MODEL_925fa889a24d45e6a5068e0a1c37466b",
       "IPY_MODEL_53b614d33d0149148bcfe05fb3b72c3f"
      ],
      "layout": "IPY_MODEL_883fbeb0f53d4b418e76825e0a985245"
     }
    },
    "c26ca44376b3422f8cfca45de3562422": {
     "model_module": "@jupyter-widgets/base",
     "model_name": "LayoutModel",
     "state": {
      "_model_module": "@jupyter-widgets/base",
      "_model_module_version": "1.2.0",
      "_model_name": "LayoutModel",
      "_view_count": null,
      "_view_module": "@jupyter-widgets/base",
      "_view_module_version": "1.2.0",
      "_view_name": "LayoutView",
      "align_content": null,
      "align_items": null,
      "align_self": null,
      "border": null,
      "bottom": null,
      "display": null,
      "flex": null,
      "flex_flow": null,
      "grid_area": null,
      "grid_auto_columns": null,
      "grid_auto_flow": null,
      "grid_auto_rows": null,
      "grid_column": null,
      "grid_gap": null,
      "grid_row": null,
      "grid_template_areas": null,
      "grid_template_columns": null,
      "grid_template_rows": null,
      "height": null,
      "justify_content": null,
      "justify_items": null,
      "left": null,
      "margin": null,
      "max_height": null,
      "max_width": null,
      "min_height": null,
      "min_width": null,
      "object_fit": null,
      "object_position": null,
      "order": null,
      "overflow": null,
      "overflow_x": null,
      "overflow_y": null,
      "padding": null,
      "right": null,
      "top": null,
      "visibility": null,
      "width": null
     }
    },
    "c7118f828d8e4671ba3499b85359c75e": {
     "model_module": "@jupyter-widgets/controls",
     "model_name": "HBoxModel",
     "state": {
      "_dom_classes": [],
      "_model_module": "@jupyter-widgets/controls",
      "_model_module_version": "1.5.0",
      "_model_name": "HBoxModel",
      "_view_count": null,
      "_view_module": "@jupyter-widgets/controls",
      "_view_module_version": "1.5.0",
      "_view_name": "HBoxView",
      "box_style": "",
      "children": [
       "IPY_MODEL_9c78230bb5ad46ad8f730c965263ce8f",
       "IPY_MODEL_cae51195bb1647908988825634623aca"
      ],
      "layout": "IPY_MODEL_14cf50d6f2a24ad0943474f3683b74dc"
     }
    },
    "cae51195bb1647908988825634623aca": {
     "model_module": "@jupyter-widgets/controls",
     "model_name": "HTMLModel",
     "state": {
      "_dom_classes": [],
      "_model_module": "@jupyter-widgets/controls",
      "_model_module_version": "1.5.0",
      "_model_name": "HTMLModel",
      "_view_count": null,
      "_view_module": "@jupyter-widgets/controls",
      "_view_module_version": "1.5.0",
      "_view_name": "HTMLView",
      "description": "",
      "description_tooltip": null,
      "layout": "IPY_MODEL_e843ac0d5b6348f9b165919732869670",
      "placeholder": "​",
      "style": "IPY_MODEL_129c00429b224c91b7d9da5725119a47",
      "value": " 1.08M/1.08M [00:00&lt;00:00, 1.83MB/s]"
     }
    },
    "d4812f62a2724ad29e7a0b0b6f92f204": {
     "model_module": "@jupyter-widgets/base",
     "model_name": "LayoutModel",
     "state": {
      "_model_module": "@jupyter-widgets/base",
      "_model_module_version": "1.2.0",
      "_model_name": "LayoutModel",
      "_view_count": null,
      "_view_module": "@jupyter-widgets/base",
      "_view_module_version": "1.2.0",
      "_view_name": "LayoutView",
      "align_content": null,
      "align_items": null,
      "align_self": null,
      "border": null,
      "bottom": null,
      "display": null,
      "flex": null,
      "flex_flow": null,
      "grid_area": null,
      "grid_auto_columns": null,
      "grid_auto_flow": null,
      "grid_auto_rows": null,
      "grid_column": null,
      "grid_gap": null,
      "grid_row": null,
      "grid_template_areas": null,
      "grid_template_columns": null,
      "grid_template_rows": null,
      "height": null,
      "justify_content": null,
      "justify_items": null,
      "left": null,
      "margin": null,
      "max_height": null,
      "max_width": null,
      "min_height": null,
      "min_width": null,
      "object_fit": null,
      "object_position": null,
      "order": null,
      "overflow": null,
      "overflow_x": null,
      "overflow_y": null,
      "padding": null,
      "right": null,
      "top": null,
      "visibility": null,
      "width": null
     }
    },
    "e843ac0d5b6348f9b165919732869670": {
     "model_module": "@jupyter-widgets/base",
     "model_name": "LayoutModel",
     "state": {
      "_model_module": "@jupyter-widgets/base",
      "_model_module_version": "1.2.0",
      "_model_name": "LayoutModel",
      "_view_count": null,
      "_view_module": "@jupyter-widgets/base",
      "_view_module_version": "1.2.0",
      "_view_name": "LayoutView",
      "align_content": null,
      "align_items": null,
      "align_self": null,
      "border": null,
      "bottom": null,
      "display": null,
      "flex": null,
      "flex_flow": null,
      "grid_area": null,
      "grid_auto_columns": null,
      "grid_auto_flow": null,
      "grid_auto_rows": null,
      "grid_column": null,
      "grid_gap": null,
      "grid_row": null,
      "grid_template_areas": null,
      "grid_template_columns": null,
      "grid_template_rows": null,
      "height": null,
      "justify_content": null,
      "justify_items": null,
      "left": null,
      "margin": null,
      "max_height": null,
      "max_width": null,
      "min_height": null,
      "min_width": null,
      "object_fit": null,
      "object_position": null,
      "order": null,
      "overflow": null,
      "overflow_x": null,
      "overflow_y": null,
      "padding": null,
      "right": null,
      "top": null,
      "visibility": null,
      "width": null
     }
    },
    "eecea1d230df404cbaf2341fcd2a81b2": {
     "model_module": "@jupyter-widgets/controls",
     "model_name": "HTMLModel",
     "state": {
      "_dom_classes": [],
      "_model_module": "@jupyter-widgets/controls",
      "_model_module_version": "1.5.0",
      "_model_name": "HTMLModel",
      "_view_count": null,
      "_view_module": "@jupyter-widgets/controls",
      "_view_module_version": "1.5.0",
      "_view_name": "HTMLView",
      "description": "",
      "description_tooltip": null,
      "layout": "IPY_MODEL_987a91f61d0d4fd38bca873416ebd97d",
      "placeholder": "​",
      "style": "IPY_MODEL_855ec0f1a0a24f1abcc802fc6a608faa",
      "value": " 558/558 [00:00&lt;00:00, 12.2kB/s]"
     }
    },
    "f9c4809138814bd9aa6f441b577052c2": {
     "model_module": "@jupyter-widgets/controls",
     "model_name": "HBoxModel",
     "state": {
      "_dom_classes": [],
      "_model_module": "@jupyter-widgets/controls",
      "_model_module_version": "1.5.0",
      "_model_name": "HBoxModel",
      "_view_count": null,
      "_view_module": "@jupyter-widgets/controls",
      "_view_module_version": "1.5.0",
      "_view_name": "HBoxView",
      "box_style": "",
      "children": [
       "IPY_MODEL_57b4c1dc27884510829ae8b70890b27a",
       "IPY_MODEL_eecea1d230df404cbaf2341fcd2a81b2"
      ],
      "layout": "IPY_MODEL_c26ca44376b3422f8cfca45de3562422"
     }
    }
   }
  }
 },
 "nbformat": 4,
 "nbformat_minor": 1
}
